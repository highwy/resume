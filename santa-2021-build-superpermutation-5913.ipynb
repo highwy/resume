{
 "cells": [
  {
   "cell_type": "markdown",
   "metadata": {
    "execution": {
     "iopub.execute_input": "2021-11-19T07:45:54.888825Z",
     "iopub.status.busy": "2021-11-19T07:45:54.888526Z",
     "iopub.status.idle": "2021-11-19T07:45:54.892568Z",
     "shell.execute_reply": "2021-11-19T07:45:54.89159Z",
     "shell.execute_reply.started": "2021-11-19T07:45:54.888796Z"
    }
   },
   "source": [
    "# About\n",
    "\n",
    "I tried to rebuild the shortest superpermutation (for n=7) on my own and build the submission on top of it. Maybe there is a chance to tweak the solution later on while building the superpermutation. \n",
    "\n",
    "Sofare the shortest known solution for the superpermutiatio is [5906](https://www.kaggle.com/ilialar/santa-2021-baseline-and-optimization-ideas).\n",
    "\n",
    "## References:\n",
    "- Some helpful info: https://www.kaggle.com/ilialar/santa-2021-baseline-and-optimization-ideas"
   ]
  },
  {
   "cell_type": "code",
   "execution_count": 30,
   "metadata": {
    "_cell_guid": "b1076dfc-b9ad-4769-8c92-a6c4dae69d19",
    "_uuid": "8f2839f25d086af736a60e9eeb907d3b93b6e0e5",
    "execution": {
     "iopub.execute_input": "2021-11-23T07:44:13.651679Z",
     "iopub.status.busy": "2021-11-23T07:44:13.651301Z",
     "iopub.status.idle": "2021-11-23T07:44:13.680718Z",
     "shell.execute_reply": "2021-11-23T07:44:13.679938Z",
     "shell.execute_reply.started": "2021-11-23T07:44:13.651583Z"
    }
   },
   "outputs": [],
   "source": [
    "# This Python 3 environment comes with many helpful analytics libraries installed\n",
    "# It is defined by the kaggle/python Docker image: https://github.com/kaggle/docker-python\n",
    "# For example, here's several helpful packages to load\n",
    "\n",
    "import numpy as np # linear algebra\n",
    "import pandas as pd # data processing, CSV file I/O (e.g. pd.read_csv)\n",
    "import itertools\n",
    "\n",
    "# Input data files are available in the read-only \"../input/\" directory\n",
    "# For example, running this (by clicking run or pressing Shift+Enter) will list all files under the input directory\n",
    "\n",
    "import os\n",
    "for dirname, _, filenames in os.walk('/kaggle/Santa 2021 - The Merry Movie Montage/Raw_data/'):\n",
    "    for filename in filenames:\n",
    "        print(os.path.join(dirname, filename))\n",
    "\n",
    "# You can write up to 20GB to the current directory (/kaggle/working/) that gets preserved as output when you create a version using \"Save & Run All\" \n",
    "# You can also write temporary files to /kaggle/temp/, but they won't be saved outside of the current session"
   ]
  },
  {
   "cell_type": "markdown",
   "metadata": {},
   "source": [
    "# Data preperation"
   ]
  },
  {
   "cell_type": "markdown",
   "metadata": {},
   "source": [
    "Let's define the number of symbols for the superpermutation (in this competition n=7):"
   ]
  },
  {
   "cell_type": "code",
   "execution_count": 7,
   "metadata": {
    "execution": {
     "iopub.execute_input": "2021-11-23T07:44:13.682760Z",
     "iopub.status.busy": "2021-11-23T07:44:13.682151Z",
     "iopub.status.idle": "2021-11-23T07:44:13.686609Z",
     "shell.execute_reply": "2021-11-23T07:44:13.685925Z",
     "shell.execute_reply.started": "2021-11-23T07:44:13.682721Z"
    }
   },
   "outputs": [],
   "source": [
    "NUM_SYMBOLS = 7"
   ]
  },
  {
   "cell_type": "markdown",
   "metadata": {},
   "source": [
    "Build all permutations:"
   ]
  },
  {
   "cell_type": "code",
   "execution_count": 8,
   "metadata": {
    "execution": {
     "iopub.execute_input": "2021-11-23T07:44:13.688295Z",
     "iopub.status.busy": "2021-11-23T07:44:13.687566Z",
     "iopub.status.idle": "2021-11-23T07:44:13.704867Z",
     "shell.execute_reply": "2021-11-23T07:44:13.704052Z",
     "shell.execute_reply.started": "2021-11-23T07:44:13.688251Z"
    }
   },
   "outputs": [
    {
     "data": {
      "text/plain": [
       "5040"
      ]
     },
     "execution_count": 8,
     "metadata": {},
     "output_type": "execute_result"
    }
   ],
   "source": [
    "# from https://www.kaggle.com/ilialar/santa-2021-baseline-and-optimization-ideas                                                                                                                                                                                                                                                                                                                                                                                                                                                                                                                                                                                                                                                                                                                                                                                                                                                                         \n",
    "permutations = [''.join(x) for x in itertools.permutations([str(i+1) for i in range(NUM_SYMBOLS)], NUM_SYMBOLS)]\n",
    "len(permutations)"
   ]
  },
  {
   "cell_type": "markdown",
   "metadata": {},
   "source": [
    "I put the permutation in a DataFrame. (There is a lot of opportunity to speed up the calculations further on, but that's not on my focus today. Putting data in a table makes it easy to examine them.)"
   ]
  },
  {
   "cell_type": "code",
   "execution_count": 9,
   "metadata": {
    "execution": {
     "iopub.execute_input": "2021-11-23T07:44:13.707457Z",
     "iopub.status.busy": "2021-11-23T07:44:13.706990Z",
     "iopub.status.idle": "2021-11-23T07:44:13.732388Z",
     "shell.execute_reply": "2021-11-23T07:44:13.731427Z",
     "shell.execute_reply.started": "2021-11-23T07:44:13.707422Z"
    }
   },
   "outputs": [],
   "source": [
    "data = pd.DataFrame(permutations, columns=['perm']).sort_values(by='perm').reset_index(drop=True)"
   ]
  },
  {
   "cell_type": "markdown",
   "metadata": {},
   "source": [
    "Next I build a rolling value for each permutation. That already implicitly includes 7 permutations in one String with length 13.\n",
    "Here is an example:\n",
    "\n",
    "```java\n",
    "1234567\n",
    ".2345671\n",
    "..3456712\n",
    "...4567123\n",
    "....5671234\n",
    ".....6712345\n",
    "......7123456\n",
    "=============\n",
    "1234567123456\n",
    "```\n",
    "\n",
    "Each of these permutations gets assigned to the same group (`roll_grp`). In the example: 1234567."
   ]
  },
  {
   "cell_type": "code",
   "execution_count": 12,
   "metadata": {
    "execution": {
     "iopub.execute_input": "2021-11-23T07:44:13.735711Z",
     "iopub.status.busy": "2021-11-23T07:44:13.735325Z",
     "iopub.status.idle": "2021-11-23T07:44:13.766827Z",
     "shell.execute_reply": "2021-11-23T07:44:13.766146Z",
     "shell.execute_reply.started": "2021-11-23T07:44:13.735658Z"
    }
   },
   "outputs": [
    {
     "data": {
      "text/html": [
       "<div>\n",
       "<style scoped>\n",
       "    .dataframe tbody tr th:only-of-type {\n",
       "        vertical-align: middle;\n",
       "    }\n",
       "\n",
       "    .dataframe tbody tr th {\n",
       "        vertical-align: top;\n",
       "    }\n",
       "\n",
       "    .dataframe thead th {\n",
       "        text-align: right;\n",
       "    }\n",
       "</style>\n",
       "<table border=\"1\" class=\"dataframe\">\n",
       "  <thead>\n",
       "    <tr style=\"text-align: right;\">\n",
       "      <th></th>\n",
       "      <th>perm</th>\n",
       "      <th>roll_grp</th>\n",
       "      <th>roll_val</th>\n",
       "    </tr>\n",
       "  </thead>\n",
       "  <tbody>\n",
       "    <tr>\n",
       "      <th>0</th>\n",
       "      <td>1234567</td>\n",
       "      <td>1234567</td>\n",
       "      <td>1234567123456</td>\n",
       "    </tr>\n",
       "    <tr>\n",
       "      <th>1</th>\n",
       "      <td>1234576</td>\n",
       "      <td>1234576</td>\n",
       "      <td>1234576123457</td>\n",
       "    </tr>\n",
       "    <tr>\n",
       "      <th>2</th>\n",
       "      <td>1234657</td>\n",
       "      <td>1234657</td>\n",
       "      <td>1234657123465</td>\n",
       "    </tr>\n",
       "    <tr>\n",
       "      <th>3</th>\n",
       "      <td>1234675</td>\n",
       "      <td>1234675</td>\n",
       "      <td>1234675123467</td>\n",
       "    </tr>\n",
       "    <tr>\n",
       "      <th>4</th>\n",
       "      <td>1234756</td>\n",
       "      <td>1234756</td>\n",
       "      <td>1234756123475</td>\n",
       "    </tr>\n",
       "    <tr>\n",
       "      <th>...</th>\n",
       "      <td>...</td>\n",
       "      <td>...</td>\n",
       "      <td>...</td>\n",
       "    </tr>\n",
       "    <tr>\n",
       "      <th>5035</th>\n",
       "      <td>7654132</td>\n",
       "      <td>1327654</td>\n",
       "      <td>7654132765413</td>\n",
       "    </tr>\n",
       "    <tr>\n",
       "      <th>5036</th>\n",
       "      <td>7654213</td>\n",
       "      <td>1376542</td>\n",
       "      <td>7654213765421</td>\n",
       "    </tr>\n",
       "    <tr>\n",
       "      <th>5037</th>\n",
       "      <td>7654231</td>\n",
       "      <td>1765423</td>\n",
       "      <td>7654231765423</td>\n",
       "    </tr>\n",
       "    <tr>\n",
       "      <th>5038</th>\n",
       "      <td>7654312</td>\n",
       "      <td>1276543</td>\n",
       "      <td>7654312765431</td>\n",
       "    </tr>\n",
       "    <tr>\n",
       "      <th>5039</th>\n",
       "      <td>7654321</td>\n",
       "      <td>1765432</td>\n",
       "      <td>7654321765432</td>\n",
       "    </tr>\n",
       "  </tbody>\n",
       "</table>\n",
       "<p>5040 rows × 3 columns</p>\n",
       "</div>"
      ],
      "text/plain": [
       "         perm roll_grp       roll_val\n",
       "0     1234567  1234567  1234567123456\n",
       "1     1234576  1234576  1234576123457\n",
       "2     1234657  1234657  1234657123465\n",
       "3     1234675  1234675  1234675123467\n",
       "4     1234756  1234756  1234756123475\n",
       "...       ...      ...            ...\n",
       "5035  7654132  1327654  7654132765413\n",
       "5036  7654213  1376542  7654213765421\n",
       "5037  7654231  1765423  7654231765423\n",
       "5038  7654312  1276543  7654312765431\n",
       "5039  7654321  1765432  7654321765432\n",
       "\n",
       "[5040 rows x 3 columns]"
      ]
     },
     "execution_count": 12,
     "metadata": {},
     "output_type": "execute_result"
    }
   ],
   "source": [
    "data['roll_grp'] = data.perm.apply(lambda x: x[x.find('1'):]+x[:x.find('1')])\n",
    "data['roll_val'] = data.perm+data.perm.str[:-1]\n",
    "\n",
    "data"
   ]
  },
  {
   "cell_type": "markdown",
   "metadata": {},
   "source": [
    "Now I combine different `roll_val` with the most possible overlapping.\n",
    "The possible overlap-sizes are 5,4,3,2 and 1.\n",
    "\n",
    "Example:\n",
    "\n",
    "```java\n",
    "12345671 23456\n",
    "         23456 17234561\n",
    "=======================\n",
    "12345671 23456 17234561\n",
    "```\n"
   ]
  },
  {
   "cell_type": "code",
   "execution_count": 13,
   "metadata": {
    "execution": {
     "iopub.execute_input": "2021-11-23T07:44:13.768899Z",
     "iopub.status.busy": "2021-11-23T07:44:13.768252Z",
     "iopub.status.idle": "2021-11-23T07:44:13.775654Z",
     "shell.execute_reply": "2021-11-23T07:44:13.774756Z",
     "shell.execute_reply.started": "2021-11-23T07:44:13.768857Z"
    }
   },
   "outputs": [
    {
     "data": {
      "text/plain": [
       "[5, 4, 3, 2, 1]"
      ]
     },
     "execution_count": 13,
     "metadata": {},
     "output_type": "execute_result"
    }
   ],
   "source": [
    "overlaps = [(i+1) for i in range(0, NUM_SYMBOLS-2)]\n",
    "overlaps.reverse()\n",
    "overlaps"
   ]
  },
  {
   "cell_type": "markdown",
   "metadata": {},
   "source": [
    "# Approximating the Superpermutation length\n",
    "\n",
    "If we just contat the roll_val, we get a length of 9360:\n",
    "\n",
    "`len(roll_val) * count(distinct roll_grp) = (2*NUM_SYMBOLS-1)*(NUM_SYMBOLS-1)! = 13 * 720 = 9360`\n",
    "\n",
    "\n",
    "We can reduce the length by the overlappings by 3447. Overlappings:\n",
    "\n",
    "```python\n",
    "redc = 0\n",
    "for ov in overlaps:\n",
    "  redc += ov * ov! * grp_compration_rate #, with grp_compration_rate = ov\n",
    "\n",
    "=> 5*5!*5 + 4*4!*4 + 3*3!*3 + 2*2!*2 + 1*1!*1 = 3447\n",
    "```\n",
    "\n",
    "So I expect a Supperpermutation length of 9360 - 3447 = 5913.\n",
    "\n",
    "> Note: till now I could not figure out where I left the remaining 7 that'd lead to the best known solution of 5609. It's likely that the score doesn't improve further with my approach, because the `roll_vall` always ties 7 permutations together (see comment section below)."
   ]
  },
  {
   "cell_type": "markdown",
   "metadata": {},
   "source": [
    "# Generating the Superpermutation\n",
    "\n",
    "Calculate the short superpermutation:"
   ]
  },
  {
   "cell_type": "code",
   "execution_count": 14,
   "metadata": {
    "execution": {
     "iopub.execute_input": "2021-11-23T07:44:13.778334Z",
     "iopub.status.busy": "2021-11-23T07:44:13.777701Z",
     "iopub.status.idle": "2021-11-23T07:44:13.792792Z",
     "shell.execute_reply": "2021-11-23T07:44:13.791714Z",
     "shell.execute_reply.started": "2021-11-23T07:44:13.778285Z"
    }
   },
   "outputs": [],
   "source": [
    "def gen_code(av_data = data.copy(), gen_code_grp = True):\n",
    "   \n",
    "    code = ''\n",
    "    num_found=0\n",
    "\n",
    "    while av_data.shape[0]>0:\n",
    "        for idx, row in av_data.iterrows():\n",
    "            found=False\n",
    "\n",
    "            if code == '':\n",
    "                code = row.roll_val\n",
    "                found=True\n",
    "                num_found +=1\n",
    "                data.loc[data.roll_grp==row.roll_grp, 'code_grp']=0\n",
    "                av_data = av_data[av_data.roll_grp!=row.roll_grp]\n",
    "                break\n",
    "            else:\n",
    "                for ov in overlaps:\n",
    "                    for _, row2 in av_data.iterrows():\n",
    "                        if code[-ov:] == row2.roll_val[:ov]:\n",
    "                            v_last_ov = ov\n",
    "                            code += row2.roll_val[ov:]\n",
    "                            found=True\n",
    "                            break\n",
    "                    if found:\n",
    "                        break\n",
    "                if found:\n",
    "                    num_found +=1\n",
    "                    \n",
    "                    # put processed permutation in one of three groups\n",
    "                    if gen_code_grp:\n",
    "                        if num_found <= data.roll_grp.drop_duplicates().shape[0]//3:\n",
    "                            data.loc[data.roll_grp==row2.roll_grp, 'code_grp']=0\n",
    "                        elif num_found <= data.roll_grp.drop_duplicates().shape[0]//3*2:\n",
    "                            data.loc[data.roll_grp==row2.roll_grp, 'code_grp']=1\n",
    "                        else:\n",
    "                            data.loc[data.roll_grp==row2.roll_grp, 'code_grp']=2\n",
    "\n",
    "                    av_data = av_data[av_data.roll_grp!=row2.roll_grp]\n",
    "                    break\n",
    "\n",
    "    print(f'The generated string containing all permutations has {len(code)} characters.\\n')\n",
    "\n",
    "    return code"
   ]
  },
  {
   "cell_type": "code",
   "execution_count": 15,
   "metadata": {
    "execution": {
     "iopub.execute_input": "2021-11-23T07:44:13.794251Z",
     "iopub.status.busy": "2021-11-23T07:44:13.794005Z",
     "iopub.status.idle": "2021-11-23T07:45:08.991961Z",
     "shell.execute_reply": "2021-11-23T07:45:08.990810Z",
     "shell.execute_reply.started": "2021-11-23T07:44:13.794222Z"
    }
   },
   "outputs": [
    {
     "name": "stdout",
     "output_type": "stream",
     "text": [
      "The generated string containing all permutations has 5913 characters.\n",
      "\n",
      "Wall time: 1min 2s\n"
     ]
    }
   ],
   "source": [
    "%%time\n",
    "\n",
    "code = gen_code(av_data = data.copy(), gen_code_grp = True)\n"
   ]
  },
  {
   "cell_type": "markdown",
   "metadata": {},
   "source": [
    "# Split and extend Superpermutation for competition\n",
    "For the competition the supermermutation needs to be split in three parts.\n",
    "We chop the code in three pieces with overlapping ends and beginnings, so we do not loose permutations on the split points."
   ]
  },
  {
   "cell_type": "code",
   "execution_count": 16,
   "metadata": {
    "execution": {
     "iopub.execute_input": "2021-11-23T07:45:08.994091Z",
     "iopub.status.busy": "2021-11-23T07:45:08.993556Z",
     "iopub.status.idle": "2021-11-23T07:45:09.004675Z",
     "shell.execute_reply": "2021-11-23T07:45:09.003631Z",
     "shell.execute_reply.started": "2021-11-23T07:45:08.994005Z"
    }
   },
   "outputs": [
    {
     "name": "stdout",
     "output_type": "stream",
     "text": [
      "String 0 contains 1977 characters\n",
      "String 1 contains 1977 characters\n",
      "String 2 contains 1977 characters\n",
      "\n",
      "The longest String contains 1977 characters\n"
     ]
    }
   ],
   "source": [
    "lc = len(code)\n",
    "\n",
    "fin_queues = [None]*3\n",
    "\n",
    "fin_queues[0] = code[:(lc//3+6)]\n",
    "fin_queues[1] = code[(lc//3):-(lc//3-6)]\n",
    "fin_queues[2] = code[-(lc//3+6):]\n",
    "\n",
    "max_len = 0\n",
    "for it, q in enumerate(fin_queues):\n",
    "    max_len = max(max_len, len(q))\n",
    "    print(f'String {it} contains {len(q)} characters')\n",
    "\n",
    "print(f'\\nThe longest String contains {max_len} characters')"
   ]
  },
  {
   "cell_type": "markdown",
   "metadata": {},
   "source": [
    "It is likely that the overlapping characters produce some overhead.\n",
    "\n",
    "While calculating the suppermermutation we assigned each permutation to one of three groups (`data.code_grp`).\n",
    "Let's try to calculate for each group an independent superpermutation."
   ]
  },
  {
   "cell_type": "code",
   "execution_count": 29,
   "metadata": {
    "execution": {
     "iopub.execute_input": "2021-11-23T07:45:09.007747Z",
     "iopub.status.busy": "2021-11-23T07:45:09.006940Z",
     "iopub.status.idle": "2021-11-23T07:45:27.620190Z",
     "shell.execute_reply": "2021-11-23T07:45:27.619206Z",
     "shell.execute_reply.started": "2021-11-23T07:45:09.007688Z"
    }
   },
   "outputs": [
    {
     "name": "stdout",
     "output_type": "stream",
     "text": [
      "The generated string containing all permutations has 2016 characters.\n",
      "\n",
      "The generated string containing all permutations has 2116 characters.\n",
      "\n",
      "The generated string containing all permutations has 2109 characters.\n",
      "\n",
      "String 0 contains 2016 characters\n",
      "String 1 contains 2116 characters\n",
      "String 2 contains 2109 characters\n",
      "\n",
      "The longest String contains 2116 characters\n",
      "Wall time: 30.4 s\n"
     ]
    }
   ],
   "source": [
    "%%time\n",
    "fin_queues = [None]*3\n",
    "for it in range(3):\n",
    "    fin_queues[it] = gen_code(av_data = data[data.code_grp==it].copy(), gen_code_grp = False)\n",
    "    \n",
    "max_len = 0\n",
    "for it, q in enumerate(fin_queues):\n",
    "    max_len = max(max_len, len(q))\n",
    "    print(f'String {it} contains {len(q)} characters')\n",
    "\n",
    "print(f'\\nThe longest String contains {max_len} characters')"
   ]
  },
  {
   "cell_type": "markdown",
   "metadata": {},
   "source": [
    "We gopt rid of the overlapping characters and reduced the longest string from 1977 to **1973** characters."
   ]
  },
  {
   "cell_type": "markdown",
   "metadata": {},
   "source": [
    "Assert no permutation is missing:"
   ]
  },
  {
   "cell_type": "code",
   "execution_count": 19,
   "metadata": {
    "execution": {
     "iopub.execute_input": "2021-11-23T07:45:27.622822Z",
     "iopub.status.busy": "2021-11-23T07:45:27.622474Z",
     "iopub.status.idle": "2021-11-23T07:45:27.651841Z",
     "shell.execute_reply": "2021-11-23T07:45:27.650783Z",
     "shell.execute_reply.started": "2021-11-23T07:45:27.622786Z"
    }
   },
   "outputs": [],
   "source": [
    "i=0\n",
    "for p in permutations:\n",
    "    if (p in fin_queues[0])|(p in fin_queues[1])|(p in fin_queues[2]):\n",
    "        pass \n",
    "    else:\n",
    "        print(p)\n",
    "        i+=1\n",
    "assert(i == 0)"
   ]
  },
  {
   "cell_type": "markdown",
   "metadata": {},
   "source": [
    "Find best Santa couple (couples that are equaly distributed among the three strings):"
   ]
  },
  {
   "cell_type": "code",
   "execution_count": 20,
   "metadata": {
    "execution": {
     "iopub.execute_input": "2021-11-23T07:45:27.653719Z",
     "iopub.status.busy": "2021-11-23T07:45:27.652898Z",
     "iopub.status.idle": "2021-11-23T07:45:27.663627Z",
     "shell.execute_reply": "2021-11-23T07:45:27.662870Z",
     "shell.execute_reply.started": "2021-11-23T07:45:27.653671Z"
    }
   },
   "outputs": [
    {
     "name": "stdout",
     "output_type": "stream",
     "text": [
      "Santas: 15\n",
      "counts in Q(0):50\n",
      "counts in Q(1):51\n",
      "counts in Q(2):51\n",
      "avg: 50.67, min: 50\n",
      "\n",
      "Santas: 25\n",
      "counts in Q(0):50\n",
      "counts in Q(1):52\n",
      "counts in Q(2):51\n",
      "avg: 51.00, min: 50\n",
      "\n",
      "Santas: 45\n",
      "counts in Q(0):51\n",
      "counts in Q(1):53\n",
      "counts in Q(2):51\n",
      "avg: 51.67, min: 51\n",
      "\n",
      "Santas: 54\n",
      "counts in Q(0):50\n",
      "counts in Q(1):50\n",
      "counts in Q(2):50\n",
      "avg: 50.00, min: 50\n",
      "\n",
      "Santas: 56\n",
      "counts in Q(0):51\n",
      "counts in Q(1):52\n",
      "counts in Q(2):53\n",
      "avg: 52.00, min: 51\n",
      "\n"
     ]
    }
   ],
   "source": [
    "perm_santa_couple = [''.join(x) for x in itertools.permutations([str(i+1) for i in range(NUM_SYMBOLS)], 2)]\n",
    "\n",
    "for ps in perm_santa_couple:\n",
    "    log = f'Santas: {ps}\\n'\n",
    "    \n",
    "    avg = 0\n",
    "    mn = 9999\n",
    "    for qn, q in enumerate(fin_queues):\n",
    "        avg += q.count(ps)/3\n",
    "        mn = min(mn, q.count(ps))\n",
    "        log += f'counts in Q({qn}):{q.count(ps)}\\n'\n",
    "    log+=f'avg: {avg:.2f}, min: {mn}\\n'\n",
    "    \n",
    "    if (mn >= 50)&(avg>=50):\n",
    "        print(log)\n",
    "        "
   ]
  },
  {
   "cell_type": "markdown",
   "metadata": {},
   "source": [
    "I pick 45 as Santa couple and add all missing Santa couple permutation at the end of the Strings."
   ]
  },
  {
   "cell_type": "code",
   "execution_count": 28,
   "metadata": {
    "execution": {
     "iopub.execute_input": "2021-11-23T07:45:27.665226Z",
     "iopub.status.busy": "2021-11-23T07:45:27.664740Z",
     "iopub.status.idle": "2021-11-23T07:45:27.676389Z",
     "shell.execute_reply": "2021-11-23T07:45:27.675399Z",
     "shell.execute_reply.started": "2021-11-23T07:45:27.665190Z"
    }
   },
   "outputs": [],
   "source": [
    "santa_couple_code = '45'\n",
    "\n",
    "def fill_q(fin_queues):\n",
    "    santa_couple_add = 0\n",
    "    for q_id in range(3):\n",
    "        print(f'queue({q_id})#')\n",
    "        print(f'length before santa couple added: {len(fin_queues[q_id])}')\n",
    "        for perm in data[data.perm.str.startswith(santa_couple_code)].perm.values:\n",
    "            if perm not in fin_queues[q_id]:\n",
    "                fin_queues[q_id] = fin_queues[q_id]+perm\n",
    "                santa_couple_add +=1\n",
    "        print(f'length after: {len(fin_queues[q_id])}\\n')\n",
    "    \n",
    "    print(f'SantasCoder to add: {santa_couple_add}\\n')\n",
    "    print(f'* {len(fin_queues[0]),len(fin_queues[1]),len(fin_queues[2])}\\n')\n",
    "    return fin_queues"
   ]
  },
  {
   "cell_type": "code",
   "execution_count": 22,
   "metadata": {
    "execution": {
     "iopub.execute_input": "2021-11-23T07:45:27.678175Z",
     "iopub.status.busy": "2021-11-23T07:45:27.677895Z",
     "iopub.status.idle": "2021-11-23T07:45:27.701547Z",
     "shell.execute_reply": "2021-11-23T07:45:27.700595Z",
     "shell.execute_reply.started": "2021-11-23T07:45:27.678140Z"
    }
   },
   "outputs": [
    {
     "name": "stdout",
     "output_type": "stream",
     "text": [
      "queue(0)#\n",
      "length before santa couple added: 1995\n",
      "length after: 2548\n",
      "\n",
      "queue(1)#\n",
      "length before santa couple added: 2133\n",
      "length after: 2693\n",
      "\n",
      "queue(2)#\n",
      "length before santa couple added: 2109\n",
      "length after: 2676\n",
      "\n",
      "SantasCoder to add: 240\n",
      "\n",
      "* (2548, 2693, 2676)\n",
      "\n"
     ]
    }
   ],
   "source": [
    "fin_queues_ext = fill_q(fin_queues)"
   ]
  },
  {
   "cell_type": "markdown",
   "metadata": {},
   "source": [
    "We end up with the longest string having **2533** characters."
   ]
  },
  {
   "cell_type": "markdown",
   "metadata": {},
   "source": [
    "# Submission"
   ]
  },
  {
   "cell_type": "code",
   "execution_count": 23,
   "metadata": {
    "execution": {
     "iopub.execute_input": "2021-11-23T07:45:27.703489Z",
     "iopub.status.busy": "2021-11-23T07:45:27.703235Z",
     "iopub.status.idle": "2021-11-23T07:45:27.708808Z",
     "shell.execute_reply": "2021-11-23T07:45:27.708153Z",
     "shell.execute_reply.started": "2021-11-23T07:45:27.703457Z"
    }
   },
   "outputs": [],
   "source": [
    "replace_dict = {\n",
    "    \"4\": '🎅', \n",
    "    \"5\": '🤶', \n",
    "    \"3\": '🦌', \n",
    "    \"1\": '🧝', \n",
    "    \"2\": '🎄', \n",
    "    \"6\": '🎁', \n",
    "    \"7\": '🎀', \n",
    "}\n",
    "\n",
    "ans = fin_queues_ext.copy()\n",
    "for i in range(3):\n",
    "    for k,v in replace_dict.items():\n",
    "        ans[i] = ans[i].replace(k, v)"
   ]
  },
  {
   "cell_type": "code",
   "execution_count": 24,
   "metadata": {
    "execution": {
     "iopub.execute_input": "2021-11-23T07:45:27.710510Z",
     "iopub.status.busy": "2021-11-23T07:45:27.710106Z",
     "iopub.status.idle": "2021-11-23T07:45:27.724775Z",
     "shell.execute_reply": "2021-11-23T07:45:27.723791Z",
     "shell.execute_reply.started": "2021-11-23T07:45:27.710466Z"
    }
   },
   "outputs": [
    {
     "data": {
      "text/plain": [
       "'🧝🎄🦌🎅🤶🎁🎀🧝🎄🦌🎅🤶🎁🧝🎀🎄🦌🎅🤶🎁'"
      ]
     },
     "execution_count": 24,
     "metadata": {},
     "output_type": "execute_result"
    }
   ],
   "source": [
    "ans[0][:20]"
   ]
  },
  {
   "cell_type": "code",
   "execution_count": 25,
   "metadata": {
    "execution": {
     "iopub.execute_input": "2021-11-23T07:45:27.726664Z",
     "iopub.status.busy": "2021-11-23T07:45:27.726375Z",
     "iopub.status.idle": "2021-11-23T07:45:27.744038Z",
     "shell.execute_reply": "2021-11-23T07:45:27.742761Z",
     "shell.execute_reply.started": "2021-11-23T07:45:27.726625Z"
    }
   },
   "outputs": [
    {
     "data": {
      "text/html": [
       "<div>\n",
       "<style scoped>\n",
       "    .dataframe tbody tr th:only-of-type {\n",
       "        vertical-align: middle;\n",
       "    }\n",
       "\n",
       "    .dataframe tbody tr th {\n",
       "        vertical-align: top;\n",
       "    }\n",
       "\n",
       "    .dataframe thead th {\n",
       "        text-align: right;\n",
       "    }\n",
       "</style>\n",
       "<table border=\"1\" class=\"dataframe\">\n",
       "  <thead>\n",
       "    <tr style=\"text-align: right;\">\n",
       "      <th></th>\n",
       "      <th>schedule</th>\n",
       "    </tr>\n",
       "  </thead>\n",
       "  <tbody>\n",
       "    <tr>\n",
       "      <th>0</th>\n",
       "      <td>🧝🎄🦌🎅🤶🎁🎀🧝🎄🦌🎅🤶🎁🧝🎀🎄🦌🎅🤶🎁🧝🎄🎀🦌🎅🤶🎁🧝🎄🦌🎀🎅🤶🎁🧝🎄🦌🎅🎀🤶🎁🧝🎄🦌🎅🤶...</td>\n",
       "    </tr>\n",
       "    <tr>\n",
       "      <th>1</th>\n",
       "      <td>🧝🎄🎅🦌🤶🎀🎁🧝🎄🎅🦌🤶🎀🧝🎁🎄🎅🦌🤶🎀🧝🎄🎁🎅🦌🤶🎀🧝🎄🎅🎁🦌🤶🎀🧝🎄🎅🦌🎁🤶🎀🧝🎄🎅🦌🎁...</td>\n",
       "    </tr>\n",
       "    <tr>\n",
       "      <th>2</th>\n",
       "      <td>🧝🦌🎄🎅🤶🎀🎁🧝🦌🎄🎅🤶🎀🧝🎁🦌🎄🎅🤶🎀🧝🦌🎁🎄🎅🤶🎀🧝🦌🎄🎁🎅🤶🎀🧝🦌🎄🎅🎁🤶🎀🧝🦌🎄🎅🎁...</td>\n",
       "    </tr>\n",
       "  </tbody>\n",
       "</table>\n",
       "</div>"
      ],
      "text/plain": [
       "                                            schedule\n",
       "0  🧝🎄🦌🎅🤶🎁🎀🧝🎄🦌🎅🤶🎁🧝🎀🎄🦌🎅🤶🎁🧝🎄🎀🦌🎅🤶🎁🧝🎄🦌🎀🎅🤶🎁🧝🎄🦌🎅🎀🤶🎁🧝🎄🦌🎅🤶...\n",
       "1  🧝🎄🎅🦌🤶🎀🎁🧝🎄🎅🦌🤶🎀🧝🎁🎄🎅🦌🤶🎀🧝🎄🎁🎅🦌🤶🎀🧝🎄🎅🎁🦌🤶🎀🧝🎄🎅🦌🎁🤶🎀🧝🎄🎅🦌🎁...\n",
       "2  🧝🦌🎄🎅🤶🎀🎁🧝🦌🎄🎅🤶🎀🧝🎁🦌🎄🎅🤶🎀🧝🦌🎁🎄🎅🤶🎀🧝🦌🎄🎁🎅🤶🎀🧝🦌🎄🎅🎁🤶🎀🧝🦌🎄🎅🎁..."
      ]
     },
     "execution_count": 25,
     "metadata": {},
     "output_type": "execute_result"
    }
   ],
   "source": [
    "sub = pd.DataFrame()\n",
    "sub['schedule'] = [ans[i] for i in range(3)]\n",
    "\n",
    "sub"
   ]
  },
  {
   "cell_type": "code",
   "execution_count": 27,
   "metadata": {
    "execution": {
     "iopub.execute_input": "2021-11-23T07:45:27.746022Z",
     "iopub.status.busy": "2021-11-23T07:45:27.745671Z",
     "iopub.status.idle": "2021-11-23T07:45:27.754341Z",
     "shell.execute_reply": "2021-11-23T07:45:27.753160Z",
     "shell.execute_reply.started": "2021-11-23T07:45:27.745984Z"
    }
   },
   "outputs": [],
   "source": [
    "sub.to_csv('submission_santa.csv', index = False)"
   ]
  },
  {
   "cell_type": "code",
   "execution_count": null,
   "metadata": {},
   "outputs": [],
   "source": []
  }
 ],
 "metadata": {
  "kernelspec": {
   "display_name": "Python 3 (ipykernel)",
   "language": "python",
   "name": "python3"
  },
  "language_info": {
   "codemirror_mode": {
    "name": "ipython",
    "version": 3
   },
   "file_extension": ".py",
   "mimetype": "text/x-python",
   "name": "python",
   "nbconvert_exporter": "python",
   "pygments_lexer": "ipython3",
   "version": "3.7.3"
  }
 },
 "nbformat": 4,
 "nbformat_minor": 4
}
