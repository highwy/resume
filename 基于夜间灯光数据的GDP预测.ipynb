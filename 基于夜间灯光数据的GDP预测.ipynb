{
 "cells": [
  {
   "cell_type": "markdown",
   "metadata": {},
   "source": [
    "## GDP forecast based on noctilucent remote Sensing "
   ]
  },
  {
   "cell_type": "code",
   "execution_count": 1,
   "metadata": {
    "_cell_guid": "b1076dfc-b9ad-4769-8c92-a6c4dae69d19",
    "_uuid": "8f2839f25d086af736a60e9eeb907d3b93b6e0e5",
    "execution": {
     "iopub.execute_input": "2021-05-25T19:51:31.856778Z",
     "iopub.status.busy": "2021-05-25T19:51:31.856411Z",
     "iopub.status.idle": "2021-05-25T19:51:31.996186Z",
     "shell.execute_reply": "2021-05-25T19:51:31.995372Z",
     "shell.execute_reply.started": "2021-05-25T19:51:31.856700Z"
    }
   },
   "outputs": [],
   "source": [
    "# https://www.kaggle.com/code/omkaramilkanthwar/gdp-by-satellite-images\n",
    "# https://www.kaggle.com/code/fbruckschen/spatial-poverty-breakdown-using-nightlights/notebook\n",
    "# https://www.kaggle.com/code/kerneler/starter-country-nightlight-dataset-6050e55d-a\n",
    "# Wu, Y., Shi, K*., Chen, Z., Liu, S., Chang, Z. 2021. Developing time-series of improved DMSP-OLS-like data (1992-2019) in China by integrating DMSP-OLS and SNPP-VIIRS. IEEE Transactions on Geoscience and Remote Sensing 10.1109/TGRS.2021.3135333\n",
    "import numpy as np \n",
    "import pandas as pd \n",
    "import matplotlib.pyplot as plt\n",
    "\n",
    "import os\n",
    "from matplotlib.pyplot import imshow\n",
    "import cv2"
   ]
  },
  {
   "cell_type": "markdown",
   "metadata": {},
   "source": [
    "### About Dataset\n",
    "#### Context\n",
    "Version 4 DMSP-OLS Nighttime Lights Time Series\n",
    "The files are cloud-free composites made using all the available archived DMSP-OLS smooth resolution data for calendar years. In cases where two satellites were collecting data - two composites were produced. The products are 30 arc second grids, spanning -180 to 180 degrees longitude and -65 to 75 degrees latitude.\n",
    "\n",
    "#### Content\n",
    "Dataset has two parts\n",
    "\n",
    "Night light Images\n",
    "GDP numbers\n",
    "Night light images-\n",
    "The original composite from Earth Observation Group has been segmented to extract out specific countries using shapefiles.\n",
    "List of countries (ISO) -> [\"IND\" , \"CHN\" , \"BGD\" ,\"DEU\" , \"GBR\" , \"JPN\" , \"RUS\" , \"AUS\" , \"BRA\" , \"MEX\"]\n",
    "\n",
    "Data augmentation has been applied such that for each (country and year) pair there are 20 images.\n",
    "\n",
    "Each file is named as follows\n",
    "\n",
    "[COUNTRYCODE][YEAR].png[RANDOMNUMERS].jpeg\n",
    "\n",
    "Take note that these are JPEG files not PNG\n",
    "\n",
    "GDP numbers-\n",
    "The dataset also contains the gdp data file which has been downloaded from the IMF\n",
    "\n",
    "### Acknowledgements\n",
    "Original source - \"Earth Observation Group, Colorado School of Mines\".\n",
    "References:\n",
    "Elvidge, C. D., Baugh, K. E., Kihn, E. A., Kroehl, H. W., & Davis, E. R. (1997). Mapping city lights with nighttime data from the DMSP Operational Linescan System. Photogrammetric Engineering and Remote Sensing, 63(6), 727-734."
   ]
  },
  {
   "cell_type": "code",
   "execution_count": 2,
   "metadata": {
    "execution": {
     "iopub.execute_input": "2021-05-25T19:51:32.243428Z",
     "iopub.status.busy": "2021-05-25T19:51:32.243120Z",
     "iopub.status.idle": "2021-05-25T19:51:32.246786Z",
     "shell.execute_reply": "2021-05-25T19:51:32.245974Z",
     "shell.execute_reply.started": "2021-05-25T19:51:32.243392Z"
    }
   },
   "outputs": [],
   "source": [
    "root_path = \"./dataset/\""
   ]
  },
  {
   "cell_type": "code",
   "execution_count": 3,
   "metadata": {
    "execution": {
     "iopub.execute_input": "2021-05-25T19:51:33.994801Z",
     "iopub.status.busy": "2021-05-25T19:51:33.994487Z",
     "iopub.status.idle": "2021-05-25T19:51:34.110018Z",
     "shell.execute_reply": "2021-05-25T19:51:34.109211Z",
     "shell.execute_reply.started": "2021-05-25T19:51:33.994770Z"
    }
   },
   "outputs": [],
   "source": [
    "mex_impaths = [f for f in os.listdir(root_path)]\n",
    "data = []\n",
    "for m in mex_impaths:\n",
    "    country , year  = m.split(\".\")[0].split(\"_\")\n",
    "    data.append((country,year,m))"
   ]
  },
  {
   "cell_type": "code",
   "execution_count": null,
   "metadata": {},
   "outputs": [],
   "source": [
    "# code :country name abbreviation"
   ]
  },
  {
   "cell_type": "code",
   "execution_count": 4,
   "metadata": {
    "execution": {
     "iopub.execute_input": "2021-05-25T19:51:35.253629Z",
     "iopub.status.busy": "2021-05-25T19:51:35.253303Z",
     "iopub.status.idle": "2021-05-25T19:51:35.280353Z",
     "shell.execute_reply": "2021-05-25T19:51:35.279251Z",
     "shell.execute_reply.started": "2021-05-25T19:51:35.253598Z"
    }
   },
   "outputs": [
    {
     "data": {
      "text/html": [
       "<div>\n",
       "<style scoped>\n",
       "    .dataframe tbody tr th:only-of-type {\n",
       "        vertical-align: middle;\n",
       "    }\n",
       "\n",
       "    .dataframe tbody tr th {\n",
       "        vertical-align: top;\n",
       "    }\n",
       "\n",
       "    .dataframe thead th {\n",
       "        text-align: right;\n",
       "    }\n",
       "</style>\n",
       "<table border=\"1\" class=\"dataframe\">\n",
       "  <thead>\n",
       "    <tr style=\"text-align: right;\">\n",
       "      <th></th>\n",
       "      <th>code</th>\n",
       "      <th>year</th>\n",
       "      <th>path</th>\n",
       "    </tr>\n",
       "  </thead>\n",
       "  <tbody>\n",
       "    <tr>\n",
       "      <th>0</th>\n",
       "      <td>AUS</td>\n",
       "      <td>2007</td>\n",
       "      <td>AUS_2007.png_0_7577.jpeg</td>\n",
       "    </tr>\n",
       "    <tr>\n",
       "      <th>1</th>\n",
       "      <td>MEX</td>\n",
       "      <td>2003</td>\n",
       "      <td>MEX_2003.png_0_8298.jpeg</td>\n",
       "    </tr>\n",
       "    <tr>\n",
       "      <th>2</th>\n",
       "      <td>BGD</td>\n",
       "      <td>1993</td>\n",
       "      <td>BGD_1993.png_0_358.jpeg</td>\n",
       "    </tr>\n",
       "    <tr>\n",
       "      <th>3</th>\n",
       "      <td>BGD</td>\n",
       "      <td>1996</td>\n",
       "      <td>BGD_1996.png_0_9371.jpeg</td>\n",
       "    </tr>\n",
       "    <tr>\n",
       "      <th>4</th>\n",
       "      <td>BRA</td>\n",
       "      <td>2009</td>\n",
       "      <td>BRA_2009.png_0_7617.jpeg</td>\n",
       "    </tr>\n",
       "  </tbody>\n",
       "</table>\n",
       "</div>"
      ],
      "text/plain": [
       "  code  year                      path\n",
       "0  AUS  2007  AUS_2007.png_0_7577.jpeg\n",
       "1  MEX  2003  MEX_2003.png_0_8298.jpeg\n",
       "2  BGD  1993   BGD_1993.png_0_358.jpeg\n",
       "3  BGD  1996  BGD_1996.png_0_9371.jpeg\n",
       "4  BRA  2009  BRA_2009.png_0_7617.jpeg"
      ]
     },
     "execution_count": 4,
     "metadata": {},
     "output_type": "execute_result"
    }
   ],
   "source": [
    "img_df = pd.DataFrame(data , columns=[\"code\" , \"year\" , \"path\"])\n",
    "img_df.head()"
   ]
  },
  {
   "cell_type": "code",
   "execution_count": 5,
   "metadata": {
    "execution": {
     "iopub.execute_input": "2021-05-25T19:51:36.918502Z",
     "iopub.status.busy": "2021-05-25T19:51:36.917786Z",
     "iopub.status.idle": "2021-05-25T19:51:36.975501Z",
     "shell.execute_reply": "2021-05-25T19:51:36.974685Z",
     "shell.execute_reply.started": "2021-05-25T19:51:36.918461Z"
    }
   },
   "outputs": [],
   "source": [
    "gdp = pd.read_csv(\"./gdp_melted.csv\")"
   ]
  },
  {
   "cell_type": "code",
   "execution_count": 6,
   "metadata": {
    "execution": {
     "iopub.execute_input": "2021-05-25T19:51:38.923860Z",
     "iopub.status.busy": "2021-05-25T19:51:38.923529Z",
     "iopub.status.idle": "2021-05-25T19:51:38.933935Z",
     "shell.execute_reply": "2021-05-25T19:51:38.933122Z",
     "shell.execute_reply.started": "2021-05-25T19:51:38.923832Z"
    }
   },
   "outputs": [],
   "source": [
    "gdp[\"year\"] = gdp[\"year\"].astype(int)\n",
    "img_df[\"year\"] = img_df[\"year\"].astype(int)"
   ]
  },
  {
   "cell_type": "code",
   "execution_count": 7,
   "metadata": {
    "execution": {
     "iopub.execute_input": "2021-05-25T19:51:41.381777Z",
     "iopub.status.busy": "2021-05-25T19:51:41.381464Z",
     "iopub.status.idle": "2021-05-25T19:51:41.409463Z",
     "shell.execute_reply": "2021-05-25T19:51:41.408414Z",
     "shell.execute_reply.started": "2021-05-25T19:51:41.381746Z"
    }
   },
   "outputs": [
    {
     "data": {
      "text/html": [
       "<div>\n",
       "<style scoped>\n",
       "    .dataframe tbody tr th:only-of-type {\n",
       "        vertical-align: middle;\n",
       "    }\n",
       "\n",
       "    .dataframe tbody tr th {\n",
       "        vertical-align: top;\n",
       "    }\n",
       "\n",
       "    .dataframe thead th {\n",
       "        text-align: right;\n",
       "    }\n",
       "</style>\n",
       "<table border=\"1\" class=\"dataframe\">\n",
       "  <thead>\n",
       "    <tr style=\"text-align: right;\">\n",
       "      <th></th>\n",
       "      <th>code</th>\n",
       "      <th>year</th>\n",
       "      <th>path</th>\n",
       "      <th>Unnamed: 0</th>\n",
       "      <th>country</th>\n",
       "      <th>indicator</th>\n",
       "      <th>indicator_code</th>\n",
       "      <th>gdp</th>\n",
       "    </tr>\n",
       "  </thead>\n",
       "  <tbody>\n",
       "    <tr>\n",
       "      <th>0</th>\n",
       "      <td>AUS</td>\n",
       "      <td>2007</td>\n",
       "      <td>AUS_2007.png_0_7577.jpeg</td>\n",
       "      <td>12419</td>\n",
       "      <td>Australia</td>\n",
       "      <td>GDP (current US$)</td>\n",
       "      <td>NY.GDP.MKTP.CD</td>\n",
       "      <td>8.531000e+11</td>\n",
       "    </tr>\n",
       "    <tr>\n",
       "      <th>1</th>\n",
       "      <td>AUS</td>\n",
       "      <td>2007</td>\n",
       "      <td>AUS_2007.png_0_2740.jpeg</td>\n",
       "      <td>12419</td>\n",
       "      <td>Australia</td>\n",
       "      <td>GDP (current US$)</td>\n",
       "      <td>NY.GDP.MKTP.CD</td>\n",
       "      <td>8.531000e+11</td>\n",
       "    </tr>\n",
       "    <tr>\n",
       "      <th>2</th>\n",
       "      <td>AUS</td>\n",
       "      <td>2007</td>\n",
       "      <td>AUS_2007.png_0_3357.jpeg</td>\n",
       "      <td>12419</td>\n",
       "      <td>Australia</td>\n",
       "      <td>GDP (current US$)</td>\n",
       "      <td>NY.GDP.MKTP.CD</td>\n",
       "      <td>8.531000e+11</td>\n",
       "    </tr>\n",
       "    <tr>\n",
       "      <th>3</th>\n",
       "      <td>AUS</td>\n",
       "      <td>2007</td>\n",
       "      <td>AUS_2007.png_0_6165.jpeg</td>\n",
       "      <td>12419</td>\n",
       "      <td>Australia</td>\n",
       "      <td>GDP (current US$)</td>\n",
       "      <td>NY.GDP.MKTP.CD</td>\n",
       "      <td>8.531000e+11</td>\n",
       "    </tr>\n",
       "    <tr>\n",
       "      <th>4</th>\n",
       "      <td>AUS</td>\n",
       "      <td>2007</td>\n",
       "      <td>AUS_2007.png_0_4675.jpeg</td>\n",
       "      <td>12419</td>\n",
       "      <td>Australia</td>\n",
       "      <td>GDP (current US$)</td>\n",
       "      <td>NY.GDP.MKTP.CD</td>\n",
       "      <td>8.531000e+11</td>\n",
       "    </tr>\n",
       "  </tbody>\n",
       "</table>\n",
       "</div>"
      ],
      "text/plain": [
       "  code  year                      path  Unnamed: 0    country  \\\n",
       "0  AUS  2007  AUS_2007.png_0_7577.jpeg       12419  Australia   \n",
       "1  AUS  2007  AUS_2007.png_0_2740.jpeg       12419  Australia   \n",
       "2  AUS  2007  AUS_2007.png_0_3357.jpeg       12419  Australia   \n",
       "3  AUS  2007  AUS_2007.png_0_6165.jpeg       12419  Australia   \n",
       "4  AUS  2007  AUS_2007.png_0_4675.jpeg       12419  Australia   \n",
       "\n",
       "           indicator  indicator_code           gdp  \n",
       "0  GDP (current US$)  NY.GDP.MKTP.CD  8.531000e+11  \n",
       "1  GDP (current US$)  NY.GDP.MKTP.CD  8.531000e+11  \n",
       "2  GDP (current US$)  NY.GDP.MKTP.CD  8.531000e+11  \n",
       "3  GDP (current US$)  NY.GDP.MKTP.CD  8.531000e+11  \n",
       "4  GDP (current US$)  NY.GDP.MKTP.CD  8.531000e+11  "
      ]
     },
     "execution_count": 7,
     "metadata": {},
     "output_type": "execute_result"
    }
   ],
   "source": [
    "merged_df = pd.merge(img_df, gdp , on=[\"code\" , \"year\"])\n",
    "merged_df.head()"
   ]
  },
  {
   "cell_type": "code",
   "execution_count": 8,
   "metadata": {
    "execution": {
     "iopub.execute_input": "2021-05-25T19:51:42.849810Z",
     "iopub.status.busy": "2021-05-25T19:51:42.849492Z",
     "iopub.status.idle": "2021-05-25T19:51:42.871686Z",
     "shell.execute_reply": "2021-05-25T19:51:42.870905Z",
     "shell.execute_reply.started": "2021-05-25T19:51:42.849780Z"
    }
   },
   "outputs": [],
   "source": [
    "df = merged_df.dropna()"
   ]
  },
  {
   "cell_type": "code",
   "execution_count": 9,
   "metadata": {
    "execution": {
     "iopub.execute_input": "2021-05-25T19:51:44.451851Z",
     "iopub.status.busy": "2021-05-25T19:51:44.451496Z",
     "iopub.status.idle": "2021-05-25T19:51:44.459526Z",
     "shell.execute_reply": "2021-05-25T19:51:44.458723Z",
     "shell.execute_reply.started": "2021-05-25T19:51:44.451808Z"
    }
   },
   "outputs": [],
   "source": [
    "df = df.sample(frac=1)"
   ]
  },
  {
   "cell_type": "code",
   "execution_count": null,
   "metadata": {},
   "outputs": [],
   "source": [
    "imgs = []\n",
    "for j, row in enumerate(df.iterrows()):\n",
    "    img = cv2.imread(root_path + row[1][\"path\"], 0)\n",
    "    img = cv2.resize(img, (256,256))\n",
    "    img = img.reshape((256,256,1))\n",
    "    imgs.append(img)\n",
    "    if j%100 == 0:\n",
    "        print(j)\n",
    "    if(j == 1000):\n",
    "        break"
   ]
  },
  {
   "cell_type": "code",
   "execution_count": 11,
   "metadata": {
    "execution": {
     "iopub.execute_input": "2021-05-25T19:53:00.338685Z",
     "iopub.status.busy": "2021-05-25T19:53:00.338374Z",
     "iopub.status.idle": "2021-05-25T19:53:00.496732Z",
     "shell.execute_reply": "2021-05-25T19:53:00.495875Z",
     "shell.execute_reply.started": "2021-05-25T19:53:00.338655Z"
    }
   },
   "outputs": [
    {
     "data": {
      "text/plain": [
       "<matplotlib.image.AxesImage at 0x7f963cff3c10>"
      ]
     },
     "execution_count": 11,
     "metadata": {},
     "output_type": "execute_result"
    },
    {
     "data": {
      "image/png": "[encoded data removed]",
      "text/plain": [
       "<Figure size 432x288 with 1 Axes>"
      ]
     },
     "metadata": {
      "needs_background": "light"
     },
     "output_type": "display_data"
    }
   ],
   "source": [
    "imshow(imgs[100])"
   ]
  },
  {
   "cell_type": "code",
   "execution_count": 37,
   "metadata": {
    "execution": {
     "iopub.execute_input": "2021-05-25T20:01:17.421593Z",
     "iopub.status.busy": "2021-05-25T20:01:17.421267Z",
     "iopub.status.idle": "2021-05-25T20:01:17.563496Z",
     "shell.execute_reply": "2021-05-25T20:01:17.562635Z",
     "shell.execute_reply.started": "2021-05-25T20:01:17.421564Z"
    }
   },
   "outputs": [],
   "source": [
    "eq = []\n",
    "for img in imgs[:]:\n",
    "    equ = cv2.equalizeHist(img[:,:,0])\n",
    "    eq.append(equ.reshape((256,256,1)))"
   ]
  },
  {
   "cell_type": "code",
   "execution_count": 40,
   "metadata": {
    "execution": {
     "iopub.execute_input": "2021-05-25T20:01:36.870778Z",
     "iopub.status.busy": "2021-05-25T20:01:36.870458Z",
     "iopub.status.idle": "2021-05-25T20:01:37.017158Z",
     "shell.execute_reply": "2021-05-25T20:01:37.016376Z",
     "shell.execute_reply.started": "2021-05-25T20:01:36.870746Z"
    },
    "scrolled": true
   },
   "outputs": [
    {
     "data": {
      "text/plain": [
       "<matplotlib.image.AxesImage at 0x7f95e04a8d90>"
      ]
     },
     "execution_count": 40,
     "metadata": {},
     "output_type": "execute_result"
    },
    {
     "data": {
      "image/png": "[encoded data removed]",
      "text/plain": [
       "<Figure size 432x288 with 1 Axes>"
      ]
     },
     "metadata": {
      "needs_background": "light"
     },
     "output_type": "display_data"
    }
   ],
   "source": [
    "imshow(eq[500])"
   ]
  },
  {
   "cell_type": "markdown",
   "metadata": {},
   "source": [
    "## Creating convolutional neural network based on keras"
   ]
  },
  {
   "cell_type": "code",
   "execution_count": 59,
   "metadata": {
    "execution": {
     "iopub.execute_input": "2021-05-25T20:04:53.679011Z",
     "iopub.status.busy": "2021-05-25T20:04:53.678677Z",
     "iopub.status.idle": "2021-05-25T20:04:53.683497Z",
     "shell.execute_reply": "2021-05-25T20:04:53.682369Z",
     "shell.execute_reply.started": "2021-05-25T20:04:53.678964Z"
    }
   },
   "outputs": [],
   "source": [
    "from keras.layers import Conv2D, MaxPooling2D, Dense, Dropout, Flatten\n",
    "from keras.models import Sequential"
   ]
  },
  {
   "cell_type": "code",
   "execution_count": 71,
   "metadata": {
    "execution": {
     "iopub.execute_input": "2021-05-25T20:07:26.741508Z",
     "iopub.status.busy": "2021-05-25T20:07:26.741177Z",
     "iopub.status.idle": "2021-05-25T20:07:26.810599Z",
     "shell.execute_reply": "2021-05-25T20:07:26.809828Z",
     "shell.execute_reply.started": "2021-05-25T20:07:26.741476Z"
    }
   },
   "outputs": [],
   "source": [
    "model = Sequential()\n",
    "model.add(Conv2D(32, 5, input_shape=(256,256,1), activation = 'relu'))\n",
    "model.add(MaxPooling2D(4))\n",
    "model.add(Conv2D(64, 3, activation = 'relu'))\n",
    "model.add(MaxPooling2D(4))\n",
    "model.add(Conv2D(64, 2, activation = 'relu'))\n",
    "model.add(MaxPooling2D(4))\n",
    "model.add(Conv2D(128, 2, activation = 'relu'))\n",
    "model.add(Flatten())\n",
    "model.add(Dense(1000, activation = 'relu'))\n",
    "model.add(Dense(256, activation = 'relu'))\n",
    "model.add(Dense(1, activation = 'linear'))\n"
   ]
  },
  {
   "cell_type": "code",
   "execution_count": 72,
   "metadata": {
    "execution": {
     "iopub.execute_input": "2021-05-25T20:07:27.430818Z",
     "iopub.status.busy": "2021-05-25T20:07:27.430499Z",
     "iopub.status.idle": "2021-05-25T20:07:27.442215Z",
     "shell.execute_reply": "2021-05-25T20:07:27.441060Z",
     "shell.execute_reply.started": "2021-05-25T20:07:27.430787Z"
    },
    "scrolled": true
   },
   "outputs": [
    {
     "name": "stdout",
     "output_type": "stream",
     "text": [
      "Model: \"sequential_5\"\n",
      "_________________________________________________________________\n",
      "Layer (type)                 Output Shape              Param #   \n",
      "=================================================================\n",
      "conv2d_24 (Conv2D)           (None, 252, 252, 32)      832       \n",
      "_________________________________________________________________\n",
      "max_pooling2d_19 (MaxPooling (None, 63, 63, 32)        0         \n",
      "_________________________________________________________________\n",
      "conv2d_25 (Conv2D)           (None, 61, 61, 64)        18496     \n",
      "_________________________________________________________________\n",
      "max_pooling2d_20 (MaxPooling (None, 15, 15, 64)        0         \n",
      "_________________________________________________________________\n",
      "conv2d_26 (Conv2D)           (None, 14, 14, 64)        16448     \n",
      "_________________________________________________________________\n",
      "max_pooling2d_21 (MaxPooling (None, 3, 3, 64)          0         \n",
      "_________________________________________________________________\n",
      "conv2d_27 (Conv2D)           (None, 2, 2, 128)         32896     \n",
      "_________________________________________________________________\n",
      "flatten_5 (Flatten)          (None, 512)               0         \n",
      "_________________________________________________________________\n",
      "dense_15 (Dense)             (None, 1000)              513000    \n",
      "_________________________________________________________________\n",
      "dense_16 (Dense)             (None, 256)               256256    \n",
      "_________________________________________________________________\n",
      "dense_17 (Dense)             (None, 1)                 257       \n",
      "=================================================================\n",
      "Total params: 838,185\n",
      "Trainable params: 838,185\n",
      "Non-trainable params: 0\n",
      "_________________________________________________________________\n"
     ]
    }
   ],
   "source": [
    "model.summary()"
   ]
  },
  {
   "cell_type": "markdown",
   "metadata": {},
   "source": [
    "## Evaluation"
   ]
  },
  {
   "cell_type": "code",
   "execution_count": 73,
   "metadata": {
    "execution": {
     "iopub.execute_input": "2021-05-25T20:07:30.620796Z",
     "iopub.status.busy": "2021-05-25T20:07:30.620461Z",
     "iopub.status.idle": "2021-05-25T20:07:30.633691Z",
     "shell.execute_reply": "2021-05-25T20:07:30.632892Z",
     "shell.execute_reply.started": "2021-05-25T20:07:30.620766Z"
    }
   },
   "outputs": [],
   "source": [
    "model.compile('adam', 'mse', ['mae'])"
   ]
  },
  {
   "cell_type": "code",
   "execution_count": 74,
   "metadata": {
    "execution": {
     "iopub.execute_input": "2021-05-25T20:07:31.346909Z",
     "iopub.status.busy": "2021-05-25T20:07:31.346595Z",
     "iopub.status.idle": "2021-05-25T20:07:31.376765Z",
     "shell.execute_reply": "2021-05-25T20:07:31.375867Z",
     "shell.execute_reply.started": "2021-05-25T20:07:31.346878Z"
    }
   },
   "outputs": [
    {
     "name": "stdout",
     "output_type": "stream",
     "text": [
      "(1001, 256, 256, 1) (1001, 1)\n"
     ]
    }
   ],
   "source": [
    "imgs = np.array(eq)\n",
    "y = np.array(df['gdp'])\n",
    "y = y[:1001].reshape((1001, 1))\n",
    "translation = y.min()\n",
    "y = y-y.min()\n",
    "scale = y.max()\n",
    "y = y/y.max()\n",
    "print(imgs.shape, y.shape)\n"
   ]
  },
  {
   "cell_type": "code",
   "execution_count": 75,
   "metadata": {
    "execution": {
     "iopub.execute_input": "2021-05-25T20:07:35.509842Z",
     "iopub.status.busy": "2021-05-25T20:07:35.509516Z",
     "iopub.status.idle": "2021-05-25T20:08:28.589500Z",
     "shell.execute_reply": "2021-05-25T20:08:28.588675Z",
     "shell.execute_reply.started": "2021-05-25T20:07:35.509812Z"
    }
   },
   "outputs": [
    {
     "name": "stdout",
     "output_type": "stream",
     "text": [
      "Epoch 1/50\n",
      "29/29 [==============================] - 2s 42ms/step - loss: 374.4833 - mae: 10.6924 - val_loss: 0.1081 - val_mae: 0.2782\n",
      "Epoch 2/50\n",
      "29/29 [==============================] - 1s 36ms/step - loss: 0.0705 - mae: 0.2076 - val_loss: 0.0322 - val_mae: 0.1176\n",
      "Epoch 3/50\n",
      "29/29 [==============================] - 1s 36ms/step - loss: 0.0336 - mae: 0.1368 - val_loss: 0.0286 - val_mae: 0.1229\n",
      "Epoch 4/50\n",
      "29/29 [==============================] - 1s 36ms/step - loss: 0.0241 - mae: 0.1110 - val_loss: 0.0251 - val_mae: 0.1131\n",
      "Epoch 5/50\n",
      "29/29 [==============================] - 1s 37ms/step - loss: 0.0221 - mae: 0.1060 - val_loss: 0.0206 - val_mae: 0.0958\n",
      "Epoch 6/50\n",
      "29/29 [==============================] - 1s 36ms/step - loss: 0.0206 - mae: 0.0983 - val_loss: 0.0183 - val_mae: 0.0878\n",
      "Epoch 7/50\n",
      "29/29 [==============================] - 1s 36ms/step - loss: 0.0170 - mae: 0.0906 - val_loss: 0.0181 - val_mae: 0.0836\n",
      "Epoch 8/50\n",
      "29/29 [==============================] - 1s 37ms/step - loss: 0.0134 - mae: 0.0784 - val_loss: 0.0173 - val_mae: 0.0865\n",
      "Epoch 9/50\n",
      "29/29 [==============================] - 1s 37ms/step - loss: 0.0144 - mae: 0.0832 - val_loss: 0.0209 - val_mae: 0.1038\n",
      "Epoch 10/50\n",
      "29/29 [==============================] - 1s 36ms/step - loss: 0.0151 - mae: 0.0888 - val_loss: 0.0194 - val_mae: 0.0986\n",
      "Epoch 11/50\n",
      "29/29 [==============================] - 1s 36ms/step - loss: 0.0165 - mae: 0.0901 - val_loss: 0.0177 - val_mae: 0.0854\n",
      "Epoch 12/50\n",
      "29/29 [==============================] - 1s 36ms/step - loss: 0.0130 - mae: 0.0783 - val_loss: 0.0168 - val_mae: 0.0811\n",
      "Epoch 13/50\n",
      "29/29 [==============================] - 1s 36ms/step - loss: 0.0120 - mae: 0.0732 - val_loss: 0.0163 - val_mae: 0.0810\n",
      "Epoch 14/50\n",
      "29/29 [==============================] - 1s 36ms/step - loss: 0.0133 - mae: 0.0776 - val_loss: 0.0208 - val_mae: 0.0894\n",
      "Epoch 15/50\n",
      "29/29 [==============================] - 1s 38ms/step - loss: 0.0119 - mae: 0.0773 - val_loss: 0.0191 - val_mae: 0.0968\n",
      "Epoch 16/50\n",
      "29/29 [==============================] - 1s 36ms/step - loss: 0.0116 - mae: 0.0750 - val_loss: 0.0164 - val_mae: 0.0812\n",
      "Epoch 17/50\n",
      "29/29 [==============================] - 1s 36ms/step - loss: 0.0117 - mae: 0.0759 - val_loss: 0.0169 - val_mae: 0.0866\n",
      "Epoch 18/50\n",
      "29/29 [==============================] - 1s 36ms/step - loss: 0.0115 - mae: 0.0725 - val_loss: 0.0159 - val_mae: 0.0829\n",
      "Epoch 19/50\n",
      "29/29 [==============================] - 1s 36ms/step - loss: 0.0132 - mae: 0.0766 - val_loss: 0.0168 - val_mae: 0.0847\n",
      "Epoch 20/50\n",
      "29/29 [==============================] - 1s 36ms/step - loss: 0.0117 - mae: 0.0753 - val_loss: 0.0152 - val_mae: 0.0814\n",
      "Epoch 21/50\n",
      "29/29 [==============================] - 1s 36ms/step - loss: 0.0102 - mae: 0.0721 - val_loss: 0.0212 - val_mae: 0.0903\n",
      "Epoch 22/50\n",
      "29/29 [==============================] - 1s 36ms/step - loss: 0.0158 - mae: 0.0871 - val_loss: 0.0175 - val_mae: 0.0882\n",
      "Epoch 23/50\n",
      "29/29 [==============================] - 1s 36ms/step - loss: 0.0097 - mae: 0.0728 - val_loss: 0.0178 - val_mae: 0.0876\n",
      "Epoch 24/50\n",
      "29/29 [==============================] - 1s 36ms/step - loss: 0.0087 - mae: 0.0674 - val_loss: 0.0186 - val_mae: 0.0925\n",
      "Epoch 25/50\n",
      "29/29 [==============================] - 1s 36ms/step - loss: 0.0085 - mae: 0.0679 - val_loss: 0.0165 - val_mae: 0.0835\n",
      "Epoch 26/50\n",
      "29/29 [==============================] - 1s 37ms/step - loss: 0.0110 - mae: 0.0736 - val_loss: 0.0153 - val_mae: 0.0880\n",
      "Epoch 27/50\n",
      "29/29 [==============================] - 1s 36ms/step - loss: 0.0073 - mae: 0.0606 - val_loss: 0.0154 - val_mae: 0.0804\n",
      "Epoch 28/50\n",
      "29/29 [==============================] - 1s 36ms/step - loss: 0.0067 - mae: 0.0586 - val_loss: 0.0150 - val_mae: 0.0844\n",
      "Epoch 29/50\n",
      "29/29 [==============================] - 1s 36ms/step - loss: 0.0071 - mae: 0.0581 - val_loss: 0.0150 - val_mae: 0.0836\n",
      "Epoch 30/50\n",
      "29/29 [==============================] - 1s 36ms/step - loss: 0.0061 - mae: 0.0528 - val_loss: 0.0143 - val_mae: 0.0794\n",
      "Epoch 31/50\n",
      "29/29 [==============================] - 1s 36ms/step - loss: 0.0055 - mae: 0.0506 - val_loss: 0.0176 - val_mae: 0.0894\n",
      "Epoch 32/50\n",
      "29/29 [==============================] - 1s 36ms/step - loss: 0.0064 - mae: 0.0548 - val_loss: 0.0177 - val_mae: 0.0930\n",
      "Epoch 33/50\n",
      "29/29 [==============================] - 1s 36ms/step - loss: 0.0093 - mae: 0.0716 - val_loss: 0.0146 - val_mae: 0.0867\n",
      "Epoch 34/50\n",
      "29/29 [==============================] - 1s 36ms/step - loss: 0.0099 - mae: 0.0699 - val_loss: 0.0138 - val_mae: 0.0807\n",
      "Epoch 35/50\n",
      "29/29 [==============================] - 1s 36ms/step - loss: 0.0052 - mae: 0.0511 - val_loss: 0.0142 - val_mae: 0.0817\n",
      "Epoch 36/50\n",
      "29/29 [==============================] - 1s 37ms/step - loss: 0.0062 - mae: 0.0570 - val_loss: 0.0157 - val_mae: 0.0885\n",
      "Epoch 37/50\n",
      "29/29 [==============================] - 1s 37ms/step - loss: 0.0051 - mae: 0.0530 - val_loss: 0.0143 - val_mae: 0.0873\n",
      "Epoch 38/50\n",
      "29/29 [==============================] - 1s 36ms/step - loss: 0.0040 - mae: 0.0447 - val_loss: 0.0141 - val_mae: 0.0846\n",
      "Epoch 39/50\n",
      "29/29 [==============================] - 1s 36ms/step - loss: 0.0043 - mae: 0.0462 - val_loss: 0.0135 - val_mae: 0.0808\n",
      "Epoch 40/50\n",
      "29/29 [==============================] - 1s 38ms/step - loss: 0.0042 - mae: 0.0473 - val_loss: 0.0141 - val_mae: 0.0878\n",
      "Epoch 41/50\n",
      "29/29 [==============================] - 1s 36ms/step - loss: 0.0055 - mae: 0.0525 - val_loss: 0.0142 - val_mae: 0.0857\n",
      "Epoch 42/50\n",
      "29/29 [==============================] - 1s 36ms/step - loss: 0.0035 - mae: 0.0439 - val_loss: 0.0138 - val_mae: 0.0827\n",
      "Epoch 43/50\n",
      "29/29 [==============================] - 1s 36ms/step - loss: 0.0031 - mae: 0.0414 - val_loss: 0.0139 - val_mae: 0.0836\n",
      "Epoch 44/50\n",
      "29/29 [==============================] - 1s 36ms/step - loss: 0.0034 - mae: 0.0424 - val_loss: 0.0173 - val_mae: 0.0948\n",
      "Epoch 45/50\n",
      "29/29 [==============================] - 1s 36ms/step - loss: 0.0037 - mae: 0.0466 - val_loss: 0.0133 - val_mae: 0.0801\n",
      "Epoch 46/50\n",
      "29/29 [==============================] - 1s 36ms/step - loss: 0.0030 - mae: 0.0403 - val_loss: 0.0154 - val_mae: 0.0896\n",
      "Epoch 47/50\n",
      "29/29 [==============================] - 1s 37ms/step - loss: 0.0025 - mae: 0.0372 - val_loss: 0.0138 - val_mae: 0.0854\n",
      "Epoch 48/50\n",
      "29/29 [==============================] - 1s 36ms/step - loss: 0.0020 - mae: 0.0325 - val_loss: 0.0160 - val_mae: 0.0949\n",
      "Epoch 49/50\n",
      "29/29 [==============================] - 1s 36ms/step - loss: 0.0025 - mae: 0.0368 - val_loss: 0.0132 - val_mae: 0.0828\n",
      "Epoch 50/50\n",
      "29/29 [==============================] - 1s 36ms/step - loss: 0.0022 - mae: 0.0350 - val_loss: 0.0131 - val_mae: 0.0825\n"
     ]
    }
   ],
   "source": [
    "history = model.fit(imgs, y, validation_split = 0.1, epochs = 50)"
   ]
  },
  {
   "cell_type": "code",
   "execution_count": 79,
   "metadata": {
    "execution": {
     "iopub.execute_input": "2021-05-25T20:12:26.288779Z",
     "iopub.status.busy": "2021-05-25T20:12:26.288448Z",
     "iopub.status.idle": "2021-05-25T20:12:26.419340Z",
     "shell.execute_reply": "2021-05-25T20:12:26.418379Z",
     "shell.execute_reply.started": "2021-05-25T20:12:26.288748Z"
    }
   },
   "outputs": [
    {
     "data": {
      "image/png": "[encoded data removed]",
      "text/plain": [
       "<Figure size 432x288 with 1 Axes>"
      ]
     },
     "metadata": {
      "needs_background": "light"
     },
     "output_type": "display_data"
    }
   ],
   "source": [
    "plt.plot(history.history['mae'])\n",
    "plt.plot(history.history['val_mae'])\n",
    "plt.title('model mae')\n",
    "plt.ylabel('mae')\n",
    "plt.xlabel('epoch')\n",
    "plt.legend(['train', 'val'], loc='upper left')\n",
    "plt.show()"
   ]
  },
  {
   "cell_type": "code",
   "execution_count": 82,
   "metadata": {
    "execution": {
     "iopub.execute_input": "2021-05-25T20:12:43.917672Z",
     "iopub.status.busy": "2021-05-25T20:12:43.917345Z",
     "iopub.status.idle": "2021-05-25T20:12:43.932956Z",
     "shell.execute_reply": "2021-05-25T20:12:43.931985Z",
     "shell.execute_reply.started": "2021-05-25T20:12:43.917641Z"
    }
   },
   "outputs": [
    {
     "data": {
      "text/plain": [
       "<Figure size 432x288 with 0 Axes>"
      ]
     },
     "metadata": {},
     "output_type": "display_data"
    }
   ],
   "source": [
    "plt.savefig(\"maevsepoch.jpg\")"
   ]
  },
  {
   "cell_type": "code",
   "execution_count": 83,
   "metadata": {
    "execution": {
     "iopub.execute_input": "2021-05-25T20:12:48.023047Z",
     "iopub.status.busy": "2021-05-25T20:12:48.022683Z",
     "iopub.status.idle": "2021-05-25T20:12:48.169002Z",
     "shell.execute_reply": "2021-05-25T20:12:48.168230Z",
     "shell.execute_reply.started": "2021-05-25T20:12:48.022977Z"
    }
   },
   "outputs": [
    {
     "data": {
      "image/png": "[encoded data removed]",
      "text/plain": [
       "<Figure size 432x288 with 1 Axes>"
      ]
     },
     "metadata": {
      "needs_background": "light"
     },
     "output_type": "display_data"
    }
   ],
   "source": [
    "plt.plot(history.history['loss'])\n",
    "plt.plot(history.history['val_loss'])\n",
    "plt.title('model loss')\n",
    "plt.ylabel('mse')\n",
    "plt.xlabel('epoch')\n",
    "plt.legend(['train', 'val'], loc='upper left')\n",
    "plt.show()"
   ]
  },
  {
   "cell_type": "code",
   "execution_count": 85,
   "metadata": {
    "execution": {
     "iopub.execute_input": "2021-05-25T20:12:59.267051Z",
     "iopub.status.busy": "2021-05-25T20:12:59.266700Z",
     "iopub.status.idle": "2021-05-25T20:12:59.282476Z",
     "shell.execute_reply": "2021-05-25T20:12:59.281210Z",
     "shell.execute_reply.started": "2021-05-25T20:12:59.267013Z"
    }
   },
   "outputs": [
    {
     "data": {
      "text/plain": [
       "<Figure size 432x288 with 0 Axes>"
      ]
     },
     "metadata": {},
     "output_type": "display_data"
    }
   ],
   "source": [
    "plt.savefig(\"msevsepoch.jpg\")"
   ]
  },
  {
   "cell_type": "markdown",
   "metadata": {},
   "source": [
    "## Show the error between some predicted data and actual data"
   ]
  },
  {
   "cell_type": "code",
   "execution_count": 88,
   "metadata": {
    "execution": {
     "iopub.execute_input": "2021-05-25T20:15:58.077871Z",
     "iopub.status.busy": "2021-05-25T20:15:58.077519Z",
     "iopub.status.idle": "2021-05-25T20:15:58.368724Z",
     "shell.execute_reply": "2021-05-25T20:15:58.367935Z",
     "shell.execute_reply.started": "2021-05-25T20:15:58.077839Z"
    }
   },
   "outputs": [
    {
     "name": "stdout",
     "output_type": "stream",
     "text": [
      "Actual: [8.20382e+11] Predicted: [[9.22076e+11]]\n",
      "Actual: [3.78376e+11] Predicted: [[2.0208222e+11]]\n",
      "Actual: [5.39912898e+10] Predicted: [[-1.3789741e+11]]\n",
      "Actual: [6.1249e+11] Predicted: [[4.590967e+11]]\n",
      "Actual: [3.31665194e+10] Predicted: [[5.3299243e+11]]\n",
      "Actual: [1.95535e+12] Predicted: [[2.4436765e+12]]\n",
      "Actual: [5.23138e+12] Predicted: [[5.189718e+12]]\n",
      "Actual: [1.0527e+12] Predicted: [[7.042346e+11]]\n",
      "Actual: [6.00233e+11] Predicted: [[6.884832e+11]]\n"
     ]
    }
   ],
   "source": [
    "idx = [10,100,500,125,562,852,522,578,456]\n",
    "for idd in idx:\n",
    "    y_true = y[idd]*scale + translation\n",
    "    y_pred = model.predict(imgs[idd:idd+1])\n",
    "    y_pred = y_pred*scale + translation\n",
    "    print(\"Actual: {} Predicted: {}\".format(y_true, y_pred))"
   ]
  },
  {
   "cell_type": "code",
   "execution_count": null,
   "metadata": {},
   "outputs": [],
   "source": []
  }
 ],
 "metadata": {
  "kernelspec": {
   "display_name": "Python 3 (ipykernel)",
   "language": "python",
   "name": "python3"
  },
  "language_info": {
   "codemirror_mode": {
    "name": "ipython",
    "version": 3
   },
   "file_extension": ".py",
   "mimetype": "text/x-python",
   "name": "python",
   "nbconvert_exporter": "python",
   "pygments_lexer": "ipython3",
   "version": "3.7.9"
  }
 },
 "nbformat": 4,
 "nbformat_minor": 4
}
