{
 "cells": [
  {
   "cell_type": "code",
   "execution_count": 1,
   "metadata": {},
   "outputs": [],
   "source": [
    "import pandas as pd\n",
    "import numpy as np\n",
    "import matplotlib.pyplot as plt\n",
    "import seaborn as sns\n",
    "import plotly.express as px"
   ]
  },
  {
   "cell_type": "code",
   "execution_count": 2,
   "metadata": {},
   "outputs": [],
   "source": [
    "#Let us first understand the data"
   ]
  },
  {
   "cell_type": "code",
   "execution_count": 3,
   "metadata": {},
   "outputs": [],
   "source": [
    "df = df = pd.read_csv(\"../input/co2-and-ghg-emission-data/emission data.csv\")"
   ]
  },
  {
   "cell_type": "code",
   "execution_count": 4,
   "metadata": {},
   "outputs": [
    {
     "data": {
      "text/html": [
       "<div>\n",
       "<style scoped>\n",
       "    .dataframe tbody tr th:only-of-type {\n",
       "        vertical-align: middle;\n",
       "    }\n",
       "\n",
       "    .dataframe tbody tr th {\n",
       "        vertical-align: top;\n",
       "    }\n",
       "\n",
       "    .dataframe thead th {\n",
       "        text-align: right;\n",
       "    }\n",
       "</style>\n",
       "<table border=\"1\" class=\"dataframe\">\n",
       "  <thead>\n",
       "    <tr style=\"text-align: right;\">\n",
       "      <th></th>\n",
       "      <th>Country</th>\n",
       "      <th>1751</th>\n",
       "      <th>1752</th>\n",
       "      <th>1753</th>\n",
       "      <th>1754</th>\n",
       "      <th>1755</th>\n",
       "      <th>1756</th>\n",
       "      <th>1757</th>\n",
       "      <th>1758</th>\n",
       "      <th>1759</th>\n",
       "      <th>...</th>\n",
       "      <th>2008</th>\n",
       "      <th>2009</th>\n",
       "      <th>2010</th>\n",
       "      <th>2011</th>\n",
       "      <th>2012</th>\n",
       "      <th>2013</th>\n",
       "      <th>2014</th>\n",
       "      <th>2015</th>\n",
       "      <th>2016</th>\n",
       "      <th>2017</th>\n",
       "    </tr>\n",
       "  </thead>\n",
       "  <tbody>\n",
       "    <tr>\n",
       "      <th>0</th>\n",
       "      <td>Afghanistan</td>\n",
       "      <td>0</td>\n",
       "      <td>0</td>\n",
       "      <td>0</td>\n",
       "      <td>0</td>\n",
       "      <td>0</td>\n",
       "      <td>0</td>\n",
       "      <td>0</td>\n",
       "      <td>0</td>\n",
       "      <td>0</td>\n",
       "      <td>...</td>\n",
       "      <td>8.515264e+07</td>\n",
       "      <td>9.191295e+07</td>\n",
       "      <td>1.003652e+08</td>\n",
       "      <td>1.125912e+08</td>\n",
       "      <td>1.233332e+08</td>\n",
       "      <td>1.333337e+08</td>\n",
       "      <td>1.431228e+08</td>\n",
       "      <td>1.532303e+08</td>\n",
       "      <td>1.654882e+08</td>\n",
       "      <td>1.785029e+08</td>\n",
       "    </tr>\n",
       "    <tr>\n",
       "      <th>1</th>\n",
       "      <td>Africa</td>\n",
       "      <td>0</td>\n",
       "      <td>0</td>\n",
       "      <td>0</td>\n",
       "      <td>0</td>\n",
       "      <td>0</td>\n",
       "      <td>0</td>\n",
       "      <td>0</td>\n",
       "      <td>0</td>\n",
       "      <td>0</td>\n",
       "      <td>...</td>\n",
       "      <td>3.183077e+10</td>\n",
       "      <td>3.301904e+10</td>\n",
       "      <td>3.421283e+10</td>\n",
       "      <td>3.541120e+10</td>\n",
       "      <td>3.664504e+10</td>\n",
       "      <td>3.789569e+10</td>\n",
       "      <td>3.918617e+10</td>\n",
       "      <td>4.047518e+10</td>\n",
       "      <td>4.178583e+10</td>\n",
       "      <td>4.311757e+10</td>\n",
       "    </tr>\n",
       "    <tr>\n",
       "      <th>2</th>\n",
       "      <td>Albania</td>\n",
       "      <td>0</td>\n",
       "      <td>0</td>\n",
       "      <td>0</td>\n",
       "      <td>0</td>\n",
       "      <td>0</td>\n",
       "      <td>0</td>\n",
       "      <td>0</td>\n",
       "      <td>0</td>\n",
       "      <td>0</td>\n",
       "      <td>...</td>\n",
       "      <td>2.287948e+08</td>\n",
       "      <td>2.331696e+08</td>\n",
       "      <td>2.377643e+08</td>\n",
       "      <td>2.430001e+08</td>\n",
       "      <td>2.479062e+08</td>\n",
       "      <td>2.529662e+08</td>\n",
       "      <td>2.586784e+08</td>\n",
       "      <td>2.646261e+08</td>\n",
       "      <td>2.708990e+08</td>\n",
       "      <td>2.772782e+08</td>\n",
       "    </tr>\n",
       "    <tr>\n",
       "      <th>3</th>\n",
       "      <td>Algeria</td>\n",
       "      <td>0</td>\n",
       "      <td>0</td>\n",
       "      <td>0</td>\n",
       "      <td>0</td>\n",
       "      <td>0</td>\n",
       "      <td>0</td>\n",
       "      <td>0</td>\n",
       "      <td>0</td>\n",
       "      <td>0</td>\n",
       "      <td>...</td>\n",
       "      <td>2.894820e+09</td>\n",
       "      <td>3.015005e+09</td>\n",
       "      <td>3.132819e+09</td>\n",
       "      <td>3.252626e+09</td>\n",
       "      <td>3.380736e+09</td>\n",
       "      <td>3.513171e+09</td>\n",
       "      <td>3.656348e+09</td>\n",
       "      <td>3.806940e+09</td>\n",
       "      <td>3.957319e+09</td>\n",
       "      <td>4.107870e+09</td>\n",
       "    </tr>\n",
       "    <tr>\n",
       "      <th>4</th>\n",
       "      <td>Americas (other)</td>\n",
       "      <td>0</td>\n",
       "      <td>0</td>\n",
       "      <td>0</td>\n",
       "      <td>0</td>\n",
       "      <td>0</td>\n",
       "      <td>0</td>\n",
       "      <td>0</td>\n",
       "      <td>0</td>\n",
       "      <td>0</td>\n",
       "      <td>...</td>\n",
       "      <td>7.746025e+10</td>\n",
       "      <td>7.961787e+10</td>\n",
       "      <td>8.187178e+10</td>\n",
       "      <td>8.416656e+10</td>\n",
       "      <td>8.654197e+10</td>\n",
       "      <td>8.894874e+10</td>\n",
       "      <td>9.139192e+10</td>\n",
       "      <td>9.382747e+10</td>\n",
       "      <td>9.624253e+10</td>\n",
       "      <td>9.864116e+10</td>\n",
       "    </tr>\n",
       "  </tbody>\n",
       "</table>\n",
       "<p>5 rows × 268 columns</p>\n",
       "</div>"
      ],
      "text/plain": [
       "            Country  1751  1752  1753  1754  1755  1756  1757  1758  1759  \\\n",
       "0       Afghanistan     0     0     0     0     0     0     0     0     0   \n",
       "1            Africa     0     0     0     0     0     0     0     0     0   \n",
       "2           Albania     0     0     0     0     0     0     0     0     0   \n",
       "3           Algeria     0     0     0     0     0     0     0     0     0   \n",
       "4  Americas (other)     0     0     0     0     0     0     0     0     0   \n",
       "\n",
       "   ...          2008          2009          2010          2011          2012  \\\n",
       "0  ...  8.515264e+07  9.191295e+07  1.003652e+08  1.125912e+08  1.233332e+08   \n",
       "1  ...  3.183077e+10  3.301904e+10  3.421283e+10  3.541120e+10  3.664504e+10   \n",
       "2  ...  2.287948e+08  2.331696e+08  2.377643e+08  2.430001e+08  2.479062e+08   \n",
       "3  ...  2.894820e+09  3.015005e+09  3.132819e+09  3.252626e+09  3.380736e+09   \n",
       "4  ...  7.746025e+10  7.961787e+10  8.187178e+10  8.416656e+10  8.654197e+10   \n",
       "\n",
       "           2013          2014          2015          2016          2017  \n",
       "0  1.333337e+08  1.431228e+08  1.532303e+08  1.654882e+08  1.785029e+08  \n",
       "1  3.789569e+10  3.918617e+10  4.047518e+10  4.178583e+10  4.311757e+10  \n",
       "2  2.529662e+08  2.586784e+08  2.646261e+08  2.708990e+08  2.772782e+08  \n",
       "3  3.513171e+09  3.656348e+09  3.806940e+09  3.957319e+09  4.107870e+09  \n",
       "4  8.894874e+10  9.139192e+10  9.382747e+10  9.624253e+10  9.864116e+10  \n",
       "\n",
       "[5 rows x 268 columns]"
      ]
     },
     "execution_count": 4,
     "metadata": {},
     "output_type": "execute_result"
    }
   ],
   "source": [
    "df.head()"
   ]
  },
  {
   "cell_type": "code",
   "execution_count": 5,
   "metadata": {},
   "outputs": [
    {
     "data": {
      "text/html": [
       "<div>\n",
       "<style scoped>\n",
       "    .dataframe tbody tr th:only-of-type {\n",
       "        vertical-align: middle;\n",
       "    }\n",
       "\n",
       "    .dataframe tbody tr th {\n",
       "        vertical-align: top;\n",
       "    }\n",
       "\n",
       "    .dataframe thead th {\n",
       "        text-align: right;\n",
       "    }\n",
       "</style>\n",
       "<table border=\"1\" class=\"dataframe\">\n",
       "  <thead>\n",
       "    <tr style=\"text-align: right;\">\n",
       "      <th></th>\n",
       "      <th>Country</th>\n",
       "      <th>1751</th>\n",
       "      <th>1752</th>\n",
       "      <th>1753</th>\n",
       "      <th>1754</th>\n",
       "      <th>1755</th>\n",
       "      <th>1756</th>\n",
       "      <th>1757</th>\n",
       "      <th>1758</th>\n",
       "      <th>1759</th>\n",
       "      <th>...</th>\n",
       "      <th>2008</th>\n",
       "      <th>2009</th>\n",
       "      <th>2010</th>\n",
       "      <th>2011</th>\n",
       "      <th>2012</th>\n",
       "      <th>2013</th>\n",
       "      <th>2014</th>\n",
       "      <th>2015</th>\n",
       "      <th>2016</th>\n",
       "      <th>2017</th>\n",
       "    </tr>\n",
       "  </thead>\n",
       "  <tbody>\n",
       "    <tr>\n",
       "      <th>226</th>\n",
       "      <td>Wallis and Futuna Islands</td>\n",
       "      <td>0</td>\n",
       "      <td>0</td>\n",
       "      <td>0</td>\n",
       "      <td>0</td>\n",
       "      <td>0</td>\n",
       "      <td>0</td>\n",
       "      <td>0</td>\n",
       "      <td>0</td>\n",
       "      <td>0</td>\n",
       "      <td>...</td>\n",
       "      <td>2.015200e+05</td>\n",
       "      <td>2.308320e+05</td>\n",
       "      <td>2.601440e+05</td>\n",
       "      <td>2.857920e+05</td>\n",
       "      <td>3.114400e+05</td>\n",
       "      <td>3.334240e+05</td>\n",
       "      <td>3.554080e+05</td>\n",
       "      <td>3.793990e+05</td>\n",
       "      <td>4.036640e+05</td>\n",
       "      <td>4.295730e+05</td>\n",
       "    </tr>\n",
       "    <tr>\n",
       "      <th>227</th>\n",
       "      <td>World</td>\n",
       "      <td>9350528</td>\n",
       "      <td>18704720</td>\n",
       "      <td>28058912</td>\n",
       "      <td>37416768</td>\n",
       "      <td>46778288</td>\n",
       "      <td>56784672</td>\n",
       "      <td>66794720</td>\n",
       "      <td>76808432</td>\n",
       "      <td>86825808</td>\n",
       "      <td>...</td>\n",
       "      <td>1.260000e+12</td>\n",
       "      <td>1.290000e+12</td>\n",
       "      <td>1.330000e+12</td>\n",
       "      <td>1.360000e+12</td>\n",
       "      <td>1.400000e+12</td>\n",
       "      <td>1.430000e+12</td>\n",
       "      <td>1.470000e+12</td>\n",
       "      <td>1.500000e+12</td>\n",
       "      <td>1.540000e+12</td>\n",
       "      <td>1.580000e+12</td>\n",
       "    </tr>\n",
       "    <tr>\n",
       "      <th>228</th>\n",
       "      <td>Yemen</td>\n",
       "      <td>0</td>\n",
       "      <td>0</td>\n",
       "      <td>0</td>\n",
       "      <td>0</td>\n",
       "      <td>0</td>\n",
       "      <td>0</td>\n",
       "      <td>0</td>\n",
       "      <td>0</td>\n",
       "      <td>0</td>\n",
       "      <td>...</td>\n",
       "      <td>4.285533e+08</td>\n",
       "      <td>4.528009e+08</td>\n",
       "      <td>4.759527e+08</td>\n",
       "      <td>4.954658e+08</td>\n",
       "      <td>5.137040e+08</td>\n",
       "      <td>5.386844e+08</td>\n",
       "      <td>5.609470e+08</td>\n",
       "      <td>5.813316e+08</td>\n",
       "      <td>6.004670e+08</td>\n",
       "      <td>6.194328e+08</td>\n",
       "    </tr>\n",
       "    <tr>\n",
       "      <th>229</th>\n",
       "      <td>Zambia</td>\n",
       "      <td>0</td>\n",
       "      <td>0</td>\n",
       "      <td>0</td>\n",
       "      <td>0</td>\n",
       "      <td>0</td>\n",
       "      <td>0</td>\n",
       "      <td>0</td>\n",
       "      <td>0</td>\n",
       "      <td>0</td>\n",
       "      <td>...</td>\n",
       "      <td>1.543919e+08</td>\n",
       "      <td>1.567982e+08</td>\n",
       "      <td>1.593608e+08</td>\n",
       "      <td>1.621534e+08</td>\n",
       "      <td>1.656340e+08</td>\n",
       "      <td>1.693902e+08</td>\n",
       "      <td>1.736459e+08</td>\n",
       "      <td>1.780473e+08</td>\n",
       "      <td>1.826225e+08</td>\n",
       "      <td>1.873686e+08</td>\n",
       "    </tr>\n",
       "    <tr>\n",
       "      <th>230</th>\n",
       "      <td>Zimbabwe</td>\n",
       "      <td>0</td>\n",
       "      <td>0</td>\n",
       "      <td>0</td>\n",
       "      <td>0</td>\n",
       "      <td>0</td>\n",
       "      <td>0</td>\n",
       "      <td>0</td>\n",
       "      <td>0</td>\n",
       "      <td>0</td>\n",
       "      <td>...</td>\n",
       "      <td>6.170923e+08</td>\n",
       "      <td>6.226118e+08</td>\n",
       "      <td>6.302928e+08</td>\n",
       "      <td>6.397327e+08</td>\n",
       "      <td>6.473473e+08</td>\n",
       "      <td>6.588835e+08</td>\n",
       "      <td>6.707499e+08</td>\n",
       "      <td>6.816575e+08</td>\n",
       "      <td>6.915901e+08</td>\n",
       "      <td>7.019879e+08</td>\n",
       "    </tr>\n",
       "  </tbody>\n",
       "</table>\n",
       "<p>5 rows × 268 columns</p>\n",
       "</div>"
      ],
      "text/plain": [
       "                       Country     1751      1752      1753      1754  \\\n",
       "226  Wallis and Futuna Islands        0         0         0         0   \n",
       "227                      World  9350528  18704720  28058912  37416768   \n",
       "228                      Yemen        0         0         0         0   \n",
       "229                     Zambia        0         0         0         0   \n",
       "230                   Zimbabwe        0         0         0         0   \n",
       "\n",
       "         1755      1756      1757      1758      1759  ...          2008  \\\n",
       "226         0         0         0         0         0  ...  2.015200e+05   \n",
       "227  46778288  56784672  66794720  76808432  86825808  ...  1.260000e+12   \n",
       "228         0         0         0         0         0  ...  4.285533e+08   \n",
       "229         0         0         0         0         0  ...  1.543919e+08   \n",
       "230         0         0         0         0         0  ...  6.170923e+08   \n",
       "\n",
       "             2009          2010          2011          2012          2013  \\\n",
       "226  2.308320e+05  2.601440e+05  2.857920e+05  3.114400e+05  3.334240e+05   \n",
       "227  1.290000e+12  1.330000e+12  1.360000e+12  1.400000e+12  1.430000e+12   \n",
       "228  4.528009e+08  4.759527e+08  4.954658e+08  5.137040e+08  5.386844e+08   \n",
       "229  1.567982e+08  1.593608e+08  1.621534e+08  1.656340e+08  1.693902e+08   \n",
       "230  6.226118e+08  6.302928e+08  6.397327e+08  6.473473e+08  6.588835e+08   \n",
       "\n",
       "             2014          2015          2016          2017  \n",
       "226  3.554080e+05  3.793990e+05  4.036640e+05  4.295730e+05  \n",
       "227  1.470000e+12  1.500000e+12  1.540000e+12  1.580000e+12  \n",
       "228  5.609470e+08  5.813316e+08  6.004670e+08  6.194328e+08  \n",
       "229  1.736459e+08  1.780473e+08  1.826225e+08  1.873686e+08  \n",
       "230  6.707499e+08  6.816575e+08  6.915901e+08  7.019879e+08  \n",
       "\n",
       "[5 rows x 268 columns]"
      ]
     },
     "execution_count": 5,
     "metadata": {},
     "output_type": "execute_result"
    }
   ],
   "source": [
    "df.tail()"
   ]
  },
  {
   "cell_type": "code",
   "execution_count": 6,
   "metadata": {},
   "outputs": [
    {
     "data": {
      "text/html": [
       "<div>\n",
       "<style scoped>\n",
       "    .dataframe tbody tr th:only-of-type {\n",
       "        vertical-align: middle;\n",
       "    }\n",
       "\n",
       "    .dataframe tbody tr th {\n",
       "        vertical-align: top;\n",
       "    }\n",
       "\n",
       "    .dataframe thead th {\n",
       "        text-align: right;\n",
       "    }\n",
       "</style>\n",
       "<table border=\"1\" class=\"dataframe\">\n",
       "  <thead>\n",
       "    <tr style=\"text-align: right;\">\n",
       "      <th></th>\n",
       "      <th>Country</th>\n",
       "      <th>1751</th>\n",
       "      <th>1752</th>\n",
       "      <th>1753</th>\n",
       "      <th>1754</th>\n",
       "      <th>1755</th>\n",
       "      <th>1756</th>\n",
       "      <th>1757</th>\n",
       "      <th>1758</th>\n",
       "      <th>1759</th>\n",
       "      <th>...</th>\n",
       "      <th>2008</th>\n",
       "      <th>2009</th>\n",
       "      <th>2010</th>\n",
       "      <th>2011</th>\n",
       "      <th>2012</th>\n",
       "      <th>2013</th>\n",
       "      <th>2014</th>\n",
       "      <th>2015</th>\n",
       "      <th>2016</th>\n",
       "      <th>2017</th>\n",
       "    </tr>\n",
       "  </thead>\n",
       "  <tbody>\n",
       "    <tr>\n",
       "      <th>68</th>\n",
       "      <td>Equatorial Guinea</td>\n",
       "      <td>0</td>\n",
       "      <td>0</td>\n",
       "      <td>0</td>\n",
       "      <td>0</td>\n",
       "      <td>0</td>\n",
       "      <td>0</td>\n",
       "      <td>0</td>\n",
       "      <td>0</td>\n",
       "      <td>0</td>\n",
       "      <td>...</td>\n",
       "      <td>4.211035e+07</td>\n",
       "      <td>4.672699e+07</td>\n",
       "      <td>5.140226e+07</td>\n",
       "      <td>5.752480e+07</td>\n",
       "      <td>6.263608e+07</td>\n",
       "      <td>6.779499e+07</td>\n",
       "      <td>7.313710e+07</td>\n",
       "      <td>7.897356e+07</td>\n",
       "      <td>8.543184e+07</td>\n",
       "      <td>9.214673e+07</td>\n",
       "    </tr>\n",
       "    <tr>\n",
       "      <th>124</th>\n",
       "      <td>Macao</td>\n",
       "      <td>0</td>\n",
       "      <td>0</td>\n",
       "      <td>0</td>\n",
       "      <td>0</td>\n",
       "      <td>0</td>\n",
       "      <td>0</td>\n",
       "      <td>0</td>\n",
       "      <td>0</td>\n",
       "      <td>0</td>\n",
       "      <td>...</td>\n",
       "      <td>3.890069e+07</td>\n",
       "      <td>4.097085e+07</td>\n",
       "      <td>4.237782e+07</td>\n",
       "      <td>4.382510e+07</td>\n",
       "      <td>4.513682e+07</td>\n",
       "      <td>4.631662e+07</td>\n",
       "      <td>4.759902e+07</td>\n",
       "      <td>4.901350e+07</td>\n",
       "      <td>5.043574e+07</td>\n",
       "      <td>5.194791e+07</td>\n",
       "    </tr>\n",
       "    <tr>\n",
       "      <th>25</th>\n",
       "      <td>Bermuda</td>\n",
       "      <td>0</td>\n",
       "      <td>0</td>\n",
       "      <td>0</td>\n",
       "      <td>0</td>\n",
       "      <td>0</td>\n",
       "      <td>0</td>\n",
       "      <td>0</td>\n",
       "      <td>0</td>\n",
       "      <td>0</td>\n",
       "      <td>...</td>\n",
       "      <td>2.228445e+07</td>\n",
       "      <td>2.276077e+07</td>\n",
       "      <td>2.336899e+07</td>\n",
       "      <td>2.381234e+07</td>\n",
       "      <td>2.428866e+07</td>\n",
       "      <td>2.474666e+07</td>\n",
       "      <td>2.532190e+07</td>\n",
       "      <td>2.592244e+07</td>\n",
       "      <td>2.653462e+07</td>\n",
       "      <td>2.714670e+07</td>\n",
       "    </tr>\n",
       "    <tr>\n",
       "      <th>221</th>\n",
       "      <td>Uruguay</td>\n",
       "      <td>0</td>\n",
       "      <td>0</td>\n",
       "      <td>0</td>\n",
       "      <td>0</td>\n",
       "      <td>0</td>\n",
       "      <td>0</td>\n",
       "      <td>0</td>\n",
       "      <td>0</td>\n",
       "      <td>0</td>\n",
       "      <td>...</td>\n",
       "      <td>2.881792e+08</td>\n",
       "      <td>2.961265e+08</td>\n",
       "      <td>3.024232e+08</td>\n",
       "      <td>3.100770e+08</td>\n",
       "      <td>3.186701e+08</td>\n",
       "      <td>3.261600e+08</td>\n",
       "      <td>3.328161e+08</td>\n",
       "      <td>3.394672e+08</td>\n",
       "      <td>3.462316e+08</td>\n",
       "      <td>3.530719e+08</td>\n",
       "    </tr>\n",
       "    <tr>\n",
       "      <th>136</th>\n",
       "      <td>Mexico</td>\n",
       "      <td>0</td>\n",
       "      <td>0</td>\n",
       "      <td>0</td>\n",
       "      <td>0</td>\n",
       "      <td>0</td>\n",
       "      <td>0</td>\n",
       "      <td>0</td>\n",
       "      <td>0</td>\n",
       "      <td>0</td>\n",
       "      <td>...</td>\n",
       "      <td>1.459419e+10</td>\n",
       "      <td>1.507258e+10</td>\n",
       "      <td>1.553867e+10</td>\n",
       "      <td>1.602517e+10</td>\n",
       "      <td>1.652383e+10</td>\n",
       "      <td>1.701639e+10</td>\n",
       "      <td>1.749892e+10</td>\n",
       "      <td>1.797619e+10</td>\n",
       "      <td>1.848117e+10</td>\n",
       "      <td>1.897147e+10</td>\n",
       "    </tr>\n",
       "  </tbody>\n",
       "</table>\n",
       "<p>5 rows × 268 columns</p>\n",
       "</div>"
      ],
      "text/plain": [
       "               Country  1751  1752  1753  1754  1755  1756  1757  1758  1759  \\\n",
       "68   Equatorial Guinea     0     0     0     0     0     0     0     0     0   \n",
       "124              Macao     0     0     0     0     0     0     0     0     0   \n",
       "25             Bermuda     0     0     0     0     0     0     0     0     0   \n",
       "221            Uruguay     0     0     0     0     0     0     0     0     0   \n",
       "136             Mexico     0     0     0     0     0     0     0     0     0   \n",
       "\n",
       "     ...          2008          2009          2010          2011  \\\n",
       "68   ...  4.211035e+07  4.672699e+07  5.140226e+07  5.752480e+07   \n",
       "124  ...  3.890069e+07  4.097085e+07  4.237782e+07  4.382510e+07   \n",
       "25   ...  2.228445e+07  2.276077e+07  2.336899e+07  2.381234e+07   \n",
       "221  ...  2.881792e+08  2.961265e+08  3.024232e+08  3.100770e+08   \n",
       "136  ...  1.459419e+10  1.507258e+10  1.553867e+10  1.602517e+10   \n",
       "\n",
       "             2012          2013          2014          2015          2016  \\\n",
       "68   6.263608e+07  6.779499e+07  7.313710e+07  7.897356e+07  8.543184e+07   \n",
       "124  4.513682e+07  4.631662e+07  4.759902e+07  4.901350e+07  5.043574e+07   \n",
       "25   2.428866e+07  2.474666e+07  2.532190e+07  2.592244e+07  2.653462e+07   \n",
       "221  3.186701e+08  3.261600e+08  3.328161e+08  3.394672e+08  3.462316e+08   \n",
       "136  1.652383e+10  1.701639e+10  1.749892e+10  1.797619e+10  1.848117e+10   \n",
       "\n",
       "             2017  \n",
       "68   9.214673e+07  \n",
       "124  5.194791e+07  \n",
       "25   2.714670e+07  \n",
       "221  3.530719e+08  \n",
       "136  1.897147e+10  \n",
       "\n",
       "[5 rows x 268 columns]"
      ]
     },
     "execution_count": 6,
     "metadata": {},
     "output_type": "execute_result"
    }
   ],
   "source": [
    "df.sample(5)"
   ]
  },
  {
   "cell_type": "code",
   "execution_count": 7,
   "metadata": {},
   "outputs": [
    {
     "data": {
      "text/plain": [
       "Index(['Country', '1751', '1752', '1753', '1754', '1755', '1756', '1757',\n",
       "       '1758', '1759',\n",
       "       ...\n",
       "       '2008', '2009', '2010', '2011', '2012', '2013', '2014', '2015', '2016',\n",
       "       '2017'],\n",
       "      dtype='object', length=268)"
      ]
     },
     "execution_count": 7,
     "metadata": {},
     "output_type": "execute_result"
    }
   ],
   "source": [
    "df.columns"
   ]
  },
  {
   "cell_type": "code",
   "execution_count": 8,
   "metadata": {},
   "outputs": [
    {
     "name": "stdout",
     "output_type": "stream",
     "text": [
      "<class 'pandas.core.frame.DataFrame'>\n",
      "RangeIndex: 231 entries, 0 to 230\n",
      "Columns: 268 entries, Country to 2017\n",
      "dtypes: float64(98), int64(169), object(1)\n",
      "memory usage: 483.8+ KB\n"
     ]
    }
   ],
   "source": [
    "df.info()"
   ]
  },
  {
   "cell_type": "code",
   "execution_count": 9,
   "metadata": {},
   "outputs": [],
   "source": [
    "#Let us now see if there are any missing values"
   ]
  },
  {
   "cell_type": "code",
   "execution_count": 10,
   "metadata": {},
   "outputs": [
    {
     "data": {
      "text/plain": [
       "0"
      ]
     },
     "execution_count": 10,
     "metadata": {},
     "output_type": "execute_result"
    }
   ],
   "source": [
    "df.isnull().sum().sum() #There are no missing values but seems like there are lot of zero values."
   ]
  },
  {
   "cell_type": "code",
   "execution_count": 11,
   "metadata": {},
   "outputs": [
    {
     "data": {
      "text/html": [
       "<div>\n",
       "<style scoped>\n",
       "    .dataframe tbody tr th:only-of-type {\n",
       "        vertical-align: middle;\n",
       "    }\n",
       "\n",
       "    .dataframe tbody tr th {\n",
       "        vertical-align: top;\n",
       "    }\n",
       "\n",
       "    .dataframe thead th {\n",
       "        text-align: right;\n",
       "    }\n",
       "</style>\n",
       "<table border=\"1\" class=\"dataframe\">\n",
       "  <thead>\n",
       "    <tr style=\"text-align: right;\">\n",
       "      <th></th>\n",
       "      <th>Country</th>\n",
       "      <th>1751</th>\n",
       "      <th>1752</th>\n",
       "      <th>1753</th>\n",
       "      <th>1754</th>\n",
       "      <th>1755</th>\n",
       "      <th>1756</th>\n",
       "      <th>1757</th>\n",
       "      <th>1758</th>\n",
       "      <th>1759</th>\n",
       "      <th>...</th>\n",
       "      <th>2008</th>\n",
       "      <th>2009</th>\n",
       "      <th>2010</th>\n",
       "      <th>2011</th>\n",
       "      <th>2012</th>\n",
       "      <th>2013</th>\n",
       "      <th>2014</th>\n",
       "      <th>2015</th>\n",
       "      <th>2016</th>\n",
       "      <th>2017</th>\n",
       "    </tr>\n",
       "  </thead>\n",
       "  <tbody>\n",
       "    <tr>\n",
       "      <th>64</th>\n",
       "      <td>EU-28</td>\n",
       "      <td>9350528</td>\n",
       "      <td>18704720</td>\n",
       "      <td>28058912</td>\n",
       "      <td>37416768</td>\n",
       "      <td>46778288</td>\n",
       "      <td>56784672</td>\n",
       "      <td>66794720</td>\n",
       "      <td>76808432</td>\n",
       "      <td>86825808</td>\n",
       "      <td>...</td>\n",
       "      <td>3.200000e+11</td>\n",
       "      <td>3.240000e+11</td>\n",
       "      <td>3.280000e+11</td>\n",
       "      <td>3.310000e+11</td>\n",
       "      <td>3.350000e+11</td>\n",
       "      <td>3.390000e+11</td>\n",
       "      <td>3.420000e+11</td>\n",
       "      <td>3.460000e+11</td>\n",
       "      <td>3.490000e+11</td>\n",
       "      <td>3.530000e+11</td>\n",
       "    </tr>\n",
       "    <tr>\n",
       "      <th>219</th>\n",
       "      <td>United Kingdom</td>\n",
       "      <td>9350528</td>\n",
       "      <td>18704720</td>\n",
       "      <td>28058912</td>\n",
       "      <td>37416768</td>\n",
       "      <td>46778288</td>\n",
       "      <td>56784672</td>\n",
       "      <td>66794720</td>\n",
       "      <td>76808432</td>\n",
       "      <td>86825808</td>\n",
       "      <td>...</td>\n",
       "      <td>7.298441e+10</td>\n",
       "      <td>7.347902e+10</td>\n",
       "      <td>7.399123e+10</td>\n",
       "      <td>7.446104e+10</td>\n",
       "      <td>7.494871e+10</td>\n",
       "      <td>7.542644e+10</td>\n",
       "      <td>7.586514e+10</td>\n",
       "      <td>7.628780e+10</td>\n",
       "      <td>7.668635e+10</td>\n",
       "      <td>7.707106e+10</td>\n",
       "    </tr>\n",
       "    <tr>\n",
       "      <th>227</th>\n",
       "      <td>World</td>\n",
       "      <td>9350528</td>\n",
       "      <td>18704720</td>\n",
       "      <td>28058912</td>\n",
       "      <td>37416768</td>\n",
       "      <td>46778288</td>\n",
       "      <td>56784672</td>\n",
       "      <td>66794720</td>\n",
       "      <td>76808432</td>\n",
       "      <td>86825808</td>\n",
       "      <td>...</td>\n",
       "      <td>1.260000e+12</td>\n",
       "      <td>1.290000e+12</td>\n",
       "      <td>1.330000e+12</td>\n",
       "      <td>1.360000e+12</td>\n",
       "      <td>1.400000e+12</td>\n",
       "      <td>1.430000e+12</td>\n",
       "      <td>1.470000e+12</td>\n",
       "      <td>1.500000e+12</td>\n",
       "      <td>1.540000e+12</td>\n",
       "      <td>1.580000e+12</td>\n",
       "    </tr>\n",
       "  </tbody>\n",
       "</table>\n",
       "<p>3 rows × 268 columns</p>\n",
       "</div>"
      ],
      "text/plain": [
       "            Country     1751      1752      1753      1754      1755  \\\n",
       "64            EU-28  9350528  18704720  28058912  37416768  46778288   \n",
       "219  United Kingdom  9350528  18704720  28058912  37416768  46778288   \n",
       "227           World  9350528  18704720  28058912  37416768  46778288   \n",
       "\n",
       "         1756      1757      1758      1759  ...          2008          2009  \\\n",
       "64   56784672  66794720  76808432  86825808  ...  3.200000e+11  3.240000e+11   \n",
       "219  56784672  66794720  76808432  86825808  ...  7.298441e+10  7.347902e+10   \n",
       "227  56784672  66794720  76808432  86825808  ...  1.260000e+12  1.290000e+12   \n",
       "\n",
       "             2010          2011          2012          2013          2014  \\\n",
       "64   3.280000e+11  3.310000e+11  3.350000e+11  3.390000e+11  3.420000e+11   \n",
       "219  7.399123e+10  7.446104e+10  7.494871e+10  7.542644e+10  7.586514e+10   \n",
       "227  1.330000e+12  1.360000e+12  1.400000e+12  1.430000e+12  1.470000e+12   \n",
       "\n",
       "             2015          2016          2017  \n",
       "64   3.460000e+11  3.490000e+11  3.530000e+11  \n",
       "219  7.628780e+10  7.668635e+10  7.707106e+10  \n",
       "227  1.500000e+12  1.540000e+12  1.580000e+12  \n",
       "\n",
       "[3 rows x 268 columns]"
      ]
     },
     "execution_count": 11,
     "metadata": {},
     "output_type": "execute_result"
    }
   ],
   "source": [
    "df[df['1751']!= 0]"
   ]
  },
  {
   "cell_type": "markdown",
   "metadata": {},
   "source": [
    "Seems like United Kingdom made most of the emissions of world and europe for a long time or the data is only available for UK.We will plot a graph to visualize this better later."
   ]
  },
  {
   "cell_type": "code",
   "execution_count": 12,
   "metadata": {},
   "outputs": [],
   "source": [
    "#I will try to create descendng wise list for emmiters for year 2017"
   ]
  },
  {
   "cell_type": "code",
   "execution_count": 13,
   "metadata": {},
   "outputs": [],
   "source": [
    "year_17 = df.groupby('Country').agg({'2017':'sum'}).sort_values(by = '2017',ascending = False)"
   ]
  },
  {
   "cell_type": "code",
   "execution_count": 14,
   "metadata": {},
   "outputs": [
    {
     "data": {
      "text/html": [
       "<div>\n",
       "<style scoped>\n",
       "    .dataframe tbody tr th:only-of-type {\n",
       "        vertical-align: middle;\n",
       "    }\n",
       "\n",
       "    .dataframe tbody tr th {\n",
       "        vertical-align: top;\n",
       "    }\n",
       "\n",
       "    .dataframe thead th {\n",
       "        text-align: right;\n",
       "    }\n",
       "</style>\n",
       "<table border=\"1\" class=\"dataframe\">\n",
       "  <thead>\n",
       "    <tr style=\"text-align: right;\">\n",
       "      <th></th>\n",
       "      <th>2017</th>\n",
       "    </tr>\n",
       "    <tr>\n",
       "      <th>Country</th>\n",
       "      <th></th>\n",
       "    </tr>\n",
       "  </thead>\n",
       "  <tbody>\n",
       "    <tr>\n",
       "      <th>World</th>\n",
       "      <td>1.580000e+12</td>\n",
       "    </tr>\n",
       "    <tr>\n",
       "      <th>United States</th>\n",
       "      <td>3.990000e+11</td>\n",
       "    </tr>\n",
       "    <tr>\n",
       "      <th>EU-28</th>\n",
       "      <td>3.530000e+11</td>\n",
       "    </tr>\n",
       "    <tr>\n",
       "      <th>China</th>\n",
       "      <td>2.000000e+11</td>\n",
       "    </tr>\n",
       "    <tr>\n",
       "      <th>Asia and Pacific (other)</th>\n",
       "      <td>1.780000e+11</td>\n",
       "    </tr>\n",
       "    <tr>\n",
       "      <th>...</th>\n",
       "      <td>...</td>\n",
       "    </tr>\n",
       "    <tr>\n",
       "      <th>Saint Helena</th>\n",
       "      <td>3.463090e+05</td>\n",
       "    </tr>\n",
       "    <tr>\n",
       "      <th>Niue</th>\n",
       "      <td>2.715790e+05</td>\n",
       "    </tr>\n",
       "    <tr>\n",
       "      <th>Tuvalu</th>\n",
       "      <td>2.569230e+05</td>\n",
       "    </tr>\n",
       "    <tr>\n",
       "      <th>Antarctic Fisheries</th>\n",
       "      <td>1.538880e+05</td>\n",
       "    </tr>\n",
       "    <tr>\n",
       "      <th>Kyrgysztan</th>\n",
       "      <td>0.000000e+00</td>\n",
       "    </tr>\n",
       "  </tbody>\n",
       "</table>\n",
       "<p>231 rows × 1 columns</p>\n",
       "</div>"
      ],
      "text/plain": [
       "                                  2017\n",
       "Country                               \n",
       "World                     1.580000e+12\n",
       "United States             3.990000e+11\n",
       "EU-28                     3.530000e+11\n",
       "China                     2.000000e+11\n",
       "Asia and Pacific (other)  1.780000e+11\n",
       "...                                ...\n",
       "Saint Helena              3.463090e+05\n",
       "Niue                      2.715790e+05\n",
       "Tuvalu                    2.569230e+05\n",
       "Antarctic Fisheries       1.538880e+05\n",
       "Kyrgysztan                0.000000e+00\n",
       "\n",
       "[231 rows x 1 columns]"
      ]
     },
     "execution_count": 14,
     "metadata": {},
     "output_type": "execute_result"
    }
   ],
   "source": [
    "year_17 #country-wise emmisions arranged descendingly"
   ]
  },
  {
   "cell_type": "code",
   "execution_count": 15,
   "metadata": {},
   "outputs": [],
   "source": [
    "#Now I am transposing the dataFrame and do some basic data operations for my ease of work"
   ]
  },
  {
   "cell_type": "code",
   "execution_count": 16,
   "metadata": {},
   "outputs": [],
   "source": [
    "df2 = df.T"
   ]
  },
  {
   "cell_type": "code",
   "execution_count": 17,
   "metadata": {},
   "outputs": [],
   "source": [
    "df2 = df2.reset_index() "
   ]
  },
  {
   "cell_type": "code",
   "execution_count": 18,
   "metadata": {},
   "outputs": [],
   "source": [
    " df2.columns = df2.iloc[0]"
   ]
  },
  {
   "cell_type": "code",
   "execution_count": 19,
   "metadata": {},
   "outputs": [],
   "source": [
    "df2 = df2.rename(columns = {'Country':'Year'})"
   ]
  },
  {
   "cell_type": "code",
   "execution_count": 20,
   "metadata": {},
   "outputs": [],
   "source": [
    "df2.drop(0,inplace = True)"
   ]
  },
  {
   "cell_type": "code",
   "execution_count": 21,
   "metadata": {},
   "outputs": [
    {
     "data": {
      "text/plain": [
       "dtype('O')"
      ]
     },
     "execution_count": 21,
     "metadata": {},
     "output_type": "execute_result"
    }
   ],
   "source": [
    "df2.Year.dtype #Year Converted to int"
   ]
  },
  {
   "cell_type": "code",
   "execution_count": 22,
   "metadata": {},
   "outputs": [],
   "source": [
    "df2 = df2.astype('float')"
   ]
  },
  {
   "cell_type": "code",
   "execution_count": 23,
   "metadata": {},
   "outputs": [],
   "source": [
    "#I have just converted dataframe to float type even though year column should propbably be int type or DateTime column.But float should make no difference."
   ]
  },
  {
   "cell_type": "code",
   "execution_count": 24,
   "metadata": {},
   "outputs": [],
   "source": [
    "#Now let us plot some graphs"
   ]
  },
  {
   "cell_type": "code",
   "execution_count": 25,
   "metadata": {},
   "outputs": [
    {
     "data": {
      "text/plain": [
       "Text(0.5, 1.0, 'World emissions')"
      ]
     },
     "execution_count": 25,
     "metadata": {},
     "output_type": "execute_result"
    },
    {
     "data": {
      "image/png": "[encoded data removed]",
      "text/plain": [
       "<Figure size 1152x576 with 1 Axes>"
      ]
     },
     "metadata": {
      "needs_background": "light"
     },
     "output_type": "display_data"
    }
   ],
   "source": [
    "plt.figure(figsize = (16,8))\n",
    "sns.lineplot(x = df2['Year'],y = df2['World']).set_title('World emissions')"
   ]
  },
  {
   "cell_type": "markdown",
   "metadata": {},
   "source": [
    "So this plot tells us that world emissions started increasing drastically after about 1900 and before that the increase was very gradual."
   ]
  },
  {
   "cell_type": "code",
   "execution_count": 26,
   "metadata": {},
   "outputs": [],
   "source": [
    "#So now lets plot europe vs world emissions.Afterall Europe is where the first Industrial Evolution started."
   ]
  },
  {
   "cell_type": "code",
   "execution_count": 27,
   "metadata": {},
   "outputs": [
    {
     "data": {
      "text/plain": [
       "[]"
      ]
     },
     "execution_count": 27,
     "metadata": {},
     "output_type": "execute_result"
    },
    {
     "data": {
      "image/png": "[encoded data removed]",
      "text/plain": [
       "<Figure size 1152x576 with 1 Axes>"
      ]
     },
     "metadata": {
      "needs_background": "light"
     },
     "output_type": "display_data"
    }
   ],
   "source": [
    "plt.figure(figsize = (16,8))\n",
    "sns.lineplot(x = df2['Year'],y = df2['World'],label = 'World')\n",
    "sns.lineplot(x = df2['Year'], y = df2['EU-28'],label = 'Europe').set_title('World emissions')\n",
    "plt.plot()"
   ]
  },
  {
   "cell_type": "markdown",
   "metadata": {},
   "source": [
    "Now this is interesting.Seems like  28 major countries of europe made majority of world emissions till about 1920-1930.After that the world emissions increased at higher pace than europe."
   ]
  },
  {
   "cell_type": "code",
   "execution_count": 28,
   "metadata": {},
   "outputs": [
    {
     "data": {
      "text/plain": [
       "[]"
      ]
     },
     "execution_count": 28,
     "metadata": {},
     "output_type": "execute_result"
    },
    {
     "data": {
      "image/png": "[encoded data removed]",
      "text/plain": [
       "<Figure size 1152x576 with 1 Axes>"
      ]
     },
     "metadata": {
      "needs_background": "light"
     },
     "output_type": "display_data"
    }
   ],
   "source": [
    "plt.figure(figsize = (16,8))\n",
    "sns.lineplot(x = df2['Year'],y = df2['World'],label = 'World')\n",
    "sns.lineplot(x = df2['Year'], y = df2['EU-28'],label = 'Europe').set_title('World emissions')\n",
    "sns.lineplot(x = df2['Year'], y = df2['United Kingdom'],label = 'UK').set_title('World emissions')\n",
    "sns.lineplot(x = df2['Year'], y = df2['France'],label = 'Spain').set_title('World emissions')\n",
    "plt.plot()"
   ]
  },
  {
   "cell_type": "markdown",
   "metadata": {},
   "source": [
    "This helps us viusalize that United Kingdom made most of emissions of Europe and world till about  1890 and after that other countries outpaced it."
   ]
  },
  {
   "cell_type": "markdown",
   "metadata": {},
   "source": [
    "Now let us visualize rise of nations like United states, china and Russia in terms of year-wise CO2 and greenhouse emissions.These were the greatest emitter countries in the world for 2017 as we saw above."
   ]
  },
  {
   "cell_type": "code",
   "execution_count": 29,
   "metadata": {},
   "outputs": [
    {
     "data": {
      "text/plain": [
       "[]"
      ]
     },
     "execution_count": 29,
     "metadata": {},
     "output_type": "execute_result"
    },
    {
     "data": {
      "image/png": "[encoded data removed]",
      "text/plain": [
       "<Figure size 1152x576 with 1 Axes>"
      ]
     },
     "metadata": {
      "needs_background": "light"
     },
     "output_type": "display_data"
    }
   ],
   "source": [
    "plt.figure(figsize = (16,8))\n",
    "sns.lineplot(x = df2['Year'],y = df2['United States'],label = 'US')\n",
    "sns.lineplot(x = df2['Year'], y = df2['China'],label = 'China')\n",
    "sns.lineplot(x = df2['Year'],y = df2['Russia'],label = 'Russia')\n",
    "plt.plot()"
   ]
  },
  {
   "cell_type": "markdown",
   "metadata": {},
   "source": [
    "US is way ahead than other 2 nations.Russia has  a irregular graph and its rate of increase drops after 1990s.This may or may not be due to break up of Soviet Union."
   ]
  },
  {
   "cell_type": "markdown",
   "metadata": {},
   "source": [
    "Lets compare United states,Europe and world emissions."
   ]
  },
  {
   "cell_type": "code",
   "execution_count": 30,
   "metadata": {},
   "outputs": [
    {
     "data": {
      "text/plain": [
       "[]"
      ]
     },
     "execution_count": 30,
     "metadata": {},
     "output_type": "execute_result"
    },
    {
     "data": {
      "image/png": "[encoded data removed]",
      "text/plain": [
       "<Figure size 1152x576 with 1 Axes>"
      ]
     },
     "metadata": {
      "needs_background": "light"
     },
     "output_type": "display_data"
    }
   ],
   "source": [
    "plt.figure(figsize = (16,8))\n",
    "sns.lineplot(x = df2['Year'],y = df2['United States'],label = 'US')\n",
    "sns.lineplot(x = df2['Year'], y = df2['EU-28'],label = 'Europe')\n",
    "sns.lineplot(x = df2['Year'],y = df2['World'],label = 'World')\n",
    "plt.plot()"
   ]
  },
  {
   "cell_type": "raw",
   "metadata": {},
   "source": [
    "US overtook Europe in emissions after 1990s.From 1950 till 1990 they kept pace with each other. "
   ]
  },
  {
   "cell_type": "markdown",
   "metadata": {},
   "source": [
    "Now lets create a chloropeth map."
   ]
  },
  {
   "cell_type": "code",
   "execution_count": 31,
   "metadata": {},
   "outputs": [
    {
     "data": {
      "text/html": [
       "<div>\n",
       "<style scoped>\n",
       "    .dataframe tbody tr th:only-of-type {\n",
       "        vertical-align: middle;\n",
       "    }\n",
       "\n",
       "    .dataframe tbody tr th {\n",
       "        vertical-align: top;\n",
       "    }\n",
       "\n",
       "    .dataframe thead th {\n",
       "        text-align: right;\n",
       "    }\n",
       "</style>\n",
       "<table border=\"1\" class=\"dataframe\">\n",
       "  <thead>\n",
       "    <tr style=\"text-align: right;\">\n",
       "      <th></th>\n",
       "      <th>Country</th>\n",
       "      <th>1751</th>\n",
       "      <th>1752</th>\n",
       "      <th>1753</th>\n",
       "      <th>1754</th>\n",
       "      <th>1755</th>\n",
       "      <th>1756</th>\n",
       "      <th>1757</th>\n",
       "      <th>1758</th>\n",
       "      <th>1759</th>\n",
       "      <th>...</th>\n",
       "      <th>2009</th>\n",
       "      <th>2010</th>\n",
       "      <th>2011</th>\n",
       "      <th>2012</th>\n",
       "      <th>2013</th>\n",
       "      <th>2014</th>\n",
       "      <th>2015</th>\n",
       "      <th>2016</th>\n",
       "      <th>2017</th>\n",
       "      <th>country_code</th>\n",
       "    </tr>\n",
       "  </thead>\n",
       "  <tbody>\n",
       "    <tr>\n",
       "      <th>0</th>\n",
       "      <td>Afghanistan</td>\n",
       "      <td>0</td>\n",
       "      <td>0</td>\n",
       "      <td>0</td>\n",
       "      <td>0</td>\n",
       "      <td>0</td>\n",
       "      <td>0</td>\n",
       "      <td>0</td>\n",
       "      <td>0</td>\n",
       "      <td>0</td>\n",
       "      <td>...</td>\n",
       "      <td>9.191295e+07</td>\n",
       "      <td>1.003652e+08</td>\n",
       "      <td>1.125912e+08</td>\n",
       "      <td>1.233332e+08</td>\n",
       "      <td>1.333337e+08</td>\n",
       "      <td>1.431228e+08</td>\n",
       "      <td>1.532303e+08</td>\n",
       "      <td>1.654882e+08</td>\n",
       "      <td>1.785029e+08</td>\n",
       "      <td>AFG</td>\n",
       "    </tr>\n",
       "    <tr>\n",
       "      <th>1</th>\n",
       "      <td>Africa</td>\n",
       "      <td>0</td>\n",
       "      <td>0</td>\n",
       "      <td>0</td>\n",
       "      <td>0</td>\n",
       "      <td>0</td>\n",
       "      <td>0</td>\n",
       "      <td>0</td>\n",
       "      <td>0</td>\n",
       "      <td>0</td>\n",
       "      <td>...</td>\n",
       "      <td>3.301904e+10</td>\n",
       "      <td>3.421283e+10</td>\n",
       "      <td>3.541120e+10</td>\n",
       "      <td>3.664504e+10</td>\n",
       "      <td>3.789569e+10</td>\n",
       "      <td>3.918617e+10</td>\n",
       "      <td>4.047518e+10</td>\n",
       "      <td>4.178583e+10</td>\n",
       "      <td>4.311757e+10</td>\n",
       "      <td>ZAF</td>\n",
       "    </tr>\n",
       "    <tr>\n",
       "      <th>2</th>\n",
       "      <td>Albania</td>\n",
       "      <td>0</td>\n",
       "      <td>0</td>\n",
       "      <td>0</td>\n",
       "      <td>0</td>\n",
       "      <td>0</td>\n",
       "      <td>0</td>\n",
       "      <td>0</td>\n",
       "      <td>0</td>\n",
       "      <td>0</td>\n",
       "      <td>...</td>\n",
       "      <td>2.331696e+08</td>\n",
       "      <td>2.377643e+08</td>\n",
       "      <td>2.430001e+08</td>\n",
       "      <td>2.479062e+08</td>\n",
       "      <td>2.529662e+08</td>\n",
       "      <td>2.586784e+08</td>\n",
       "      <td>2.646261e+08</td>\n",
       "      <td>2.708990e+08</td>\n",
       "      <td>2.772782e+08</td>\n",
       "      <td>ALB</td>\n",
       "    </tr>\n",
       "    <tr>\n",
       "      <th>3</th>\n",
       "      <td>Algeria</td>\n",
       "      <td>0</td>\n",
       "      <td>0</td>\n",
       "      <td>0</td>\n",
       "      <td>0</td>\n",
       "      <td>0</td>\n",
       "      <td>0</td>\n",
       "      <td>0</td>\n",
       "      <td>0</td>\n",
       "      <td>0</td>\n",
       "      <td>...</td>\n",
       "      <td>3.015005e+09</td>\n",
       "      <td>3.132819e+09</td>\n",
       "      <td>3.252626e+09</td>\n",
       "      <td>3.380736e+09</td>\n",
       "      <td>3.513171e+09</td>\n",
       "      <td>3.656348e+09</td>\n",
       "      <td>3.806940e+09</td>\n",
       "      <td>3.957319e+09</td>\n",
       "      <td>4.107870e+09</td>\n",
       "      <td>DZA</td>\n",
       "    </tr>\n",
       "    <tr>\n",
       "      <th>4</th>\n",
       "      <td>Americas (other)</td>\n",
       "      <td>0</td>\n",
       "      <td>0</td>\n",
       "      <td>0</td>\n",
       "      <td>0</td>\n",
       "      <td>0</td>\n",
       "      <td>0</td>\n",
       "      <td>0</td>\n",
       "      <td>0</td>\n",
       "      <td>0</td>\n",
       "      <td>...</td>\n",
       "      <td>7.961787e+10</td>\n",
       "      <td>8.187178e+10</td>\n",
       "      <td>8.416656e+10</td>\n",
       "      <td>8.654197e+10</td>\n",
       "      <td>8.894874e+10</td>\n",
       "      <td>9.139192e+10</td>\n",
       "      <td>9.382747e+10</td>\n",
       "      <td>9.624253e+10</td>\n",
       "      <td>9.864116e+10</td>\n",
       "      <td>NaN</td>\n",
       "    </tr>\n",
       "  </tbody>\n",
       "</table>\n",
       "<p>5 rows × 269 columns</p>\n",
       "</div>"
      ],
      "text/plain": [
       "            Country  1751  1752  1753  1754  1755  1756  1757  1758  1759  \\\n",
       "0       Afghanistan     0     0     0     0     0     0     0     0     0   \n",
       "1            Africa     0     0     0     0     0     0     0     0     0   \n",
       "2           Albania     0     0     0     0     0     0     0     0     0   \n",
       "3           Algeria     0     0     0     0     0     0     0     0     0   \n",
       "4  Americas (other)     0     0     0     0     0     0     0     0     0   \n",
       "\n",
       "   ...          2009          2010          2011          2012          2013  \\\n",
       "0  ...  9.191295e+07  1.003652e+08  1.125912e+08  1.233332e+08  1.333337e+08   \n",
       "1  ...  3.301904e+10  3.421283e+10  3.541120e+10  3.664504e+10  3.789569e+10   \n",
       "2  ...  2.331696e+08  2.377643e+08  2.430001e+08  2.479062e+08  2.529662e+08   \n",
       "3  ...  3.015005e+09  3.132819e+09  3.252626e+09  3.380736e+09  3.513171e+09   \n",
       "4  ...  7.961787e+10  8.187178e+10  8.416656e+10  8.654197e+10  8.894874e+10   \n",
       "\n",
       "           2014          2015          2016          2017  country_code  \n",
       "0  1.431228e+08  1.532303e+08  1.654882e+08  1.785029e+08           AFG  \n",
       "1  3.918617e+10  4.047518e+10  4.178583e+10  4.311757e+10           ZAF  \n",
       "2  2.586784e+08  2.646261e+08  2.708990e+08  2.772782e+08           ALB  \n",
       "3  3.656348e+09  3.806940e+09  3.957319e+09  4.107870e+09           DZA  \n",
       "4  9.139192e+10  9.382747e+10  9.624253e+10  9.864116e+10           NaN  \n",
       "\n",
       "[5 rows x 269 columns]"
      ]
     },
     "execution_count": 31,
     "metadata": {},
     "output_type": "execute_result"
    }
   ],
   "source": [
    "\n",
    "import pycountry\n",
    "def do_fuzzy_search(country):\n",
    "    try:\n",
    "        result = pycountry.countries.search_fuzzy(country)\n",
    "        return result[0].alpha_3\n",
    "    except:\n",
    "        return np.nan\n",
    "\n",
    "df['country_code'] = df[\"Country\"].apply(lambda country: do_fuzzy_search(country))\n",
    "df.head()"
   ]
  },
  {
   "cell_type": "code",
   "execution_count": 32,
   "metadata": {},
   "outputs": [
    {
     "data": {
      "text/html": [
       "        <script type=\"text/javascript\">\n",
       "        window.PlotlyConfig = {MathJaxConfig: 'local'};\n",
       "        if (window.MathJax) {MathJax.Hub.Config({SVG: {font: \"STIX-Web\"}});}\n",
       "        if (typeof require !== 'undefined') {\n",
       "        require.undef(\"plotly\");\n",
       "        requirejs.config({\n",
       "            paths: {\n",
       "                'plotly': ['https://cdn.plot.ly/plotly-latest.min']\n",
       "            }\n",
       "        });\n",
       "        require(['plotly'], function(Plotly) {\n",
       "            window._Plotly = Plotly;\n",
       "        });\n",
       "        }\n",
       "        </script>\n",
       "        "
      ]
     },
     "metadata": {},
     "output_type": "display_data"
    },
    {
     "data": {
      "text/html": [
       "<div>\n",
       "        \n",
       "        \n",
       "            <div id=\"fafaceb2-d3ed-479b-a700-07056a338a48\" class=\"plotly-graph-div\" style=\"height:600px; width:100%;\"></div>\n",
       "            <script type=\"text/javascript\">\n",
       "                require([\"plotly\"], function(Plotly) {\n",
       "                    window.PLOTLYENV=window.PLOTLYENV || {};\n",
       "                    \n",
       "                if (document.getElementById(\"fafaceb2-d3ed-479b-a700-07056a338a48\")) {\n",
       "                    Plotly.newPlot(\n",
       "                        'fafaceb2-d3ed-479b-a700-07056a338a48',\n",
       "                        [{\"coloraxis\": \"coloraxis\", \"geo\": \"geo\", \"hoverlabel\": {\"namelength\": 0}, \"hovertemplate\": \"<b>%{hovertext}</b><br><br>country_code=%{location}<br>2017=%{z}\", \"hovertext\": [\"Afghanistan\", \"Africa\", \"Albania\", \"Algeria\", \"Andorra\", \"Angola\", \"Anguilla\", \"Antigua and Barbuda\", \"Argentina\", \"Armenia\", \"Aruba\", \"Australia\", \"Austria\", \"Azerbaijan\", \"Bahamas\", \"Bahrain\", \"Bangladesh\", \"Barbados\", \"Belarus\", \"Belgium\", \"Belize\", \"Benin\", \"Bermuda\", \"Bhutan\", \"Bolivia\", \"Bosnia and Herzegovina\", \"Botswana\", \"Brazil\", \"British Virgin Islands\", \"Brunei\", \"Bulgaria\", \"Burkina Faso\", \"Burundi\", \"Cambodia\", \"Cameroon\", \"Canada\", \"Cayman Islands\", \"Central African Republic\", \"Chad\", \"Chile\", \"China\", \"Christmas Island\", \"Colombia\", \"Comoros\", \"Congo\", \"Cook Islands\", \"Costa Rica\", \"Cote d'Ivoire\", \"Croatia\", \"Cuba\", \"Curacao\", \"Cyprus\", \"Czech Republic\", \"Denmark\", \"Djibouti\", \"Dominica\", \"Dominican Republic\", \"Ecuador\", \"Egypt\", \"El Salvador\", \"Equatorial Guinea\", \"Eritrea\", \"Estonia\", \"Ethiopia\", \"Falkland Islands\", \"Fiji\", \"Finland\", \"France\", \"French Guiana\", \"French Polynesia\", \"Gabon\", \"Gambia\", \"Georgia\", \"Germany\", \"Ghana\", \"Gibraltar\", \"Greece\", \"Greenland\", \"Grenada\", \"Guadeloupe\", \"Guatemala\", \"Guinea\", \"Guinea-Bissau\", \"Guyana\", \"Haiti\", \"Honduras\", \"Hong Kong\", \"Hungary\", \"Iceland\", \"India\", \"Indonesia\", \"Iran\", \"Iraq\", \"Ireland\", \"Israel\", \"Italy\", \"Jamaica\", \"Japan\", \"Jordan\", \"Kazakhstan\", \"Kenya\", \"Kiribati\", \"Kuwait\", \"Kyrgyzstan\", \"Latvia\", \"Lebanon\", \"Lesotho\", \"Liberia\", \"Libya\", \"Liechtenstein\", \"Lithuania\", \"Luxembourg\", \"Macao\", \"Macedonia\", \"Madagascar\", \"Malawi\", \"Malaysia\", \"Maldives\", \"Mali\", \"Malta\", \"Marshall Islands\", \"Martinique\", \"Mauritania\", \"Mauritius\", \"Mexico\", \"Moldova\", \"Mongolia\", \"Montenegro\", \"Montserrat\", \"Morocco\", \"Mozambique\", \"Myanmar\", \"Namibia\", \"Nauru\", \"Nepal\", \"Netherlands\", \"New Caledonia\", \"New Zealand\", \"Nicaragua\", \"Niger\", \"Nigeria\", \"Niue\", \"Norway\", \"Oman\", \"Pakistan\", \"Palau\", \"Palestine\", \"Panama\", \"Papua New Guinea\", \"Paraguay\", \"Peru\", \"Philippines\", \"Poland\", \"Portugal\", \"Qatar\", \"Reunion\", \"Romania\", \"Russia\", \"Rwanda\", \"Saint Helena\", \"Saint Kitts and Nevis\", \"Saint Lucia\", \"Saint Pierre and Miquelon\", \"Saint Vincent and the Grenadines\", \"Samoa\", \"Sao Tome and Principe\", \"Saudi Arabia\", \"Senegal\", \"Serbia\", \"Seychelles\", \"Sierra Leone\", \"Singapore\", \"Sint Maarten (Dutch part)\", \"Slovakia\", \"Slovenia\", \"Solomon Islands\", \"Somalia\", \"South Africa\", \"South Sudan\", \"Spain\", \"Sri Lanka\", \"Sudan\", \"Suriname\", \"Sweden\", \"Switzerland\", \"Syria\", \"Taiwan\", \"Tajikistan\", \"Tanzania\", \"Thailand\", \"Timor\", \"Togo\", \"Tonga\", \"Trinidad and Tobago\", \"Tunisia\", \"Turkey\", \"Turkmenistan\", \"Turks and Caicos Islands\", \"Tuvalu\", \"Uganda\", \"Ukraine\", \"United Arab Emirates\", \"United Kingdom\", \"United States\", \"Uruguay\", \"Uzbekistan\", \"Vanuatu\", \"Venezuela\", \"Vietnam\", \"Yemen\", \"Zambia\", \"Zimbabwe\"], \"locations\": [\"AFG\", \"ZAF\", \"ALB\", \"DZA\", \"AND\", \"AGO\", \"AIA\", \"ATG\", \"ARG\", \"ARM\", \"ABW\", \"AUS\", \"AUT\", \"AZE\", \"BHS\", \"BHR\", \"BGD\", \"BRB\", \"BLR\", \"BEL\", \"BLZ\", \"BEN\", \"BMU\", \"BTN\", \"BOL\", \"BIH\", \"BWA\", \"BRA\", \"VGB\", \"BRN\", \"BGR\", \"BFA\", \"BDI\", \"KHM\", \"CMR\", \"CAN\", \"CYM\", \"CAF\", \"TCD\", \"CHL\", \"CHN\", \"CXR\", \"COL\", \"COM\", \"COG\", \"COK\", \"CRI\", \"CIV\", \"HRV\", \"CUB\", \"NLD\", \"CYP\", \"CZE\", \"DNK\", \"DJI\", \"DMA\", \"DOM\", \"ECU\", \"EGY\", \"SLV\", \"GNQ\", \"ERI\", \"EST\", \"ETH\", \"FLK\", \"FJI\", \"FIN\", \"FRA\", \"GUF\", \"PYF\", \"GAB\", \"GMB\", \"GEO\", \"DEU\", \"GHA\", \"GIB\", \"GRC\", \"GRL\", \"GRD\", \"FRA\", \"GTM\", \"GIN\", \"GNB\", \"GUY\", \"HTI\", \"HND\", \"HKG\", \"HUN\", \"ISL\", \"IND\", \"IDN\", \"IRN\", \"IRQ\", \"IRL\", \"ISR\", \"ITA\", \"JAM\", \"JPN\", \"JOR\", \"KAZ\", \"KEN\", \"KIR\", \"KWT\", \"KGZ\", \"LVA\", \"LBN\", \"LSO\", \"LBR\", \"LBY\", \"LIE\", \"LTU\", \"LUX\", \"MAC\", \"MKD\", \"MDG\", \"MWI\", \"MYS\", \"MDV\", \"MLI\", \"MLT\", \"MHL\", \"MTQ\", \"MRT\", \"MUS\", \"MEX\", \"MDA\", \"MNG\", \"MNE\", \"MSR\", \"MAR\", \"MOZ\", \"MMR\", \"NAM\", \"NRU\", \"NPL\", \"NLD\", \"NCL\", \"NZL\", \"NIC\", \"NGA\", \"NGA\", \"NIU\", \"NOR\", \"OMN\", \"PAK\", \"PLW\", \"PSE\", \"PAN\", \"PNG\", \"PRY\", \"PER\", \"PHL\", \"POL\", \"PRT\", \"QAT\", \"REU\", \"ROU\", \"RUS\", \"RWA\", \"SHN\", \"KNA\", \"LCA\", \"SPM\", \"VCT\", \"WSM\", \"STP\", \"SAU\", \"SEN\", \"SRB\", \"SYC\", \"SLE\", \"SGP\", \"SXM\", \"SVK\", \"SVN\", \"SLB\", \"SOM\", \"ZAF\", \"SSD\", \"ESP\", \"LKA\", \"SDN\", \"SUR\", \"SWE\", \"CHE\", \"SYR\", \"TWN\", \"TJK\", \"TZA\", \"THA\", \"TLS\", \"TGO\", \"TON\", \"TTO\", \"TUN\", \"TUR\", \"TKM\", \"TCA\", \"TUV\", \"UGA\", \"UKR\", \"ARE\", \"GBR\", \"USA\", \"URY\", \"UZB\", \"VUT\", \"VEN\", \"VNM\", \"YEM\", \"ZMB\", \"ZWE\"], \"name\": \"\", \"type\": \"choropleth\", \"z\": [178502925.0, 43117573841.0, 277278189.0, 4107869896.0, 13717377.0, 623762311.0, 3040078.0, 21756717.0, 7977373398.0, 273731872.0, 74231827.0, 17360810555.0, 5303713347.0, 2471780322.0, 157456745.0, 826530054.0, 1361147180.0, 51506565.0, 4058119852.0, 12257548524.0, 17162217.0, 98792204.0, 27146704.0, 13762670.0, 461310418.0, 839470358.0, 131552447.0, 14190905220.0, 4416724.0, 335970645.0, 3703285889.0, 50218081.0, 10728250.0, 105225247.0, 194766284.0, 31913521876.0, 14062432.0, 11448062.0, 14410061.0, 2657499285.0, 200000000000.0, 1330032.0, 3110040939.0, 4221082.0, 70573384.0, 2044872.0, 231692589.0, 303413163.0, 981746998.0, 1656996984.0, 416123737.0, 270926137.0, 8321584468.0, 3991753370.0, 19174274.0, 3921840.0, 666238638.0, 1100685365.0, 5561231356.0, 213279980.0, 92146727.0, 16336483.0, 1147762306.0, 207190474.0, 4785184.0, 45160830.0, 3065528408.0, 37768075471.0, 21361120.0, 27182548.0, 245703654.0, 12030971.0, 593121176.0, 90565630028.0, 316321491.0, 11380384.0, 3884493460.0, 30246493.0, 7332340.0, 66083904.0, 404420205.0, 77269714.0, 9228086.0, 89660737.0, 69042835.0, 229623078.0, 1508760365.0, 4870991390.0, 141492956.0, 48557863281.0, 12430271016.0, 16580287145.0, 3983988823.0, 2112667064.0, 2221239489.0, 23645999964.0, 424398054.0, 62304608199.0, 614829331.0, 12300616894.0, 410113224.0, 1913895.0, 2626874527.0, 181734180.0, 618492628.0, 634652476.0, 56424722.0, 47905144.0, 1951955718.0, 2000665.0, 1015509983.0, 725159607.0, 51947913.0, 561863099.0, 83638600.0, 43051513.0, 5181419717.0, 19836857.0, 33149434.0, 97461275.0, 2266040.0, 70172928.0, 63673149.0, 102339737.0, 18971469004.0, 175514617.0, 536837014.0, 109622459.0, 1539754.0, 1589225046.0, 163105098.0, 484208427.0, 63941325.0, 4678403.0, 115699603.0, 11308449554.0, 133507792.0, 1779162164.0, 160721077.0, 44106013.0, 3372735176.0, 271579.0, 2585216441.0, 1071493410.0, 4360589827.0, 11012245.0, 48304340.0, 270033082.0, 152482152.0, 150098368.0, 1857299524.0, 2959759692.0, 26848816401.0, 2476694776.0, 1878554596.0, 90324928.0, 8323783409.0, 101000000000.0, 25185419.0, 346309.0, 5660325.0, 12036657.0, 3596642.0, 6228123.0, 6445614.0, 2954820.0, 13843097583.0, 203710385.0, 2381789224.0, 14863511.0, 35859969.0, 1936584508.0, 46502953.0, 2730069466.0, 756184328.0, 7165127.0, 31190568.0, 19787369762.0, 29721727.0, 14136085452.0, 436284059.0, 353794293.0, 104379605.0, 4858725461.0, 2918791195.0, 1762385573.0, 8050965637.0, 287463210.0, 203638082.0, 7013231542.0, 4729566.0, 62673116.0, 3965652.0, 1455796378.0, 808028626.0, 9602486274.0, 2183172085.0, 3318276.0, 256923.0, 95059160.0, 25796386297.0, 4154728973.0, 77071055648.0, 399000000000.0, 353071942.0, 6034285830.0, 4315060.0, 7571193371.0, 3016099138.0, 619432763.0, 187368600.0, 701987856.0]}],\n",
       "                        {\"coloraxis\": {\"colorbar\": {\"title\": {\"text\": \"2017\"}}, \"colorscale\": [[0.0, \"#0d0887\"], [0.1111111111111111, \"#46039f\"], [0.2222222222222222, \"#7201a8\"], [0.3333333333333333, \"#9c179e\"], [0.4444444444444444, \"#bd3786\"], [0.5555555555555556, \"#d8576b\"], [0.6666666666666666, \"#ed7953\"], [0.7777777777777778, \"#fb9f3a\"], [0.8888888888888888, \"#fdca26\"], [1.0, \"#f0f921\"]]}, \"geo\": {\"center\": {}, \"domain\": {\"x\": [0.0, 1.0], \"y\": [0.0, 1.0]}}, \"height\": 600, \"legend\": {\"tracegroupgap\": 0}, \"margin\": {\"t\": 60}, \"template\": {\"data\": {\"bar\": [{\"error_x\": {\"color\": \"#2a3f5f\"}, \"error_y\": {\"color\": \"#2a3f5f\"}, \"marker\": {\"line\": {\"color\": \"#E5ECF6\", \"width\": 0.5}}, \"type\": \"bar\"}], \"barpolar\": [{\"marker\": {\"line\": {\"color\": \"#E5ECF6\", \"width\": 0.5}}, \"type\": \"barpolar\"}], \"carpet\": [{\"aaxis\": {\"endlinecolor\": \"#2a3f5f\", \"gridcolor\": \"white\", \"linecolor\": \"white\", \"minorgridcolor\": \"white\", \"startlinecolor\": \"#2a3f5f\"}, \"baxis\": {\"endlinecolor\": \"#2a3f5f\", \"gridcolor\": \"white\", \"linecolor\": \"white\", \"minorgridcolor\": \"white\", \"startlinecolor\": \"#2a3f5f\"}, \"type\": \"carpet\"}], \"choropleth\": [{\"colorbar\": {\"outlinewidth\": 0, \"ticks\": \"\"}, \"type\": \"choropleth\"}], \"contour\": [{\"colorbar\": {\"outlinewidth\": 0, \"ticks\": \"\"}, \"colorscale\": [[0.0, \"#0d0887\"], [0.1111111111111111, \"#46039f\"], [0.2222222222222222, \"#7201a8\"], [0.3333333333333333, \"#9c179e\"], [0.4444444444444444, \"#bd3786\"], [0.5555555555555556, \"#d8576b\"], [0.6666666666666666, \"#ed7953\"], [0.7777777777777778, \"#fb9f3a\"], [0.8888888888888888, \"#fdca26\"], [1.0, \"#f0f921\"]], \"type\": \"contour\"}], \"contourcarpet\": [{\"colorbar\": {\"outlinewidth\": 0, \"ticks\": \"\"}, \"type\": \"contourcarpet\"}], \"heatmap\": [{\"colorbar\": {\"outlinewidth\": 0, \"ticks\": \"\"}, \"colorscale\": [[0.0, \"#0d0887\"], [0.1111111111111111, \"#46039f\"], [0.2222222222222222, \"#7201a8\"], [0.3333333333333333, \"#9c179e\"], [0.4444444444444444, \"#bd3786\"], [0.5555555555555556, \"#d8576b\"], [0.6666666666666666, \"#ed7953\"], [0.7777777777777778, \"#fb9f3a\"], [0.8888888888888888, \"#fdca26\"], [1.0, \"#f0f921\"]], \"type\": \"heatmap\"}], \"heatmapgl\": [{\"colorbar\": {\"outlinewidth\": 0, \"ticks\": \"\"}, \"colorscale\": [[0.0, \"#0d0887\"], [0.1111111111111111, \"#46039f\"], [0.2222222222222222, \"#7201a8\"], [0.3333333333333333, \"#9c179e\"], [0.4444444444444444, \"#bd3786\"], [0.5555555555555556, \"#d8576b\"], [0.6666666666666666, \"#ed7953\"], [0.7777777777777778, \"#fb9f3a\"], [0.8888888888888888, \"#fdca26\"], [1.0, \"#f0f921\"]], \"type\": \"heatmapgl\"}], \"histogram\": [{\"marker\": {\"colorbar\": {\"outlinewidth\": 0, \"ticks\": \"\"}}, \"type\": \"histogram\"}], \"histogram2d\": [{\"colorbar\": {\"outlinewidth\": 0, \"ticks\": \"\"}, \"colorscale\": [[0.0, \"#0d0887\"], [0.1111111111111111, \"#46039f\"], [0.2222222222222222, \"#7201a8\"], [0.3333333333333333, \"#9c179e\"], [0.4444444444444444, \"#bd3786\"], [0.5555555555555556, \"#d8576b\"], [0.6666666666666666, \"#ed7953\"], [0.7777777777777778, \"#fb9f3a\"], [0.8888888888888888, \"#fdca26\"], [1.0, \"#f0f921\"]], \"type\": \"histogram2d\"}], \"histogram2dcontour\": [{\"colorbar\": {\"outlinewidth\": 0, \"ticks\": \"\"}, \"colorscale\": [[0.0, \"#0d0887\"], [0.1111111111111111, \"#46039f\"], [0.2222222222222222, \"#7201a8\"], [0.3333333333333333, \"#9c179e\"], [0.4444444444444444, \"#bd3786\"], [0.5555555555555556, \"#d8576b\"], [0.6666666666666666, \"#ed7953\"], [0.7777777777777778, \"#fb9f3a\"], [0.8888888888888888, \"#fdca26\"], [1.0, \"#f0f921\"]], \"type\": \"histogram2dcontour\"}], \"mesh3d\": [{\"colorbar\": {\"outlinewidth\": 0, \"ticks\": \"\"}, \"type\": \"mesh3d\"}], \"parcoords\": [{\"line\": {\"colorbar\": {\"outlinewidth\": 0, \"ticks\": \"\"}}, \"type\": \"parcoords\"}], \"pie\": [{\"automargin\": true, \"type\": \"pie\"}], \"scatter\": [{\"marker\": {\"colorbar\": {\"outlinewidth\": 0, \"ticks\": \"\"}}, \"type\": \"scatter\"}], \"scatter3d\": [{\"line\": {\"colorbar\": {\"outlinewidth\": 0, \"ticks\": \"\"}}, \"marker\": {\"colorbar\": {\"outlinewidth\": 0, \"ticks\": \"\"}}, \"type\": \"scatter3d\"}], \"scattercarpet\": [{\"marker\": {\"colorbar\": {\"outlinewidth\": 0, \"ticks\": \"\"}}, \"type\": \"scattercarpet\"}], \"scattergeo\": [{\"marker\": {\"colorbar\": {\"outlinewidth\": 0, \"ticks\": \"\"}}, \"type\": \"scattergeo\"}], \"scattergl\": [{\"marker\": {\"colorbar\": {\"outlinewidth\": 0, \"ticks\": \"\"}}, \"type\": \"scattergl\"}], \"scattermapbox\": [{\"marker\": {\"colorbar\": {\"outlinewidth\": 0, \"ticks\": \"\"}}, \"type\": \"scattermapbox\"}], \"scatterpolar\": [{\"marker\": {\"colorbar\": {\"outlinewidth\": 0, \"ticks\": \"\"}}, \"type\": \"scatterpolar\"}], \"scatterpolargl\": [{\"marker\": {\"colorbar\": {\"outlinewidth\": 0, \"ticks\": \"\"}}, \"type\": \"scatterpolargl\"}], \"scatterternary\": [{\"marker\": {\"colorbar\": {\"outlinewidth\": 0, \"ticks\": \"\"}}, \"type\": \"scatterternary\"}], \"surface\": [{\"colorbar\": {\"outlinewidth\": 0, \"ticks\": \"\"}, \"colorscale\": [[0.0, \"#0d0887\"], [0.1111111111111111, \"#46039f\"], [0.2222222222222222, \"#7201a8\"], [0.3333333333333333, \"#9c179e\"], [0.4444444444444444, \"#bd3786\"], [0.5555555555555556, \"#d8576b\"], [0.6666666666666666, \"#ed7953\"], [0.7777777777777778, \"#fb9f3a\"], [0.8888888888888888, \"#fdca26\"], [1.0, \"#f0f921\"]], \"type\": \"surface\"}], \"table\": [{\"cells\": {\"fill\": {\"color\": \"#EBF0F8\"}, \"line\": {\"color\": \"white\"}}, \"header\": {\"fill\": {\"color\": \"#C8D4E3\"}, \"line\": {\"color\": \"white\"}}, \"type\": \"table\"}]}, \"layout\": {\"annotationdefaults\": {\"arrowcolor\": \"#2a3f5f\", \"arrowhead\": 0, \"arrowwidth\": 1}, \"coloraxis\": {\"colorbar\": {\"outlinewidth\": 0, \"ticks\": \"\"}}, \"colorscale\": {\"diverging\": [[0, \"#8e0152\"], [0.1, \"#c51b7d\"], [0.2, \"#de77ae\"], [0.3, \"#f1b6da\"], [0.4, \"#fde0ef\"], [0.5, \"#f7f7f7\"], [0.6, \"#e6f5d0\"], [0.7, \"#b8e186\"], [0.8, \"#7fbc41\"], [0.9, \"#4d9221\"], [1, \"#276419\"]], \"sequential\": [[0.0, \"#0d0887\"], [0.1111111111111111, \"#46039f\"], [0.2222222222222222, \"#7201a8\"], [0.3333333333333333, \"#9c179e\"], [0.4444444444444444, \"#bd3786\"], [0.5555555555555556, \"#d8576b\"], [0.6666666666666666, \"#ed7953\"], [0.7777777777777778, \"#fb9f3a\"], [0.8888888888888888, \"#fdca26\"], [1.0, \"#f0f921\"]], \"sequentialminus\": [[0.0, \"#0d0887\"], [0.1111111111111111, \"#46039f\"], [0.2222222222222222, \"#7201a8\"], [0.3333333333333333, \"#9c179e\"], [0.4444444444444444, \"#bd3786\"], [0.5555555555555556, \"#d8576b\"], [0.6666666666666666, \"#ed7953\"], [0.7777777777777778, \"#fb9f3a\"], [0.8888888888888888, \"#fdca26\"], [1.0, \"#f0f921\"]]}, \"colorway\": [\"#636efa\", \"#EF553B\", \"#00cc96\", \"#ab63fa\", \"#FFA15A\", \"#19d3f3\", \"#FF6692\", \"#B6E880\", \"#FF97FF\", \"#FECB52\"], \"font\": {\"color\": \"#2a3f5f\"}, \"geo\": {\"bgcolor\": \"white\", \"lakecolor\": \"white\", \"landcolor\": \"#E5ECF6\", \"showlakes\": true, \"showland\": true, \"subunitcolor\": \"white\"}, \"hoverlabel\": {\"align\": \"left\"}, \"hovermode\": \"closest\", \"mapbox\": {\"style\": \"light\"}, \"paper_bgcolor\": \"white\", \"plot_bgcolor\": \"#E5ECF6\", \"polar\": {\"angularaxis\": {\"gridcolor\": \"white\", \"linecolor\": \"white\", \"ticks\": \"\"}, \"bgcolor\": \"#E5ECF6\", \"radialaxis\": {\"gridcolor\": \"white\", \"linecolor\": \"white\", \"ticks\": \"\"}}, \"scene\": {\"xaxis\": {\"backgroundcolor\": \"#E5ECF6\", \"gridcolor\": \"white\", \"gridwidth\": 2, \"linecolor\": \"white\", \"showbackground\": true, \"ticks\": \"\", \"zerolinecolor\": \"white\"}, \"yaxis\": {\"backgroundcolor\": \"#E5ECF6\", \"gridcolor\": \"white\", \"gridwidth\": 2, \"linecolor\": \"white\", \"showbackground\": true, \"ticks\": \"\", \"zerolinecolor\": \"white\"}, \"zaxis\": {\"backgroundcolor\": \"#E5ECF6\", \"gridcolor\": \"white\", \"gridwidth\": 2, \"linecolor\": \"white\", \"showbackground\": true, \"ticks\": \"\", \"zerolinecolor\": \"white\"}}, \"shapedefaults\": {\"line\": {\"color\": \"#2a3f5f\"}}, \"ternary\": {\"aaxis\": {\"gridcolor\": \"white\", \"linecolor\": \"white\", \"ticks\": \"\"}, \"baxis\": {\"gridcolor\": \"white\", \"linecolor\": \"white\", \"ticks\": \"\"}, \"bgcolor\": \"#E5ECF6\", \"caxis\": {\"gridcolor\": \"white\", \"linecolor\": \"white\", \"ticks\": \"\"}}, \"title\": {\"x\": 0.05}, \"xaxis\": {\"automargin\": true, \"gridcolor\": \"white\", \"linecolor\": \"white\", \"ticks\": \"\", \"title\": {\"standoff\": 15}, \"zerolinecolor\": \"white\", \"zerolinewidth\": 2}, \"yaxis\": {\"automargin\": true, \"gridcolor\": \"white\", \"linecolor\": \"white\", \"ticks\": \"\", \"title\": {\"standoff\": 15}, \"zerolinecolor\": \"white\", \"zerolinewidth\": 2}}}},\n",
       "                        {\"responsive\": true}\n",
       "                    ).then(function(){\n",
       "                            \n",
       "var gd = document.getElementById('fafaceb2-d3ed-479b-a700-07056a338a48');\n",
       "var x = new MutationObserver(function (mutations, observer) {{\n",
       "        var display = window.getComputedStyle(gd).display;\n",
       "        if (!display || display === 'none') {{\n",
       "            console.log([gd, 'removed!']);\n",
       "            Plotly.purge(gd);\n",
       "            observer.disconnect();\n",
       "        }}\n",
       "}});\n",
       "\n",
       "// Listen for the removal of the full notebook cells\n",
       "var notebookContainer = gd.closest('#notebook-container');\n",
       "if (notebookContainer) {{\n",
       "    x.observe(notebookContainer, {childList: true});\n",
       "}}\n",
       "\n",
       "// Listen for the clearing of the current output cell\n",
       "var outputEl = gd.closest('.output');\n",
       "if (outputEl) {{\n",
       "    x.observe(outputEl, {childList: true});\n",
       "}}\n",
       "\n",
       "                        })\n",
       "                };\n",
       "                });\n",
       "            </script>\n",
       "        </div>"
      ]
     },
     "metadata": {},
     "output_type": "display_data"
    },
    {
     "data": {
      "text/plain": [
       "<Figure size 1152x576 with 0 Axes>"
      ]
     },
     "metadata": {},
     "output_type": "display_data"
    }
   ],
   "source": [
    "plt.figure(figsize = (16,8))\n",
    "plot_df = df.dropna()\n",
    "fig = px.choropleth(plot_df, locations=\"country_code\",\n",
    "                    color=\"2017\",\n",
    "                    hover_name=\"Country\",\n",
    "                    color_continuous_scale=px.colors.sequential.Plasma)\n",
    "fig.show()"
   ]
  },
  {
   "cell_type": "markdown",
   "metadata": {},
   "source": [
    "There are some missing country codes which we can input explicitly.Lets correct them"
   ]
  },
  {
   "cell_type": "code",
   "execution_count": 33,
   "metadata": {},
   "outputs": [
    {
     "data": {
      "text/plain": [
       "4                     Americas (other)\n",
       "8                  Antarctic Fisheries\n",
       "13            Asia and Pacific (other)\n",
       "28     Bonaire Sint Eustatius and Saba\n",
       "40                          Cape Verde\n",
       "58                      Czechoslovakia\n",
       "59        Democratic Republic of Congo\n",
       "64                               EU-28\n",
       "72                      Europe (other)\n",
       "73                      Faeroe Islands\n",
       "113                         Kyrgysztan\n",
       "115                               Laos\n",
       "137               Micronesia (country)\n",
       "138                        Middle East\n",
       "156                        North Korea\n",
       "193                        South Korea\n",
       "199                          Swaziland\n",
       "226          Wallis and Futuna Islands\n",
       "227                              World\n",
       "Name: Country, dtype: object"
      ]
     },
     "execution_count": 33,
     "metadata": {},
     "output_type": "execute_result"
    }
   ],
   "source": [
    "df[df['country_code'].isnull() == True]['Country']"
   ]
  },
  {
   "cell_type": "raw",
   "metadata": {},
   "source": [
    "These are the codes missing from our data.Some of them are countries and others are not.So Now we will explicitly enter code for these countries."
   ]
  },
  {
   "cell_type": "code",
   "execution_count": 34,
   "metadata": {},
   "outputs": [],
   "source": [
    "correct_codes = {\"Congo\": \"COD\", \"Democratic Republic of Congo\": \"COG\", \"Niger\": \"NER\", \"South Korea\": \"KOR\"}"
   ]
  },
  {
   "cell_type": "code",
   "execution_count": 35,
   "metadata": {},
   "outputs": [],
   "source": [
    "def update_wrong_country_codes(row):\n",
    "    if row['Country'] in correct_codes.keys():\n",
    "        row['country_code'] = correct_codes[row['Country']]\n",
    "    return row\n",
    "\n",
    "df = df.apply(lambda x: update_wrong_country_codes(x), axis=1)\n"
   ]
  },
  {
   "cell_type": "raw",
   "metadata": {},
   "source": [
    "We have input the missing values explicitly.So now let us plot again"
   ]
  },
  {
   "cell_type": "code",
   "execution_count": 36,
   "metadata": {},
   "outputs": [
    {
     "data": {
      "text/html": [
       "<div>\n",
       "        \n",
       "        \n",
       "            <div id=\"281a30d4-7322-4ae4-a50c-a9c19ad41874\" class=\"plotly-graph-div\" style=\"height:600px; width:100%;\"></div>\n",
       "            <script type=\"text/javascript\">\n",
       "                require([\"plotly\"], function(Plotly) {\n",
       "                    window.PLOTLYENV=window.PLOTLYENV || {};\n",
       "                    \n",
       "                if (document.getElementById(\"281a30d4-7322-4ae4-a50c-a9c19ad41874\")) {\n",
       "                    Plotly.newPlot(\n",
       "                        '281a30d4-7322-4ae4-a50c-a9c19ad41874',\n",
       "                        [{\"coloraxis\": \"coloraxis\", \"geo\": \"geo\", \"hoverlabel\": {\"namelength\": 0}, \"hovertemplate\": \"<b>%{hovertext}</b><br><br>country_code=%{location}<br>2017=%{z}\", \"hovertext\": [\"Afghanistan\", \"Africa\", \"Albania\", \"Algeria\", \"Andorra\", \"Angola\", \"Anguilla\", \"Antigua and Barbuda\", \"Argentina\", \"Armenia\", \"Aruba\", \"Australia\", \"Austria\", \"Azerbaijan\", \"Bahamas\", \"Bahrain\", \"Bangladesh\", \"Barbados\", \"Belarus\", \"Belgium\", \"Belize\", \"Benin\", \"Bermuda\", \"Bhutan\", \"Bolivia\", \"Bosnia and Herzegovina\", \"Botswana\", \"Brazil\", \"British Virgin Islands\", \"Brunei\", \"Bulgaria\", \"Burkina Faso\", \"Burundi\", \"Cambodia\", \"Cameroon\", \"Canada\", \"Cayman Islands\", \"Central African Republic\", \"Chad\", \"Chile\", \"China\", \"Christmas Island\", \"Colombia\", \"Comoros\", \"Congo\", \"Cook Islands\", \"Costa Rica\", \"Cote d'Ivoire\", \"Croatia\", \"Cuba\", \"Curacao\", \"Cyprus\", \"Czech Republic\", \"Democratic Republic of Congo\", \"Denmark\", \"Djibouti\", \"Dominica\", \"Dominican Republic\", \"Ecuador\", \"Egypt\", \"El Salvador\", \"Equatorial Guinea\", \"Eritrea\", \"Estonia\", \"Ethiopia\", \"Falkland Islands\", \"Fiji\", \"Finland\", \"France\", \"French Guiana\", \"French Polynesia\", \"Gabon\", \"Gambia\", \"Georgia\", \"Germany\", \"Ghana\", \"Gibraltar\", \"Greece\", \"Greenland\", \"Grenada\", \"Guadeloupe\", \"Guatemala\", \"Guinea\", \"Guinea-Bissau\", \"Guyana\", \"Haiti\", \"Honduras\", \"Hong Kong\", \"Hungary\", \"Iceland\", \"India\", \"Indonesia\", \"Iran\", \"Iraq\", \"Ireland\", \"Israel\", \"Italy\", \"Jamaica\", \"Japan\", \"Jordan\", \"Kazakhstan\", \"Kenya\", \"Kiribati\", \"Kuwait\", \"Kyrgyzstan\", \"Latvia\", \"Lebanon\", \"Lesotho\", \"Liberia\", \"Libya\", \"Liechtenstein\", \"Lithuania\", \"Luxembourg\", \"Macao\", \"Macedonia\", \"Madagascar\", \"Malawi\", \"Malaysia\", \"Maldives\", \"Mali\", \"Malta\", \"Marshall Islands\", \"Martinique\", \"Mauritania\", \"Mauritius\", \"Mexico\", \"Moldova\", \"Mongolia\", \"Montenegro\", \"Montserrat\", \"Morocco\", \"Mozambique\", \"Myanmar\", \"Namibia\", \"Nauru\", \"Nepal\", \"Netherlands\", \"New Caledonia\", \"New Zealand\", \"Nicaragua\", \"Niger\", \"Nigeria\", \"Niue\", \"Norway\", \"Oman\", \"Pakistan\", \"Palau\", \"Palestine\", \"Panama\", \"Papua New Guinea\", \"Paraguay\", \"Peru\", \"Philippines\", \"Poland\", \"Portugal\", \"Qatar\", \"Reunion\", \"Romania\", \"Russia\", \"Rwanda\", \"Saint Helena\", \"Saint Kitts and Nevis\", \"Saint Lucia\", \"Saint Pierre and Miquelon\", \"Saint Vincent and the Grenadines\", \"Samoa\", \"Sao Tome and Principe\", \"Saudi Arabia\", \"Senegal\", \"Serbia\", \"Seychelles\", \"Sierra Leone\", \"Singapore\", \"Sint Maarten (Dutch part)\", \"Slovakia\", \"Slovenia\", \"Solomon Islands\", \"Somalia\", \"South Africa\", \"South Korea\", \"South Sudan\", \"Spain\", \"Sri Lanka\", \"Sudan\", \"Suriname\", \"Sweden\", \"Switzerland\", \"Syria\", \"Taiwan\", \"Tajikistan\", \"Tanzania\", \"Thailand\", \"Timor\", \"Togo\", \"Tonga\", \"Trinidad and Tobago\", \"Tunisia\", \"Turkey\", \"Turkmenistan\", \"Turks and Caicos Islands\", \"Tuvalu\", \"Uganda\", \"Ukraine\", \"United Arab Emirates\", \"United Kingdom\", \"United States\", \"Uruguay\", \"Uzbekistan\", \"Vanuatu\", \"Venezuela\", \"Vietnam\", \"Yemen\", \"Zambia\", \"Zimbabwe\"], \"locations\": [\"AFG\", \"ZAF\", \"ALB\", \"DZA\", \"AND\", \"AGO\", \"AIA\", \"ATG\", \"ARG\", \"ARM\", \"ABW\", \"AUS\", \"AUT\", \"AZE\", \"BHS\", \"BHR\", \"BGD\", \"BRB\", \"BLR\", \"BEL\", \"BLZ\", \"BEN\", \"BMU\", \"BTN\", \"BOL\", \"BIH\", \"BWA\", \"BRA\", \"VGB\", \"BRN\", \"BGR\", \"BFA\", \"BDI\", \"KHM\", \"CMR\", \"CAN\", \"CYM\", \"CAF\", \"TCD\", \"CHL\", \"CHN\", \"CXR\", \"COL\", \"COM\", \"COD\", \"COK\", \"CRI\", \"CIV\", \"HRV\", \"CUB\", \"NLD\", \"CYP\", \"CZE\", \"COG\", \"DNK\", \"DJI\", \"DMA\", \"DOM\", \"ECU\", \"EGY\", \"SLV\", \"GNQ\", \"ERI\", \"EST\", \"ETH\", \"FLK\", \"FJI\", \"FIN\", \"FRA\", \"GUF\", \"PYF\", \"GAB\", \"GMB\", \"GEO\", \"DEU\", \"GHA\", \"GIB\", \"GRC\", \"GRL\", \"GRD\", \"FRA\", \"GTM\", \"GIN\", \"GNB\", \"GUY\", \"HTI\", \"HND\", \"HKG\", \"HUN\", \"ISL\", \"IND\", \"IDN\", \"IRN\", \"IRQ\", \"IRL\", \"ISR\", \"ITA\", \"JAM\", \"JPN\", \"JOR\", \"KAZ\", \"KEN\", \"KIR\", \"KWT\", \"KGZ\", \"LVA\", \"LBN\", \"LSO\", \"LBR\", \"LBY\", \"LIE\", \"LTU\", \"LUX\", \"MAC\", \"MKD\", \"MDG\", \"MWI\", \"MYS\", \"MDV\", \"MLI\", \"MLT\", \"MHL\", \"MTQ\", \"MRT\", \"MUS\", \"MEX\", \"MDA\", \"MNG\", \"MNE\", \"MSR\", \"MAR\", \"MOZ\", \"MMR\", \"NAM\", \"NRU\", \"NPL\", \"NLD\", \"NCL\", \"NZL\", \"NIC\", \"NER\", \"NGA\", \"NIU\", \"NOR\", \"OMN\", \"PAK\", \"PLW\", \"PSE\", \"PAN\", \"PNG\", \"PRY\", \"PER\", \"PHL\", \"POL\", \"PRT\", \"QAT\", \"REU\", \"ROU\", \"RUS\", \"RWA\", \"SHN\", \"KNA\", \"LCA\", \"SPM\", \"VCT\", \"WSM\", \"STP\", \"SAU\", \"SEN\", \"SRB\", \"SYC\", \"SLE\", \"SGP\", \"SXM\", \"SVK\", \"SVN\", \"SLB\", \"SOM\", \"ZAF\", \"KOR\", \"SSD\", \"ESP\", \"LKA\", \"SDN\", \"SUR\", \"SWE\", \"CHE\", \"SYR\", \"TWN\", \"TJK\", \"TZA\", \"THA\", \"TLS\", \"TGO\", \"TON\", \"TTO\", \"TUN\", \"TUR\", \"TKM\", \"TCA\", \"TUV\", \"UGA\", \"UKR\", \"ARE\", \"GBR\", \"USA\", \"URY\", \"UZB\", \"VUT\", \"VEN\", \"VNM\", \"YEM\", \"ZMB\", \"ZWE\"], \"name\": \"\", \"type\": \"choropleth\", \"z\": [178502925.0, 43117573841.0, 277278189.0, 4107869896.0, 13717377.0, 623762311.0, 3040078.0, 21756717.0, 7977373398.0, 273731872.0, 74231827.0, 17360810555.0, 5303713347.0, 2471780322.0, 157456745.0, 826530054.0, 1361147180.0, 51506565.0, 4058119852.0, 12257548524.0, 17162217.0, 98792204.0, 27146704.0, 13762670.0, 461310418.0, 839470358.0, 131552447.0, 14190905220.0, 4416724.0, 335970645.0, 3703285889.0, 50218081.0, 10728250.0, 105225247.0, 194766284.0, 31913521876.0, 14062432.0, 11448062.0, 14410061.0, 2657499285.0, 200000000000.0, 1330032.0, 3110040939.0, 4221082.0, 70573384.0, 2044872.0, 231692589.0, 303413163.0, 981746998.0, 1656996984.0, 416123737.0, 270926137.0, 8321584468.0, 186868045.0, 3991753370.0, 19174274.0, 3921840.0, 666238638.0, 1100685365.0, 5561231356.0, 213279980.0, 92146727.0, 16336483.0, 1147762306.0, 207190474.0, 4785184.0, 45160830.0, 3065528408.0, 37768075471.0, 21361120.0, 27182548.0, 245703654.0, 12030971.0, 593121176.0, 90565630028.0, 316321491.0, 11380384.0, 3884493460.0, 30246493.0, 7332340.0, 66083904.0, 404420205.0, 77269714.0, 9228086.0, 89660737.0, 69042835.0, 229623078.0, 1508760365.0, 4870991390.0, 141492956.0, 48557863281.0, 12430271016.0, 16580287145.0, 3983988823.0, 2112667064.0, 2221239489.0, 23645999964.0, 424398054.0, 62304608199.0, 614829331.0, 12300616894.0, 410113224.0, 1913895.0, 2626874527.0, 181734180.0, 618492628.0, 634652476.0, 56424722.0, 47905144.0, 1951955718.0, 2000665.0, 1015509983.0, 725159607.0, 51947913.0, 561863099.0, 83638600.0, 43051513.0, 5181419717.0, 19836857.0, 33149434.0, 97461275.0, 2266040.0, 70172928.0, 63673149.0, 102339737.0, 18971469004.0, 175514617.0, 536837014.0, 109622459.0, 1539754.0, 1589225046.0, 163105098.0, 484208427.0, 63941325.0, 4678403.0, 115699603.0, 11308449554.0, 133507792.0, 1779162164.0, 160721077.0, 44106013.0, 3372735176.0, 271579.0, 2585216441.0, 1071493410.0, 4360589827.0, 11012245.0, 48304340.0, 270033082.0, 152482152.0, 150098368.0, 1857299524.0, 2959759692.0, 26848816401.0, 2476694776.0, 1878554596.0, 90324928.0, 8323783409.0, 101000000000.0, 25185419.0, 346309.0, 5660325.0, 12036657.0, 3596642.0, 6228123.0, 6445614.0, 2954820.0, 13843097583.0, 203710385.0, 2381789224.0, 14863511.0, 35859969.0, 1936584508.0, 46502953.0, 2730069466.0, 756184328.0, 7165127.0, 31190568.0, 19787369762.0, 15786618228.0, 29721727.0, 14136085452.0, 436284059.0, 353794293.0, 104379605.0, 4858725461.0, 2918791195.0, 1762385573.0, 8050965637.0, 287463210.0, 203638082.0, 7013231542.0, 4729566.0, 62673116.0, 3965652.0, 1455796378.0, 808028626.0, 9602486274.0, 2183172085.0, 3318276.0, 256923.0, 95059160.0, 25796386297.0, 4154728973.0, 77071055648.0, 399000000000.0, 353071942.0, 6034285830.0, 4315060.0, 7571193371.0, 3016099138.0, 619432763.0, 187368600.0, 701987856.0]}],\n",
       "                        {\"coloraxis\": {\"colorbar\": {\"title\": {\"text\": \"2017\"}}, \"colorscale\": [[0.0, \"#0d0887\"], [0.1111111111111111, \"#46039f\"], [0.2222222222222222, \"#7201a8\"], [0.3333333333333333, \"#9c179e\"], [0.4444444444444444, \"#bd3786\"], [0.5555555555555556, \"#d8576b\"], [0.6666666666666666, \"#ed7953\"], [0.7777777777777778, \"#fb9f3a\"], [0.8888888888888888, \"#fdca26\"], [1.0, \"#f0f921\"]]}, \"geo\": {\"center\": {}, \"domain\": {\"x\": [0.0, 1.0], \"y\": [0.0, 1.0]}}, \"height\": 600, \"legend\": {\"tracegroupgap\": 0}, \"margin\": {\"t\": 60}, \"template\": {\"data\": {\"bar\": [{\"error_x\": {\"color\": \"#2a3f5f\"}, \"error_y\": {\"color\": \"#2a3f5f\"}, \"marker\": {\"line\": {\"color\": \"#E5ECF6\", \"width\": 0.5}}, \"type\": \"bar\"}], \"barpolar\": [{\"marker\": {\"line\": {\"color\": \"#E5ECF6\", \"width\": 0.5}}, \"type\": \"barpolar\"}], \"carpet\": [{\"aaxis\": {\"endlinecolor\": \"#2a3f5f\", \"gridcolor\": \"white\", \"linecolor\": \"white\", \"minorgridcolor\": \"white\", \"startlinecolor\": \"#2a3f5f\"}, \"baxis\": {\"endlinecolor\": \"#2a3f5f\", \"gridcolor\": \"white\", \"linecolor\": \"white\", \"minorgridcolor\": \"white\", \"startlinecolor\": \"#2a3f5f\"}, \"type\": \"carpet\"}], \"choropleth\": [{\"colorbar\": {\"outlinewidth\": 0, \"ticks\": \"\"}, \"type\": \"choropleth\"}], \"contour\": [{\"colorbar\": {\"outlinewidth\": 0, \"ticks\": \"\"}, \"colorscale\": [[0.0, \"#0d0887\"], [0.1111111111111111, \"#46039f\"], [0.2222222222222222, \"#7201a8\"], [0.3333333333333333, \"#9c179e\"], [0.4444444444444444, \"#bd3786\"], [0.5555555555555556, \"#d8576b\"], [0.6666666666666666, \"#ed7953\"], [0.7777777777777778, \"#fb9f3a\"], [0.8888888888888888, \"#fdca26\"], [1.0, \"#f0f921\"]], \"type\": \"contour\"}], \"contourcarpet\": [{\"colorbar\": {\"outlinewidth\": 0, \"ticks\": \"\"}, \"type\": \"contourcarpet\"}], \"heatmap\": [{\"colorbar\": {\"outlinewidth\": 0, \"ticks\": \"\"}, \"colorscale\": [[0.0, \"#0d0887\"], [0.1111111111111111, \"#46039f\"], [0.2222222222222222, \"#7201a8\"], [0.3333333333333333, \"#9c179e\"], [0.4444444444444444, \"#bd3786\"], [0.5555555555555556, \"#d8576b\"], [0.6666666666666666, \"#ed7953\"], [0.7777777777777778, \"#fb9f3a\"], [0.8888888888888888, \"#fdca26\"], [1.0, \"#f0f921\"]], \"type\": \"heatmap\"}], \"heatmapgl\": [{\"colorbar\": {\"outlinewidth\": 0, \"ticks\": \"\"}, \"colorscale\": [[0.0, \"#0d0887\"], [0.1111111111111111, \"#46039f\"], [0.2222222222222222, \"#7201a8\"], [0.3333333333333333, \"#9c179e\"], [0.4444444444444444, \"#bd3786\"], [0.5555555555555556, \"#d8576b\"], [0.6666666666666666, \"#ed7953\"], [0.7777777777777778, \"#fb9f3a\"], [0.8888888888888888, \"#fdca26\"], [1.0, \"#f0f921\"]], \"type\": \"heatmapgl\"}], \"histogram\": [{\"marker\": {\"colorbar\": {\"outlinewidth\": 0, \"ticks\": \"\"}}, \"type\": \"histogram\"}], \"histogram2d\": [{\"colorbar\": {\"outlinewidth\": 0, \"ticks\": \"\"}, \"colorscale\": [[0.0, \"#0d0887\"], [0.1111111111111111, \"#46039f\"], [0.2222222222222222, \"#7201a8\"], [0.3333333333333333, \"#9c179e\"], [0.4444444444444444, \"#bd3786\"], [0.5555555555555556, \"#d8576b\"], [0.6666666666666666, \"#ed7953\"], [0.7777777777777778, \"#fb9f3a\"], [0.8888888888888888, \"#fdca26\"], [1.0, \"#f0f921\"]], \"type\": \"histogram2d\"}], \"histogram2dcontour\": [{\"colorbar\": {\"outlinewidth\": 0, \"ticks\": \"\"}, \"colorscale\": [[0.0, \"#0d0887\"], [0.1111111111111111, \"#46039f\"], [0.2222222222222222, \"#7201a8\"], [0.3333333333333333, \"#9c179e\"], [0.4444444444444444, \"#bd3786\"], [0.5555555555555556, \"#d8576b\"], [0.6666666666666666, \"#ed7953\"], [0.7777777777777778, \"#fb9f3a\"], [0.8888888888888888, \"#fdca26\"], [1.0, \"#f0f921\"]], \"type\": \"histogram2dcontour\"}], \"mesh3d\": [{\"colorbar\": {\"outlinewidth\": 0, \"ticks\": \"\"}, \"type\": \"mesh3d\"}], \"parcoords\": [{\"line\": {\"colorbar\": {\"outlinewidth\": 0, \"ticks\": \"\"}}, \"type\": \"parcoords\"}], \"pie\": [{\"automargin\": true, \"type\": \"pie\"}], \"scatter\": [{\"marker\": {\"colorbar\": {\"outlinewidth\": 0, \"ticks\": \"\"}}, \"type\": \"scatter\"}], \"scatter3d\": [{\"line\": {\"colorbar\": {\"outlinewidth\": 0, \"ticks\": \"\"}}, \"marker\": {\"colorbar\": {\"outlinewidth\": 0, \"ticks\": \"\"}}, \"type\": \"scatter3d\"}], \"scattercarpet\": [{\"marker\": {\"colorbar\": {\"outlinewidth\": 0, \"ticks\": \"\"}}, \"type\": \"scattercarpet\"}], \"scattergeo\": [{\"marker\": {\"colorbar\": {\"outlinewidth\": 0, \"ticks\": \"\"}}, \"type\": \"scattergeo\"}], \"scattergl\": [{\"marker\": {\"colorbar\": {\"outlinewidth\": 0, \"ticks\": \"\"}}, \"type\": \"scattergl\"}], \"scattermapbox\": [{\"marker\": {\"colorbar\": {\"outlinewidth\": 0, \"ticks\": \"\"}}, \"type\": \"scattermapbox\"}], \"scatterpolar\": [{\"marker\": {\"colorbar\": {\"outlinewidth\": 0, \"ticks\": \"\"}}, \"type\": \"scatterpolar\"}], \"scatterpolargl\": [{\"marker\": {\"colorbar\": {\"outlinewidth\": 0, \"ticks\": \"\"}}, \"type\": \"scatterpolargl\"}], \"scatterternary\": [{\"marker\": {\"colorbar\": {\"outlinewidth\": 0, \"ticks\": \"\"}}, \"type\": \"scatterternary\"}], \"surface\": [{\"colorbar\": {\"outlinewidth\": 0, \"ticks\": \"\"}, \"colorscale\": [[0.0, \"#0d0887\"], [0.1111111111111111, \"#46039f\"], [0.2222222222222222, \"#7201a8\"], [0.3333333333333333, \"#9c179e\"], [0.4444444444444444, \"#bd3786\"], [0.5555555555555556, \"#d8576b\"], [0.6666666666666666, \"#ed7953\"], [0.7777777777777778, \"#fb9f3a\"], [0.8888888888888888, \"#fdca26\"], [1.0, \"#f0f921\"]], \"type\": \"surface\"}], \"table\": [{\"cells\": {\"fill\": {\"color\": \"#EBF0F8\"}, \"line\": {\"color\": \"white\"}}, \"header\": {\"fill\": {\"color\": \"#C8D4E3\"}, \"line\": {\"color\": \"white\"}}, \"type\": \"table\"}]}, \"layout\": {\"annotationdefaults\": {\"arrowcolor\": \"#2a3f5f\", \"arrowhead\": 0, \"arrowwidth\": 1}, \"coloraxis\": {\"colorbar\": {\"outlinewidth\": 0, \"ticks\": \"\"}}, \"colorscale\": {\"diverging\": [[0, \"#8e0152\"], [0.1, \"#c51b7d\"], [0.2, \"#de77ae\"], [0.3, \"#f1b6da\"], [0.4, \"#fde0ef\"], [0.5, \"#f7f7f7\"], [0.6, \"#e6f5d0\"], [0.7, \"#b8e186\"], [0.8, \"#7fbc41\"], [0.9, \"#4d9221\"], [1, \"#276419\"]], \"sequential\": [[0.0, \"#0d0887\"], [0.1111111111111111, \"#46039f\"], [0.2222222222222222, \"#7201a8\"], [0.3333333333333333, \"#9c179e\"], [0.4444444444444444, \"#bd3786\"], [0.5555555555555556, \"#d8576b\"], [0.6666666666666666, \"#ed7953\"], [0.7777777777777778, \"#fb9f3a\"], [0.8888888888888888, \"#fdca26\"], [1.0, \"#f0f921\"]], \"sequentialminus\": [[0.0, \"#0d0887\"], [0.1111111111111111, \"#46039f\"], [0.2222222222222222, \"#7201a8\"], [0.3333333333333333, \"#9c179e\"], [0.4444444444444444, \"#bd3786\"], [0.5555555555555556, \"#d8576b\"], [0.6666666666666666, \"#ed7953\"], [0.7777777777777778, \"#fb9f3a\"], [0.8888888888888888, \"#fdca26\"], [1.0, \"#f0f921\"]]}, \"colorway\": [\"#636efa\", \"#EF553B\", \"#00cc96\", \"#ab63fa\", \"#FFA15A\", \"#19d3f3\", \"#FF6692\", \"#B6E880\", \"#FF97FF\", \"#FECB52\"], \"font\": {\"color\": \"#2a3f5f\"}, \"geo\": {\"bgcolor\": \"white\", \"lakecolor\": \"white\", \"landcolor\": \"#E5ECF6\", \"showlakes\": true, \"showland\": true, \"subunitcolor\": \"white\"}, \"hoverlabel\": {\"align\": \"left\"}, \"hovermode\": \"closest\", \"mapbox\": {\"style\": \"light\"}, \"paper_bgcolor\": \"white\", \"plot_bgcolor\": \"#E5ECF6\", \"polar\": {\"angularaxis\": {\"gridcolor\": \"white\", \"linecolor\": \"white\", \"ticks\": \"\"}, \"bgcolor\": \"#E5ECF6\", \"radialaxis\": {\"gridcolor\": \"white\", \"linecolor\": \"white\", \"ticks\": \"\"}}, \"scene\": {\"xaxis\": {\"backgroundcolor\": \"#E5ECF6\", \"gridcolor\": \"white\", \"gridwidth\": 2, \"linecolor\": \"white\", \"showbackground\": true, \"ticks\": \"\", \"zerolinecolor\": \"white\"}, \"yaxis\": {\"backgroundcolor\": \"#E5ECF6\", \"gridcolor\": \"white\", \"gridwidth\": 2, \"linecolor\": \"white\", \"showbackground\": true, \"ticks\": \"\", \"zerolinecolor\": \"white\"}, \"zaxis\": {\"backgroundcolor\": \"#E5ECF6\", \"gridcolor\": \"white\", \"gridwidth\": 2, \"linecolor\": \"white\", \"showbackground\": true, \"ticks\": \"\", \"zerolinecolor\": \"white\"}}, \"shapedefaults\": {\"line\": {\"color\": \"#2a3f5f\"}}, \"ternary\": {\"aaxis\": {\"gridcolor\": \"white\", \"linecolor\": \"white\", \"ticks\": \"\"}, \"baxis\": {\"gridcolor\": \"white\", \"linecolor\": \"white\", \"ticks\": \"\"}, \"bgcolor\": \"#E5ECF6\", \"caxis\": {\"gridcolor\": \"white\", \"linecolor\": \"white\", \"ticks\": \"\"}}, \"title\": {\"x\": 0.05}, \"xaxis\": {\"automargin\": true, \"gridcolor\": \"white\", \"linecolor\": \"white\", \"ticks\": \"\", \"title\": {\"standoff\": 15}, \"zerolinecolor\": \"white\", \"zerolinewidth\": 2}, \"yaxis\": {\"automargin\": true, \"gridcolor\": \"white\", \"linecolor\": \"white\", \"ticks\": \"\", \"title\": {\"standoff\": 15}, \"zerolinecolor\": \"white\", \"zerolinewidth\": 2}}}},\n",
       "                        {\"responsive\": true}\n",
       "                    ).then(function(){\n",
       "                            \n",
       "var gd = document.getElementById('281a30d4-7322-4ae4-a50c-a9c19ad41874');\n",
       "var x = new MutationObserver(function (mutations, observer) {{\n",
       "        var display = window.getComputedStyle(gd).display;\n",
       "        if (!display || display === 'none') {{\n",
       "            console.log([gd, 'removed!']);\n",
       "            Plotly.purge(gd);\n",
       "            observer.disconnect();\n",
       "        }}\n",
       "}});\n",
       "\n",
       "// Listen for the removal of the full notebook cells\n",
       "var notebookContainer = gd.closest('#notebook-container');\n",
       "if (notebookContainer) {{\n",
       "    x.observe(notebookContainer, {childList: true});\n",
       "}}\n",
       "\n",
       "// Listen for the clearing of the current output cell\n",
       "var outputEl = gd.closest('.output');\n",
       "if (outputEl) {{\n",
       "    x.observe(outputEl, {childList: true});\n",
       "}}\n",
       "\n",
       "                        })\n",
       "                };\n",
       "                });\n",
       "            </script>\n",
       "        </div>"
      ]
     },
     "metadata": {},
     "output_type": "display_data"
    }
   ],
   "source": [
    "plot_df = df.dropna()\n",
    "fig = px.choropleth(plot_df, locations=\"country_code\",\n",
    "                    color=\"2017\",\n",
    "                    hover_name=\"Country\",\n",
    "                    color_continuous_scale=px.colors.sequential.Plasma)\n",
    "fig.show()"
   ]
  },
  {
   "cell_type": "code",
   "execution_count": null,
   "metadata": {},
   "outputs": [],
   "source": []
  },
  {
   "cell_type": "raw",
   "metadata": {},
   "source": []
  },
  {
   "cell_type": "code",
   "execution_count": null,
   "metadata": {},
   "outputs": [],
   "source": []
  },
  {
   "cell_type": "markdown",
   "metadata": {},
   "source": [
    "##Now let us try to consider commulative emmisions for some major countries  "
   ]
  },
  {
   "cell_type": "code",
   "execution_count": 37,
   "metadata": {},
   "outputs": [],
   "source": [
    "cummulative_em = df2.set_index('Year')\n",
    "cummulative_em = cummulative_em.cumsum()\n",
    "cummulative_em = cummulative_em.reset_index()"
   ]
  },
  {
   "cell_type": "code",
   "execution_count": 38,
   "metadata": {
    "scrolled": false
   },
   "outputs": [
    {
     "data": {
      "image/png": "[encoded data removed]",
      "text/plain": [
       "<Figure size 432x288 with 1 Axes>"
      ]
     },
     "metadata": {
      "needs_background": "light"
     },
     "output_type": "display_data"
    }
   ],
   "source": [
    "sns.lineplot(x = cummulative_em['Year'], y = cummulative_em['World'],label = 'world')\n",
    "sns.lineplot(x = cummulative_em['Year'], y = cummulative_em['United States'],label =\"US\")\n",
    "sns.lineplot(x = cummulative_em['Year'], y = cummulative_em['EU-28'],label = \"Europe\")\n",
    "plt.show()"
   ]
  },
  {
   "cell_type": "raw",
   "metadata": {},
   "source": [
    "Now this is interesting.US is behind in cummulative CO2 emmisions than Europe even though currently it is biggest emmiter for year 2017.This just shows Europe started in Industrial evolution much before US.Also keep in mindwe are only comparing 28 nations of Europe."
   ]
  },
  {
   "cell_type": "markdown",
   "metadata": {},
   "source": [
    "### Now let us compare these nations with nations like China,India and russia"
   ]
  },
  {
   "cell_type": "code",
   "execution_count": 39,
   "metadata": {},
   "outputs": [
    {
     "data": {
      "image/png": "[encoded data removed]",
      "text/plain": [
       "<Figure size 432x288 with 1 Axes>"
      ]
     },
     "metadata": {
      "needs_background": "light"
     },
     "output_type": "display_data"
    }
   ],
   "source": [
    "\n",
    "sns.lineplot(x = cummulative_em['Year'], y = cummulative_em['United States'],label =\"US\")\n",
    "sns.lineplot(x = cummulative_em['Year'], y = cummulative_em['EU-28'],label = \"Europe\")\n",
    "sns.lineplot(x = cummulative_em['Year'], y = cummulative_em['China'],label = \"China\")\n",
    "sns.lineplot(x = cummulative_em['Year'], y = cummulative_em['Russia'],label = \"Russia\")\n",
    "sns.lineplot(x = cummulative_em['Year'], y = cummulative_em['India'],label = \"India\")\n",
    "plt.show()"
   ]
  },
  {
   "cell_type": "raw",
   "metadata": {},
   "source": [
    "Seems like Developing countries have emmited nowhere near as much cummulatively as US or Europe.Now lets try one thing.lets add cummulative emmisions of all BRICS countries and compare with EU-28 and US"
   ]
  },
  {
   "cell_type": "code",
   "execution_count": 40,
   "metadata": {},
   "outputs": [],
   "source": [
    "cummulative_em['BRICS'] = cummulative_em['Brazil']+cummulative_em[\"China\"]+cummulative_em['India']+cummulative_em['Russia']+cummulative_em['South Africa']"
   ]
  },
  {
   "cell_type": "code",
   "execution_count": 41,
   "metadata": {},
   "outputs": [
    {
     "data": {
      "text/plain": [
       "<matplotlib.axes._subplots.AxesSubplot at 0x7f3cdc0089e8>"
      ]
     },
     "execution_count": 41,
     "metadata": {},
     "output_type": "execute_result"
    },
    {
     "data": {
      "image/png": "[encoded data removed]",
      "text/plain": [
       "<Figure size 432x288 with 1 Axes>"
      ]
     },
     "metadata": {
      "needs_background": "light"
     },
     "output_type": "display_data"
    }
   ],
   "source": [
    "sns.lineplot(x = cummulative_em['Year'], y = cummulative_em['United States'],label =\"US\")\n",
    "sns.lineplot(x = cummulative_em['Year'], y = cummulative_em['EU-28'],label = \"Europe\")\n",
    "sns.lineplot(x = cummulative_em['Year'], y = cummulative_em['BRICS'],label = \"BRICS\")"
   ]
  },
  {
   "cell_type": "code",
   "execution_count": null,
   "metadata": {},
   "outputs": [],
   "source": []
  },
  {
   "cell_type": "code",
   "execution_count": 0,
   "metadata": {
    "_cell_guid": "",
    "_uuid": ""
   },
   "outputs": [],
   "source": []
  }
 ],
 "metadata": {
  "kernelspec": {
   "display_name": "Python 3 (ipykernel)",
   "language": "python",
   "name": "python3"
  },
  "language_info": {
   "codemirror_mode": {
    "name": "ipython",
    "version": 3
   },
   "file_extension": ".py",
   "mimetype": "text/x-python",
   "name": "python",
   "nbconvert_exporter": "python",
   "pygments_lexer": "ipython3",
   "version": "3.7.9"
  }
 },
 "nbformat": 4,
 "nbformat_minor": 1
}
