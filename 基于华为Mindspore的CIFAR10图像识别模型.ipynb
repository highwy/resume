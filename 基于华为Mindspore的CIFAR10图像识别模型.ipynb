{
 "cells": [
  {
   "cell_type": "markdown",
   "id": "31396e78",
   "metadata": {},
   "source": [
    "## 来源《高级人工智能课程》作业"
   ]
  },
  {
   "cell_type": "code",
   "execution_count": 1,
   "id": "a4055d22",
   "metadata": {},
   "outputs": [
    {
     "name": "stdout",
     "output_type": "stream",
     "text": [
      "--2022-04-23 21:21:27--  https://www.cs.toronto.edu/~kriz/cifar-10-binary.tar.gz\n",
      "Resolving proxy-notebook.modelarts-dev-proxy.com (proxy-notebook.modelarts-dev-proxy.com)... 192.168.0.172\n",
      "Connecting to proxy-notebook.modelarts-dev-proxy.com (proxy-notebook.modelarts-dev-proxy.com)|192.168.0.172|:8083... connected.\n",
      "Proxy request sent, awaiting response... 200 OK\n",
      "Length: 170052171 (162M) [application/x-gzip]\n",
      "Saving to: ‘cifar-10-binary.tar.gz’\n",
      "\n",
      "cifar-10-binary.tar 100%[===================>] 162.17M  6.48MB/s    in 27s     \n",
      "\n",
      "2022-04-23 21:21:55 (6.07 MB/s) - ‘cifar-10-binary.tar.gz’ saved [170052171/170052171]\n",
      "\n"
     ]
    }
   ],
   "source": [
    "!wget --no-check-certificate https://www.cs.toronto.edu/~kriz/cifar-10-binary.tar.gz\n"
   ]
  },
  {
   "cell_type": "code",
   "execution_count": 2,
   "id": "14939749",
   "metadata": {},
   "outputs": [
    {
     "name": "stdout",
     "output_type": "stream",
     "text": [
      "cifar-10-batches-bin/\n",
      "cifar-10-batches-bin/data_batch_1.bin\n",
      "cifar-10-batches-bin/batches.meta.txt\n",
      "cifar-10-batches-bin/data_batch_3.bin\n",
      "cifar-10-batches-bin/data_batch_4.bin\n",
      "cifar-10-batches-bin/test_batch.bin\n",
      "cifar-10-batches-bin/readme.html\n",
      "cifar-10-batches-bin/data_batch_5.bin\n",
      "cifar-10-batches-bin/data_batch_2.bin\n"
     ]
    }
   ],
   "source": [
    "!tar -zvxf cifar-10-binary.tar.gz\n"
   ]
  },
  {
   "cell_type": "code",
   "execution_count": 3,
   "id": "826faf68",
   "metadata": {},
   "outputs": [],
   "source": [
    "import os\n",
    "import random\n",
    "import argparse\n",
    "import numpy as np\n",
    "import matplotlib.pyplot as plt\n",
    "from mindspore import dtype as mstype\n",
    "import mindspore.dataset as ds\n",
    "import mindspore.dataset.vision.c_transforms as C\n",
    "import mindspore.dataset.transforms.c_transforms as C2\n",
    "from mindspore.nn.loss import SoftmaxCrossEntropyWithLogits\n",
    "from mindspore.communication.management import init\n",
    "from mindspore.nn.optim.momentum import Momentum\n",
    "from mindspore import Model, context\n",
    "from mindspore.context import ParallelMode\n",
    "from mindspore.train.callback import ModelCheckpoint, CheckpointConfig, LossMonitor\n",
    "from mindspore import load_checkpoint, load_param_into_net\n",
    "from mindspore.parallel._auto_parallel_context import auto_parallel_context"
   ]
  },
  {
   "cell_type": "code",
   "execution_count": 4,
   "id": "d98b2872",
   "metadata": {},
   "outputs": [],
   "source": [
    "cifar_ds = ds.Cifar10Dataset('./cifar-10-batches-bin')\n"
   ]
  },
  {
   "cell_type": "code",
   "execution_count": 5,
   "id": "3584e1aa",
   "metadata": {},
   "outputs": [
    {
     "name": "stdout",
     "output_type": "stream",
     "text": [
      "The type of mnist_ds: <class 'mindspore.dataset.engine.datasets.Cifar10Dataset'>\n",
      "Number of pictures contained in the cifar_ds： 60000\n",
      "The item of mnist_ds: dict_keys(['image', 'label'])\n",
      "Tensor of image in item: (32, 32, 3)\n",
      "The label of item: 0\n"
     ]
    },
    {
     "data": {
      "image/png": "[encoded data removed]",
      "text/plain": [
       "<Figure size 640x480 with 1 Axes>"
      ]
     },
     "metadata": {},
     "output_type": "display_data"
    }
   ],
   "source": [
    "print('The type of mnist_ds:', type(cifar_ds))\n",
    "print(\"Number of pictures contained in the cifar_ds：\",\n",
    "      cifar_ds.get_dataset_size())\n",
    "#迭代器读取数据\n",
    "dic_ds = cifar_ds.create_dict_iterator()\n",
    "item = next(dic_ds)\n",
    "img = item[\"image\"].asnumpy()\n",
    "label = item[\"label\"].asnumpy()\n",
    "#打印数据集信息 并可视化\n",
    "print(\"The item of mnist_ds:\", item.keys())\n",
    "print(\"Tensor of image in item:\", img.shape)\n",
    "print(\"The label of item:\", label)\n",
    "plt.imshow(np.squeeze(img))\n",
    "plt.title(\"number:%s\"% item[\"label\"].asnumpy())\n",
    "plt.show()"
   ]
  },
  {
   "cell_type": "code",
   "execution_count": 6,
   "id": "6415f6b3",
   "metadata": {},
   "outputs": [],
   "source": [
    "\"\"\"\n",
    "-------定义dataset（dataloader）-----\n",
    "\"\"\"\n",
    "import mindspore.dataset.vision.c_transforms as CV\n",
    "import mindspore.dataset.transforms.c_transforms as C\n",
    "from mindspore.dataset.vision import Inter\n",
    "from mindspore import dtype as mstype\n",
    "\n",
    "def create_dataset(data_path, batch_size=32, repeat_size=1,\n",
    "                   num_parallel_workers=1):\n",
    "    #调用API读取MNIST数据集合\n",
    "    cifar_ds = ds.Cifar10Dataset('./cifar-10-batches-bin')\n",
    "    resize_height, resize_width = 32, 32\n",
    "    rescale = 1.0 / 255.0\n",
    "    shift = 0.0\n",
    "    rescale_nml = 1 / 0.3081\n",
    "    shift_nml = -1 * 0.1307 / 0.3081\n",
    "    #根据上面设置的参数阐释增强数据过程\n",
    "    resize_op = CV.Resize((resize_height, resize_width), interpolation=Inter.LINEAR)\n",
    "    rescale_nml_op = CV.Rescale(rescale_nml, shift_nml)\n",
    "    rescale_op = CV.Rescale(rescale, shift)\n",
    "    hwc2chw_op = CV.HWC2CHW()\n",
    "    type_cast_op = C.TypeCast(mstype.int32)\n",
    "    #使用map函数对数据集进行操作\n",
    "    cifar_ds = cifar_ds.map(operations=type_cast_op, input_columns=\"label\",\n",
    "                            num_parallel_workers=num_parallel_workers)\n",
    "    cifar_ds = cifar_ds.map(operations=resize_op, input_columns=\"image\",\n",
    "                            num_parallel_workers=num_parallel_workers)\n",
    "    cifar_ds = cifar_ds.map(operations=rescale_op, input_columns=\"image\",\n",
    "                            num_parallel_workers=num_parallel_workers)\n",
    "    cifar_ds = cifar_ds.map(operations=rescale_nml_op, input_columns=\"image\",\n",
    "                            num_parallel_workers=num_parallel_workers)\n",
    "    cifar_ds = cifar_ds.map(operations=hwc2chw_op, input_columns=\"image\",\n",
    "                            num_parallel_workers=num_parallel_workers)\n",
    "    # 设置数据读取，比如是否随机，批次量多少，数据量加倍\n",
    "    buffer_size = 10000\n",
    "    cifar_ds = cifar_ds.shuffle(buffer_size=buffer_size)\n",
    "    cifar_ds = cifar_ds.batch(batch_size, drop_remainder=True)\n",
    "    cifar_ds = cifar_ds.repeat(repeat_size)\n",
    "    return cifar_ds\n"
   ]
  },
  {
   "cell_type": "code",
   "execution_count": null,
   "id": "891967ab",
   "metadata": {},
   "outputs": [],
   "source": [
    "# https://bbs.huaweicloud.com/forum/thread-179977-1-1.html"
   ]
  },
  {
   "cell_type": "code",
   "execution_count": 7,
   "id": "1239f1bc",
   "metadata": {},
   "outputs": [
    {
     "name": "stdout",
     "output_type": "stream",
     "text": [
      "Number of groups in the dataset: 1875\n",
      "Tensor of image: (32, 3, 32, 32)\n",
      "Labels: [2 7 0 9 1 6 6 3 3 3 3 5 0 9 0 0 1 1 5 2 0 7 9 7 2 2 3 6 0 2 3 1]\n"
     ]
    }
   ],
   "source": [
    "#初始化dataset并查看内容\n",
    "ms_dataset = create_dataset('./cifar-10-batches-bin')\n",
    "print('Number of groups in the dataset:', ms_dataset.get_dataset_size())\n",
    "\n",
    "\"\"\"\n",
    "-------利用next获取样本并查看单个样本格式------\n",
    "\"\"\"\n",
    "data =next(ms_dataset.create_dict_iterator(output_numpy=True))#填写\n",
    "images = data['image']#填写\n",
    "labels =data['label']#填写\n",
    "print('Tensor of image:', images.shape)\n",
    "print('Labels:', labels)"
   ]
  },
  {
   "cell_type": "code",
   "execution_count": 17,
   "id": "27f214f7",
   "metadata": {},
   "outputs": [],
   "source": [
    "import mindspore.nn as nn\n",
    "from mindspore.common.initializer import Normal\n",
    "class AnnNet(nn.Cell):\n",
    "    \"\"\"Lenet network structure.\"\"\"\n",
    "    # define the operator required\n",
    "    def __init__(self, num_class=10, num_channel=1):\n",
    "        super(AnnNet, self).__init__()\n",
    "        self.fc1=nn.Dense(32*32*3,100,weight_init=Normal(0.02))\n",
    "        self.fc2=nn.Dense(100,50,weight_init=Normal(0.02))\n",
    "        self.fc3=nn.Dense(50,20,weight_init=Normal(0.02))\n",
    "        self.relu=nn.ReLU()\n",
    "        self.tanh=nn.Tanh()\n",
    "        self.flatten=nn.Flatten()\n",
    "\n",
    "    # use the preceding operators to construct networks\n",
    "    def construct(self, x):\n",
    "        x=self.flatten(x)\n",
    "        x=self.relu(self.fc1(x))\n",
    "        x = self.tanh(self.fc2(x))\n",
    "        x=self.tanh(self.fc3(x))\n",
    "        return x\n"
   ]
  },
  {
   "cell_type": "code",
   "execution_count": 18,
   "id": "17912800",
   "metadata": {},
   "outputs": [],
   "source": [
    "network = AnnNet()"
   ]
  },
  {
   "cell_type": "code",
   "execution_count": 19,
   "id": "8223f333",
   "metadata": {},
   "outputs": [],
   "source": [
    "from mindspore.train.callback import Callback\n",
    "#自定义CallBlack函数\n",
    "# 记录损失和精度\n",
    "class StepLossAccInfo(Callback):\n",
    "    def __init__(self, model, eval_dataset, steps_loss, steps_eval):\n",
    "        self.model = model\n",
    "        self.eval_dataset = eval_dataset\n",
    "        self.steps_loss = steps_loss\n",
    "        self.steps_eval = steps_eval\n",
    "    def step_end(self, run_context):\n",
    "        cb_params = run_context.original_args()\n",
    "        cur_epoch = cb_params.cur_epoch_num\n",
    "        cur_step = (cur_epoch-1)*1875 + cb_params.cur_step_num\n",
    "        self.steps_loss[\"loss_value\"].append(str(cb_params.net_outputs))\n",
    "        self.steps_loss[\"step\"].append(str(cur_step))\n",
    "        if cur_step % 125 == 0:\n",
    "            acc = self.model.eval(self.eval_dataset, dataset_sink_mode=False)\n",
    "            self.steps_eval[\"step\"].append(cur_step)\n",
    "            self.steps_eval[\"acc\"].append(acc[\"Accuracy\"])"
   ]
  },
  {
   "cell_type": "code",
   "execution_count": 20,
   "id": "0490a51d",
   "metadata": {},
   "outputs": [],
   "source": [
    "import os\n",
    "from mindspore import Tensor, Model\n",
    "from mindspore.train.callback import ModelCheckpoint, CheckpointConfig, LossMonitor\n",
    "from mindspore.nn import Accuracy\n",
    "network = AnnNet()\n",
    "epoch_size = 30\n",
    "momentum=0.9\n",
    "lr=0.01\n",
    "mnist_path =r\"\\datasets\\MNIST_Data\" #这里填写你的数据集路径\n",
    "model_path =r\"./\"#模型保存路径\n",
    "train_data_path = r\"'./cifar-10-batches-bin'\"\n",
    "test_data_path = r\"'./cifar-10-batches-bin'\"\n",
    "net_loss=SoftmaxCrossEntropyWithLogits(sparse=True,reduction='mean')\n",
    "net_opt=nn.Momentum(network.trainable_params(),lr,momentum)\n",
    "\n",
    "repeat_size = 1\n",
    "ds_train = create_dataset(os.path.join(mnist_path, \"train\"), 256, repeat_size) # V100直接上512\n",
    "eval_dataset = create_dataset(os.path.join(mnist_path, \"test\"), 256)"
   ]
  },
  {
   "cell_type": "code",
   "execution_count": 21,
   "id": "c3b9a293",
   "metadata": {},
   "outputs": [],
   "source": [
    "# 使用Model定义模型，这个模型包括损失函数，优化器，网络结构，\n",
    "model =Model(network,net_loss,net_opt,metrics={'Accuracy':Accuracy()})#填写\n",
    "# 保存模型和参数\n",
    "config_ck =CheckpointConfig(save_checkpoint_steps=375,keep_checkpoint_max=16)#使用Checkpoint设置保存模型\n",
    "ckpoint_cb =ModelCheckpoint(prefix=\"checkpoint_lenet\",directory=model_path,config=config_ck)#使用ModelCheckpoint设置保存模型的名称地址等信息\n",
    "steps_loss = {\"step\": [], \"loss_value\": []}\n",
    "steps_eval = {\"step\": [], \"acc\": []}\n",
    "# 保存每一步step,以及对应的损失和准确率信息"
   ]
  },
  {
   "cell_type": "code",
   "execution_count": 22,
   "id": "5147138b",
   "metadata": {},
   "outputs": [
    {
     "name": "stdout",
     "output_type": "stream",
     "text": [
      "epoch: 1 step: 125, loss is 2.4356012\n",
      "epoch: 2 step: 16, loss is 2.432759\n",
      "epoch: 2 step: 141, loss is 2.4318266\n",
      "epoch: 3 step: 32, loss is 2.431239\n",
      "epoch: 3 step: 157, loss is 2.431046\n",
      "epoch: 4 step: 48, loss is 2.4306462\n",
      "epoch: 4 step: 173, loss is 2.4308598\n",
      "epoch: 5 step: 64, loss is 2.4303794\n",
      "epoch: 5 step: 189, loss is 2.4302945\n",
      "epoch: 6 step: 80, loss is 2.4301572\n",
      "epoch: 6 step: 205, loss is 2.4302328\n",
      "epoch: 7 step: 96, loss is 2.4302428\n",
      "epoch: 7 step: 221, loss is 2.430061\n",
      "epoch: 8 step: 112, loss is 2.4300303\n",
      "epoch: 9 step: 3, loss is 2.4299219\n",
      "epoch: 9 step: 128, loss is 2.429949\n",
      "epoch: 10 step: 19, loss is 2.4299235\n",
      "epoch: 10 step: 144, loss is 2.4297874\n",
      "epoch: 11 step: 35, loss is 2.4299452\n",
      "epoch: 11 step: 160, loss is 2.4298472\n",
      "epoch: 12 step: 51, loss is 2.4301097\n",
      "epoch: 12 step: 176, loss is 2.429666\n",
      "epoch: 13 step: 67, loss is 2.4298244\n",
      "epoch: 13 step: 192, loss is 2.4298034\n",
      "epoch: 14 step: 83, loss is 2.4297917\n",
      "epoch: 14 step: 208, loss is 2.4298859\n",
      "epoch: 15 step: 99, loss is 2.429621\n",
      "epoch: 15 step: 224, loss is 2.4303079\n",
      "epoch: 16 step: 115, loss is 2.4302874\n",
      "epoch: 17 step: 6, loss is 2.4293125\n",
      "epoch: 17 step: 131, loss is 2.4260497\n",
      "epoch: 18 step: 22, loss is 2.419824\n",
      "epoch: 18 step: 147, loss is 2.3993783\n",
      "epoch: 19 step: 38, loss is 2.4017127\n",
      "epoch: 19 step: 163, loss is 2.342163\n",
      "epoch: 20 step: 54, loss is 2.3724809\n",
      "epoch: 20 step: 179, loss is 2.3827717\n",
      "epoch: 21 step: 70, loss is 2.3701425\n",
      "epoch: 21 step: 195, loss is 2.3168032\n",
      "epoch: 22 step: 86, loss is 2.3622406\n",
      "epoch: 22 step: 211, loss is 2.3232646\n",
      "epoch: 23 step: 102, loss is 2.3255296\n",
      "epoch: 23 step: 227, loss is 2.3510125\n",
      "epoch: 24 step: 118, loss is 2.3095517\n",
      "epoch: 25 step: 9, loss is 2.2974727\n",
      "epoch: 25 step: 134, loss is 2.3311822\n",
      "epoch: 26 step: 25, loss is 2.2989378\n",
      "epoch: 26 step: 150, loss is 2.2921402\n",
      "epoch: 27 step: 41, loss is 2.2915757\n",
      "epoch: 27 step: 166, loss is 2.2536006\n",
      "epoch: 28 step: 57, loss is 2.146645\n",
      "epoch: 28 step: 182, loss is 2.12418\n",
      "epoch: 29 step: 73, loss is 2.1070783\n",
      "epoch: 29 step: 198, loss is 2.1572287\n",
      "epoch: 30 step: 89, loss is 2.1244206\n",
      "epoch: 30 step: 214, loss is 2.0657034\n"
     ]
    },
    {
     "data": {
      "image/png": "[encoded data removed]",
      "text/plain": [
       "<Figure size 640x480 with 1 Axes>"
      ]
     },
     "metadata": {},
     "output_type": "display_data"
    }
   ],
   "source": [
    "step_loss_acc_info = StepLossAccInfo(model,eval_dataset,steps_loss,steps_eval)#使用StepLossAccInfo类\n",
    "#填写训练模型\n",
    "model.train(epoch_size,ds_train,callbacks=[ckpoint_cb,LossMonitor(125),step_loss_acc_info],dataset_sink_mode=False)\n",
    "\"\"\"\n",
    "-------打印想训练过程-----\n",
    "\"\"\"\n",
    "\n",
    "steps = steps_loss[\"step\"]\n",
    "loss_value = steps_loss[\"loss_value\"]\n",
    "steps = list(map(int, steps))\n",
    "loss_value = list(map(float, loss_value))\n",
    "plt.plot(steps, loss_value, color=\"red\")\n",
    "plt.xlabel(\"Steps\")\n",
    "plt.ylabel(\"Loss_value\")\n",
    "plt.title(\"Change chart of model loss value\")\n",
    "plt.show()"
   ]
  },
  {
   "cell_type": "code",
   "execution_count": 30,
   "id": "634c4c0c",
   "metadata": {},
   "outputs": [
    {
     "name": "stdout",
     "output_type": "stream",
     "text": [
      "============== Accuracy:{'Accuracy': 0.43} ==============\n",
      "============== Starting Testing ==============\n"
     ]
    }
   ],
   "source": [
    "\"\"\"\n",
    "------在测试集上验证模型-----\n",
    "\"\"\"\n",
    "from mindspore import load_checkpoint, load_param_into_net\n",
    "#定义验证函数\n",
    "def test_net(network, model, mnist_path):\n",
    "    print(\"============== Starting Testing ==============\")\n",
    "    #填写  加载保存的模型\n",
    "param_dict = load_checkpoint('./checkpoint_lenet-30_234.ckpt')#填写\n",
    "load_param_into_net(network,param_dict)\n",
    "ds_eval = create_dataset(mnist_path) #填写  创建测试集dataloader\n",
    "acc =model.eval(ds_eval,dataset_sink_mode=False)#填写  输入模型获取精度\n",
    "print(\"============== Accuracy:{} ==============\".format(acc))\n",
    "test_net(network, model, mnist_path)"
   ]
  }
 ],
 "metadata": {
  "kernelspec": {
   "display_name": "gpu",
   "language": "python",
   "name": "gpu"
  },
  "language_info": {
   "codemirror_mode": {
    "name": "ipython",
    "version": 3
   },
   "file_extension": ".py",
   "mimetype": "text/x-python",
   "name": "python",
   "nbconvert_exporter": "python",
   "pygments_lexer": "ipython3",
   "version": "3.7.9"
  }
 },
 "nbformat": 4,
 "nbformat_minor": 5
}
